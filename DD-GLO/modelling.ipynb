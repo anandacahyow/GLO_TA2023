{
 "cells": [
  {
   "cell_type": "code",
   "execution_count": 1,
   "metadata": {},
   "outputs": [
    {
     "name": "stderr",
     "output_type": "stream",
     "text": [
      "c:\\Users\\ASUS\\AppData\\Local\\Programs\\Python\\Python39\\lib\\site-packages\\scipy\\__init__.py:146: UserWarning: A NumPy version >=1.16.5 and <1.23.0 is required for this version of SciPy (detected version 1.23.5\n",
      "  warnings.warn(f\"A NumPy version >={np_minversion} and <{np_maxversion}\"\n"
     ]
    }
   ],
   "source": [
    "import numpy as np\n",
    "import matplotlib.pyplot as plt\n",
    "import pandas as pd\n",
    "from pandas import read_csv\n",
    "import math\n",
    "\n",
    "from keras.models import Sequential\n",
    "from keras.layers import Dense\n",
    "from keras.layers import LSTM\n",
    "from sklearn.preprocessing import MinMaxScaler\n",
    "from sklearn.metrics import mean_squared_error\n",
    "from keras.layers.core import Dense, Activation, Dropout\n",
    "import time #helper libraries\n"
   ]
  },
  {
   "cell_type": "code",
   "execution_count": 27,
   "metadata": {},
   "outputs": [],
   "source": [
    "df1 = pd.read_csv('well2.csv')  # bisa sorted or not]\n",
    "#print(df1.head())\n",
    "\n",
    "x = df1['GLIR'].values\n",
    "y = df1['Qo'].values\n",
    "\n",
    "x = x[69:]\n",
    "y = y[69:]"
   ]
  },
  {
   "cell_type": "code",
   "execution_count": 28,
   "metadata": {},
   "outputs": [],
   "source": [
    "dataset_glir = x.reshape(-1, 1)\n",
    "dataset_qo = y.reshape(-1,1)\n",
    "\n",
    "# normalize the dataset\n",
    "scaler = MinMaxScaler(feature_range=(0, 1))\n",
    "dataset_glir = scaler.fit_transform(dataset_glir)\n",
    "dataset_qo = scaler.fit_transform(dataset_qo)"
   ]
  },
  {
   "cell_type": "code",
   "execution_count": 29,
   "metadata": {},
   "outputs": [],
   "source": [
    "size = 0.5\n",
    "train_size = int(len(dataset_glir) * size)\n",
    "test_size = len(dataset_glir) - train_size\n",
    "train, test = dataset_glir[0:train_size,:], dataset_glir[train_size:len(dataset_glir),:]\n",
    "\n",
    "train_size2 = int(len(dataset_qo) * size)\n",
    "test_size2 = len(dataset_qo) - train_size2\n",
    "train2, test2 = dataset_qo[0:train_size2,:], dataset_qo[train_size2:len(dataset_qo),:]"
   ]
  },
  {
   "cell_type": "code",
   "execution_count": 30,
   "metadata": {},
   "outputs": [
    {
     "data": {
      "text/plain": [
       "52"
      ]
     },
     "execution_count": 30,
     "metadata": {},
     "output_type": "execute_result"
    }
   ],
   "source": [
    "len(test2)"
   ]
  },
  {
   "cell_type": "code",
   "execution_count": 31,
   "metadata": {},
   "outputs": [
    {
     "name": "stdout",
     "output_type": "stream",
     "text": [
      "Epoch 1/100\n",
      "2/2 [==============================] - 5s 9ms/step - loss: 0.5212\n",
      "Epoch 2/100\n",
      "2/2 [==============================] - 0s 8ms/step - loss: 0.5149\n",
      "Epoch 3/100\n",
      "2/2 [==============================] - 0s 16ms/step - loss: 0.5091\n",
      "Epoch 4/100\n",
      "2/2 [==============================] - 0s 14ms/step - loss: 0.5028\n",
      "Epoch 5/100\n",
      "2/2 [==============================] - 0s 8ms/step - loss: 0.4967\n",
      "Epoch 6/100\n",
      "2/2 [==============================] - 0s 12ms/step - loss: 0.4896\n",
      "Epoch 7/100\n",
      "2/2 [==============================] - 0s 8ms/step - loss: 0.4841\n",
      "Epoch 8/100\n",
      "2/2 [==============================] - 0s 16ms/step - loss: 0.4773\n",
      "Epoch 9/100\n",
      "2/2 [==============================] - 0s 5ms/step - loss: 0.4729\n",
      "Epoch 10/100\n",
      "2/2 [==============================] - 0s 9ms/step - loss: 0.4661\n",
      "Epoch 11/100\n",
      "2/2 [==============================] - 0s 13ms/step - loss: 0.4597\n",
      "Epoch 12/100\n",
      "2/2 [==============================] - 0s 9ms/step - loss: 0.4535\n",
      "Epoch 13/100\n",
      "2/2 [==============================] - 0s 8ms/step - loss: 0.4459\n",
      "Epoch 14/100\n",
      "2/2 [==============================] - 0s 8ms/step - loss: 0.4418\n",
      "Epoch 15/100\n",
      "2/2 [==============================] - 0s 8ms/step - loss: 0.4332\n",
      "Epoch 16/100\n",
      "2/2 [==============================] - 0s 8ms/step - loss: 0.4264\n",
      "Epoch 17/100\n",
      "2/2 [==============================] - 0s 7ms/step - loss: 0.4215\n",
      "Epoch 18/100\n",
      "2/2 [==============================] - 0s 8ms/step - loss: 0.4167\n",
      "Epoch 19/100\n",
      "2/2 [==============================] - 0s 5ms/step - loss: 0.4074\n",
      "Epoch 20/100\n",
      "2/2 [==============================] - 0s 8ms/step - loss: 0.3999\n",
      "Epoch 21/100\n",
      "2/2 [==============================] - 0s 10ms/step - loss: 0.3895\n",
      "Epoch 22/100\n",
      "2/2 [==============================] - 0s 16ms/step - loss: 0.3837\n",
      "Epoch 23/100\n",
      "2/2 [==============================] - 0s 9ms/step - loss: 0.3778\n",
      "Epoch 24/100\n",
      "2/2 [==============================] - 0s 9ms/step - loss: 0.3690\n",
      "Epoch 25/100\n",
      "2/2 [==============================] - 0s 9ms/step - loss: 0.3619\n",
      "Epoch 26/100\n",
      "2/2 [==============================] - 0s 8ms/step - loss: 0.3546\n",
      "Epoch 27/100\n",
      "2/2 [==============================] - 0s 8ms/step - loss: 0.3469\n",
      "Epoch 28/100\n",
      "2/2 [==============================] - 0s 0s/step - loss: 0.3336\n",
      "Epoch 29/100\n",
      "2/2 [==============================] - 0s 9ms/step - loss: 0.3341\n",
      "Epoch 30/100\n",
      "2/2 [==============================] - 0s 10ms/step - loss: 0.3225\n",
      "Epoch 31/100\n",
      "2/2 [==============================] - 0s 7ms/step - loss: 0.3068\n",
      "Epoch 32/100\n",
      "2/2 [==============================] - 0s 8ms/step - loss: 0.3093\n",
      "Epoch 33/100\n",
      "2/2 [==============================] - 0s 8ms/step - loss: 0.2958\n",
      "Epoch 34/100\n",
      "2/2 [==============================] - 0s 8ms/step - loss: 0.2829\n",
      "Epoch 35/100\n",
      "2/2 [==============================] - 0s 8ms/step - loss: 0.2752\n",
      "Epoch 36/100\n",
      "2/2 [==============================] - 0s 9ms/step - loss: 0.2681\n",
      "Epoch 37/100\n",
      "2/2 [==============================] - 0s 8ms/step - loss: 0.2546\n",
      "Epoch 38/100\n",
      "2/2 [==============================] - 0s 17ms/step - loss: 0.2455\n",
      "Epoch 39/100\n",
      "2/2 [==============================] - 0s 8ms/step - loss: 0.2320\n",
      "Epoch 40/100\n",
      "2/2 [==============================] - 0s 8ms/step - loss: 0.2189\n",
      "Epoch 41/100\n",
      "2/2 [==============================] - 0s 10ms/step - loss: 0.2181\n",
      "Epoch 42/100\n",
      "2/2 [==============================] - 0s 7ms/step - loss: 0.2093\n",
      "Epoch 43/100\n",
      "2/2 [==============================] - 0s 17ms/step - loss: 0.1777\n",
      "Epoch 44/100\n",
      "2/2 [==============================] - 0s 8ms/step - loss: 0.1773\n",
      "Epoch 45/100\n",
      "2/2 [==============================] - 0s 0s/step - loss: 0.1629\n",
      "Epoch 46/100\n",
      "2/2 [==============================] - 0s 9ms/step - loss: 0.1671\n",
      "Epoch 47/100\n",
      "2/2 [==============================] - 0s 0s/step - loss: 0.1513\n",
      "Epoch 48/100\n",
      "2/2 [==============================] - 0s 9ms/step - loss: 0.1381\n",
      "Epoch 49/100\n",
      "2/2 [==============================] - 0s 5ms/step - loss: 0.1208\n",
      "Epoch 50/100\n",
      "2/2 [==============================] - 0s 9ms/step - loss: 0.1161\n",
      "Epoch 51/100\n",
      "2/2 [==============================] - 0s 8ms/step - loss: 0.1138\n",
      "Epoch 52/100\n",
      "2/2 [==============================] - 0s 8ms/step - loss: 0.0906\n",
      "Epoch 53/100\n",
      "2/2 [==============================] - 0s 8ms/step - loss: 0.0880\n",
      "Epoch 54/100\n",
      "2/2 [==============================] - 0s 8ms/step - loss: 0.0686\n",
      "Epoch 55/100\n",
      "2/2 [==============================] - 0s 8ms/step - loss: 0.0679\n",
      "Epoch 56/100\n",
      "2/2 [==============================] - 0s 16ms/step - loss: 0.0574\n",
      "Epoch 57/100\n",
      "2/2 [==============================] - 0s 8ms/step - loss: 0.0593\n",
      "Epoch 58/100\n",
      "2/2 [==============================] - 0s 0s/step - loss: 0.0479\n",
      "Epoch 59/100\n",
      "2/2 [==============================] - 0s 8ms/step - loss: 0.0290\n",
      "Epoch 60/100\n",
      "2/2 [==============================] - 0s 9ms/step - loss: 0.0398\n",
      "Epoch 61/100\n",
      "2/2 [==============================] - 0s 8ms/step - loss: 0.0377\n",
      "Epoch 62/100\n",
      "2/2 [==============================] - 0s 8ms/step - loss: 0.0317\n",
      "Epoch 63/100\n",
      "2/2 [==============================] - 0s 8ms/step - loss: 0.0238\n",
      "Epoch 64/100\n",
      "2/2 [==============================] - 0s 16ms/step - loss: 0.0250\n",
      "Epoch 65/100\n",
      "2/2 [==============================] - 0s 9ms/step - loss: 0.0295\n",
      "Epoch 66/100\n",
      "2/2 [==============================] - 0s 14ms/step - loss: 0.0264\n",
      "Epoch 67/100\n",
      "2/2 [==============================] - 0s 8ms/step - loss: 0.0245\n",
      "Epoch 68/100\n",
      "2/2 [==============================] - 0s 8ms/step - loss: 0.0372\n",
      "Epoch 69/100\n",
      "2/2 [==============================] - 0s 8ms/step - loss: 0.0236\n",
      "Epoch 70/100\n",
      "2/2 [==============================] - 0s 11ms/step - loss: 0.0218\n",
      "Epoch 71/100\n",
      "2/2 [==============================] - 0s 8ms/step - loss: 0.0186\n",
      "Epoch 72/100\n",
      "2/2 [==============================] - 0s 0s/step - loss: 0.0266\n",
      "Epoch 73/100\n",
      "2/2 [==============================] - 0s 0s/step - loss: 0.0305\n",
      "Epoch 74/100\n",
      "2/2 [==============================] - 0s 8ms/step - loss: 0.0253\n",
      "Epoch 75/100\n",
      "2/2 [==============================] - 0s 8ms/step - loss: 0.0304\n",
      "Epoch 76/100\n",
      "2/2 [==============================] - 0s 8ms/step - loss: 0.0167\n",
      "Epoch 77/100\n",
      "2/2 [==============================] - 0s 8ms/step - loss: 0.0207\n",
      "Epoch 78/100\n",
      "2/2 [==============================] - 0s 8ms/step - loss: 0.0231\n",
      "Epoch 79/100\n",
      "2/2 [==============================] - 0s 8ms/step - loss: 0.0180\n",
      "Epoch 80/100\n",
      "2/2 [==============================] - 0s 8ms/step - loss: 0.0321\n",
      "Epoch 81/100\n",
      "2/2 [==============================] - 0s 8ms/step - loss: 0.0177\n",
      "Epoch 82/100\n",
      "2/2 [==============================] - 0s 0s/step - loss: 0.0266\n",
      "Epoch 83/100\n",
      "2/2 [==============================] - 0s 8ms/step - loss: 0.0250\n",
      "Epoch 84/100\n",
      "2/2 [==============================] - 0s 8ms/step - loss: 0.0296\n",
      "Epoch 85/100\n",
      "2/2 [==============================] - 0s 8ms/step - loss: 0.0264\n",
      "Epoch 86/100\n",
      "2/2 [==============================] - 0s 8ms/step - loss: 0.0216\n",
      "Epoch 87/100\n",
      "2/2 [==============================] - 0s 8ms/step - loss: 0.0236\n",
      "Epoch 88/100\n",
      "2/2 [==============================] - 0s 8ms/step - loss: 0.0307\n",
      "Epoch 89/100\n",
      "2/2 [==============================] - 0s 16ms/step - loss: 0.0257\n",
      "Epoch 90/100\n",
      "2/2 [==============================] - 0s 10ms/step - loss: 0.0247\n",
      "Epoch 91/100\n",
      "2/2 [==============================] - 0s 16ms/step - loss: 0.0307\n",
      "Epoch 92/100\n",
      "2/2 [==============================] - 0s 7ms/step - loss: 0.0258\n",
      "Epoch 93/100\n",
      "2/2 [==============================] - 0s 0s/step - loss: 0.0158\n",
      "Epoch 94/100\n",
      "2/2 [==============================] - 0s 11ms/step - loss: 0.0233\n",
      "Epoch 95/100\n",
      "2/2 [==============================] - 0s 8ms/step - loss: 0.0256\n",
      "Epoch 96/100\n",
      "2/2 [==============================] - 0s 6ms/step - loss: 0.0258\n",
      "Epoch 97/100\n",
      "2/2 [==============================] - 0s 9ms/step - loss: 0.0203\n",
      "Epoch 98/100\n",
      "2/2 [==============================] - 0s 8ms/step - loss: 0.0244\n",
      "Epoch 99/100\n",
      "2/2 [==============================] - 0s 8ms/step - loss: 0.0259\n",
      "Epoch 100/100\n",
      "2/2 [==============================] - 0s 8ms/step - loss: 0.0270\n"
     ]
    },
    {
     "data": {
      "text/plain": [
       "<keras.callbacks.History at 0x27d59eca8e0>"
      ]
     },
     "execution_count": 31,
     "metadata": {},
     "output_type": "execute_result"
    }
   ],
   "source": [
    "model = Sequential()\n",
    "model.add(LSTM(10, return_sequences=True, input_shape=(1, 1)))\n",
    "model.add(Dropout(0.2))\n",
    "model.add(LSTM(10, return_sequences=True))\n",
    "model.add(Dropout(0.2))\n",
    "model.add(LSTM(10))\n",
    "model.add(Dropout(0.2))\n",
    "model.add(Dense(1))\n",
    "model.compile(loss='mse', optimizer='adam')\n",
    "model.fit(train, train2, epochs=100, batch_size=30, verbose=1)"
   ]
  },
  {
   "cell_type": "code",
   "execution_count": 32,
   "metadata": {},
   "outputs": [
    {
     "name": "stdout",
     "output_type": "stream",
     "text": [
      "2/2 [==============================] - 1s 0s/step\n",
      "2/2 [==============================] - 0s 0s/step\n"
     ]
    }
   ],
   "source": [
    "# make predictions\n",
    "trainPredict = model.predict(train)\n",
    "testPredict = model.predict(test)\n",
    "\n",
    "# invert predictions\n",
    "trainPredict = scaler.inverse_transform(trainPredict)\n",
    "trainY = scaler.inverse_transform(train2)\n",
    "testPredict = scaler.inverse_transform(testPredict)\n",
    "testY = scaler.inverse_transform(test2)"
   ]
  },
  {
   "cell_type": "code",
   "execution_count": 33,
   "metadata": {},
   "outputs": [
    {
     "data": {
      "image/png": "[encoded data removed]",
      "text/plain": [
       "<Figure size 432x288 with 1 Axes>"
      ]
     },
     "metadata": {
      "needs_background": "light"
     },
     "output_type": "display_data"
    }
   ],
   "source": [
    "plt.figure()\n",
    "plt.plot(range(0,len(trainY)),trainY,label = 'data',color = 'black')\n",
    "plt.plot(range(0,len(testY)),testY,label = 'predict',color = 'green')\n",
    "plt.legend()\n",
    "plt.grid()"
   ]
  }
 ],
 "metadata": {
  "kernelspec": {
   "display_name": "Python 3.9.4 64-bit",
   "language": "python",
   "name": "python3"
  },
  "language_info": {
   "codemirror_mode": {
    "name": "ipython",
    "version": 3
   },
   "file_extension": ".py",
   "mimetype": "text/x-python",
   "name": "python",
   "nbconvert_exporter": "python",
   "pygments_lexer": "ipython3",
   "version": "3.9.4 (tags/v3.9.4:1f2e308, Apr  6 2021, 13:40:21) [MSC v.1928 64 bit (AMD64)]"
  },
  "orig_nbformat": 4,
  "vscode": {
   "interpreter": {
    "hash": "14958d3aee5f1cad06795f787e54b96185c25fb40dfec723a5be941f3a531b8c"
   }
  }
 },
 "nbformat": 4,
 "nbformat_minor": 2
}
