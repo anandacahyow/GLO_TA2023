{
  "cells": [
    {
      "attachments": {},
      "cell_type": "markdown",
      "metadata": {
        "id": "-j7FtWOu1s4v"
      },
      "source": [
        "### LSTM System Identification"
      ]
    },
    {
      "attachments": {},
      "cell_type": "markdown",
      "metadata": {
        "id": "H3idHplV1s49"
      },
      "source": [
        "Name: Ananda Cahyo Wibowo<br />\n",
        "NRP : 07111940000128 <br />\n",
        "Undergrad Thesis Title : Data Driven Gas Lift Well And Network Optimization With Neural Network Based System Identification Using Modbus Simulator"
      ]
    },
    {
      "attachments": {},
      "cell_type": "markdown",
      "metadata": {
        "id": "WmbY_SdX1s4_"
      },
      "source": [
        "Data Preparation"
      ]
    },
    {
      "cell_type": "code",
      "execution_count": 30,
      "metadata": {
        "colab": {
          "base_uri": "https://localhost:8080/"
        },
        "id": "KANmS_kz1s5A",
        "outputId": "642ac761-8310-47b9-d30b-eaf9c8e60ee6"
      },
      "outputs": [
        {
          "data": {
            "text/html": [
              "<div>\n",
              "<style scoped>\n",
              "    .dataframe tbody tr th:only-of-type {\n",
              "        vertical-align: middle;\n",
              "    }\n",
              "\n",
              "    .dataframe tbody tr th {\n",
              "        vertical-align: top;\n",
              "    }\n",
              "\n",
              "    .dataframe thead th {\n",
              "        text-align: right;\n",
              "    }\n",
              "</style>\n",
              "<table border=\"1\" class=\"dataframe\">\n",
              "  <thead>\n",
              "    <tr style=\"text-align: right;\">\n",
              "      <th></th>\n",
              "      <th>index</th>\n",
              "      <th>glir</th>\n",
              "      <th>qo</th>\n",
              "      <th>qt</th>\n",
              "      <th>wc</th>\n",
              "      <th>ch</th>\n",
              "      <th>gor</th>\n",
              "      <th>glir_old</th>\n",
              "      <th>tes</th>\n",
              "      <th>gor_old</th>\n",
              "      <th>glir_edit</th>\n",
              "      <th>glir_edit.1</th>\n",
              "    </tr>\n",
              "  </thead>\n",
              "  <tbody>\n",
              "    <tr>\n",
              "      <th>count</th>\n",
              "      <td>4967.000000</td>\n",
              "      <td>4967.000000</td>\n",
              "      <td>4967.000000</td>\n",
              "      <td>4967.000000</td>\n",
              "      <td>4967.000000</td>\n",
              "      <td>4967.000000</td>\n",
              "      <td>4967.000000</td>\n",
              "      <td>4967.000000</td>\n",
              "      <td>4967.000000</td>\n",
              "      <td>4967.000000</td>\n",
              "      <td>1969.000000</td>\n",
              "      <td>1969.000000</td>\n",
              "    </tr>\n",
              "    <tr>\n",
              "      <th>mean</th>\n",
              "      <td>2484.000000</td>\n",
              "      <td>995.903322</td>\n",
              "      <td>77.586465</td>\n",
              "      <td>82.820298</td>\n",
              "      <td>6.653493</td>\n",
              "      <td>1254.354184</td>\n",
              "      <td>57100.770187</td>\n",
              "      <td>187.294916</td>\n",
              "      <td>14275.192547</td>\n",
              "      <td>5245.958657</td>\n",
              "      <td>149.914957</td>\n",
              "      <td>899.489741</td>\n",
              "    </tr>\n",
              "    <tr>\n",
              "      <th>std</th>\n",
              "      <td>1433.993724</td>\n",
              "      <td>747.187112</td>\n",
              "      <td>60.759708</td>\n",
              "      <td>65.292774</td>\n",
              "      <td>8.805085</td>\n",
              "      <td>287.919429</td>\n",
              "      <td>15676.469425</td>\n",
              "      <td>143.047992</td>\n",
              "      <td>3919.117356</td>\n",
              "      <td>15151.169446</td>\n",
              "      <td>120.750490</td>\n",
              "      <td>724.502940</td>\n",
              "    </tr>\n",
              "    <tr>\n",
              "      <th>min</th>\n",
              "      <td>1.000000</td>\n",
              "      <td>271.000000</td>\n",
              "      <td>1.000000</td>\n",
              "      <td>1.360000</td>\n",
              "      <td>0.140000</td>\n",
              "      <td>392.860000</td>\n",
              "      <td>30462.680000</td>\n",
              "      <td>54.200000</td>\n",
              "      <td>7615.670000</td>\n",
              "      <td>8.000000</td>\n",
              "      <td>54.200000</td>\n",
              "      <td>325.200000</td>\n",
              "    </tr>\n",
              "    <tr>\n",
              "      <th>25%</th>\n",
              "      <td>1242.500000</td>\n",
              "      <td>336.000000</td>\n",
              "      <td>13.300000</td>\n",
              "      <td>14.390000</td>\n",
              "      <td>1.540000</td>\n",
              "      <td>1060.000000</td>\n",
              "      <td>44607.680000</td>\n",
              "      <td>56.000000</td>\n",
              "      <td>11151.920000</td>\n",
              "      <td>400.000000</td>\n",
              "      <td>55.700000</td>\n",
              "      <td>334.200000</td>\n",
              "    </tr>\n",
              "    <tr>\n",
              "      <th>50%</th>\n",
              "      <td>2484.000000</td>\n",
              "      <td>793.000000</td>\n",
              "      <td>74.440000</td>\n",
              "      <td>80.380000</td>\n",
              "      <td>4.000000</td>\n",
              "      <td>1297.000000</td>\n",
              "      <td>53852.080000</td>\n",
              "      <td>146.000000</td>\n",
              "      <td>13463.020000</td>\n",
              "      <td>812.500000</td>\n",
              "      <td>95.200000</td>\n",
              "      <td>571.200000</td>\n",
              "    </tr>\n",
              "    <tr>\n",
              "      <th>75%</th>\n",
              "      <td>3725.500000</td>\n",
              "      <td>1491.000000</td>\n",
              "      <td>117.720000</td>\n",
              "      <td>124.560000</td>\n",
              "      <td>8.800000</td>\n",
              "      <td>1475.000000</td>\n",
              "      <td>73920.640000</td>\n",
              "      <td>281.200000</td>\n",
              "      <td>18480.160000</td>\n",
              "      <td>1955.640000</td>\n",
              "      <td>210.200000</td>\n",
              "      <td>1261.200000</td>\n",
              "    </tr>\n",
              "    <tr>\n",
              "      <th>max</th>\n",
              "      <td>4967.000000</td>\n",
              "      <td>3381.000000</td>\n",
              "      <td>248.370000</td>\n",
              "      <td>272.700000</td>\n",
              "      <td>60.000000</td>\n",
              "      <td>1694.000000</td>\n",
              "      <td>87820.880000</td>\n",
              "      <td>676.200000</td>\n",
              "      <td>21955.220000</td>\n",
              "      <td>107361.960000</td>\n",
              "      <td>533.600000</td>\n",
              "      <td>3201.600000</td>\n",
              "    </tr>\n",
              "  </tbody>\n",
              "</table>\n",
              "</div>"
            ],
            "text/plain": [
              "             index         glir           qo           qt           wc  \\\n",
              "count  4967.000000  4967.000000  4967.000000  4967.000000  4967.000000   \n",
              "mean   2484.000000   995.903322    77.586465    82.820298     6.653493   \n",
              "std    1433.993724   747.187112    60.759708    65.292774     8.805085   \n",
              "min       1.000000   271.000000     1.000000     1.360000     0.140000   \n",
              "25%    1242.500000   336.000000    13.300000    14.390000     1.540000   \n",
              "50%    2484.000000   793.000000    74.440000    80.380000     4.000000   \n",
              "75%    3725.500000  1491.000000   117.720000   124.560000     8.800000   \n",
              "max    4967.000000  3381.000000   248.370000   272.700000    60.000000   \n",
              "\n",
              "                ch           gor     glir_old           tes        gor_old  \\\n",
              "count  4967.000000   4967.000000  4967.000000   4967.000000    4967.000000   \n",
              "mean   1254.354184  57100.770187   187.294916  14275.192547    5245.958657   \n",
              "std     287.919429  15676.469425   143.047992   3919.117356   15151.169446   \n",
              "min     392.860000  30462.680000    54.200000   7615.670000       8.000000   \n",
              "25%    1060.000000  44607.680000    56.000000  11151.920000     400.000000   \n",
              "50%    1297.000000  53852.080000   146.000000  13463.020000     812.500000   \n",
              "75%    1475.000000  73920.640000   281.200000  18480.160000    1955.640000   \n",
              "max    1694.000000  87820.880000   676.200000  21955.220000  107361.960000   \n",
              "\n",
              "         glir_edit  glir_edit.1  \n",
              "count  1969.000000  1969.000000  \n",
              "mean    149.914957   899.489741  \n",
              "std     120.750490   724.502940  \n",
              "min      54.200000   325.200000  \n",
              "25%      55.700000   334.200000  \n",
              "50%      95.200000   571.200000  \n",
              "75%     210.200000  1261.200000  \n",
              "max     533.600000  3201.600000  "
            ]
          },
          "execution_count": 30,
          "metadata": {},
          "output_type": "execute_result"
        }
      ],
      "source": [
        "import pandas as pd\n",
        "\n",
        "df1 = pd.read_csv(\"upsampled_corr_well.csv\")\n",
        "df1 = pd.read_csv(\"upsampled_corr_well22.csv\")\n",
        "\n",
        "#df1 = pd.read_excel(\"oa-11_real.xlsx\")\n",
        "#df1 = pd.read_excel(\"oa-12_real.xlsx\")\n",
        "#df1 = pd.read_excel(\"oa-12_cleam.xlsx\")\n",
        "\n",
        "df1.describe()"
      ]
    },
    {
      "cell_type": "code",
      "execution_count": 31,
      "metadata": {},
      "outputs": [
        {
          "name": "stdout",
          "output_type": "stream",
          "text": [
            "                index      glir        qo        qt        wc        ch  \\\n",
            "index        1.000000  0.081394 -0.244253 -0.245292  0.057481  0.375729   \n",
            "glir         0.081394  1.000000  0.594202  0.604463  0.152644 -0.067704   \n",
            "qo          -0.244253  0.594202  1.000000  0.995771  0.024547 -0.237773   \n",
            "qt          -0.245292  0.604463  0.995771  1.000000  0.102120 -0.254246   \n",
            "wc           0.057481  0.152644  0.024547  0.102120  1.000000 -0.073529   \n",
            "ch           0.375729 -0.067704 -0.237773 -0.254246 -0.073529  1.000000   \n",
            "gor          0.108588 -0.670795 -0.894541 -0.884968  0.032710  0.084063   \n",
            "glir_old    -0.004406  0.990517  0.632723  0.643757  0.166446 -0.089178   \n",
            "tes          0.108588 -0.670795 -0.894541 -0.884968  0.032710  0.084063   \n",
            "gor_old     -0.344354 -0.266708 -0.290377 -0.283149  0.014554 -0.285726   \n",
            "glir_edit    0.096585  1.000000  0.697655  0.708665  0.008661 -0.354939   \n",
            "glir_edit.1  0.096585  1.000000  0.697655  0.708665  0.008661 -0.354939   \n",
            "\n",
            "                  gor  glir_old       tes   gor_old  glir_edit  glir_edit.1  \n",
            "index        0.108588 -0.004406  0.108588 -0.344354   0.096585     0.096585  \n",
            "glir        -0.670795  0.990517 -0.670795 -0.266708   1.000000     1.000000  \n",
            "qo          -0.894541  0.632723 -0.894541 -0.290377   0.697655     0.697655  \n",
            "qt          -0.884968  0.643757 -0.884968 -0.283149   0.708665     0.708665  \n",
            "wc           0.032710  0.166446  0.032710  0.014554   0.008661     0.008661  \n",
            "ch           0.084063 -0.089178  0.084063 -0.285726  -0.354939    -0.354939  \n",
            "gor          1.000000 -0.694551  1.000000  0.457035  -0.692619    -0.692619  \n",
            "glir_old    -0.694551  1.000000 -0.694551 -0.257174   1.000000     1.000000  \n",
            "tes          1.000000 -0.694551  1.000000  0.457035  -0.692619    -0.692619  \n",
            "gor_old      0.457035 -0.257174  0.457035  1.000000  -0.129695    -0.129695  \n",
            "glir_edit   -0.692619  1.000000 -0.692619 -0.129695   1.000000     1.000000  \n",
            "glir_edit.1 -0.692619  1.000000 -0.692619 -0.129695   1.000000     1.000000  \n"
          ]
        }
      ],
      "source": [
        "import seaborn as sb\n",
        "corr = df1.corr()\n",
        "print(corr)"
      ]
    },
    {
      "cell_type": "code",
      "execution_count": 32,
      "metadata": {
        "colab": {
          "base_uri": "https://localhost:8080/"
        },
        "id": "Fk7FKI3g1s5I",
        "outputId": "f781bd98-1cee-4f98-8b22-e36ff382e948"
      },
      "outputs": [
        {
          "name": "stdout",
          "output_type": "stream",
          "text": [
            "ukuran x train: (3973, 4) ukuran y train: (3973, 1)\n",
            "ukuran x test: (994, 4) ukuran y test: (994, 1)\n"
          ]
        }
      ],
      "source": [
        "import numpy as np\n",
        "from tensorflow.keras.models import Sequential\n",
        "from tensorflow.keras.layers import LSTM\n",
        "from tensorflow.keras.layers import SimpleRNN\n",
        "from tensorflow.keras.layers import Dense, Dropout\n",
        "from tensorflow.keras.layers import LeakyReLU\n",
        "\n",
        "from sklearn.model_selection import train_test_split\n",
        "import pandas as pd\n",
        "from matplotlib import pyplot as plt\n",
        "import matplotlib.pyplot as plt\n",
        "from sklearn.preprocessing import StandardScaler, MinMaxScaler\n",
        "from keras.preprocessing.sequence import TimeseriesGenerator\n",
        "\n",
        "from tensorflow.keras.models import load_model\n",
        "import seaborn as sns\n",
        "#from datetime import datetime\n",
        "\n",
        "#Read the csv file\n",
        "df = df1\n",
        "df2=df.drop(df.columns[0], axis=1)\n",
        "data = df['glir'].to_numpy()\n",
        "\n",
        "split = 0.8 #oa - 11 = 0.7 || oa - 12 = 0.8\n",
        "epoch = 20\n",
        "batchsize = 300\n",
        "filename = \"RNN_qo_type4_\" + f\"{epoch}+{batchsize}\" \n",
        "\n",
        "\"\"\"x = df[['glir11','wc11','ch11','gor11']]\n",
        "y = df[['qo11']]\n",
        "\n",
        "x1 = df[['glir11','wc11','ch11','gor11']][:int(split*len(data))]\n",
        "y1 = df[['qo11']][:int(split*len(data))]\n",
        "\n",
        "x2 = df[['glir11','wc11','ch11','gor11']][int(split*len(data)):]\n",
        "y2 = df[['qo11']][int(split*len(data)):]\"\"\"\n",
        "\n",
        "x = df[['glir','wc','ch','gor']]\n",
        "#x = df[['glir','wc']]\n",
        "#x = df[['glir']]\n",
        "y = df[['qo']]\n",
        "\n",
        "x1 = df[['glir','wc','ch','gor']][:int(split*len(data))]\n",
        "y1 = df[['qo']][:int(split*len(data))]\n",
        "\n",
        "x2 = df[['glir','wc','ch','gor']][int(split*len(data)):]\n",
        "y2 = df[['qo']][int(split*len(data)):]\n",
        "\n",
        "print(f\"ukuran x train: {np.shape(x1)} ukuran y train: {np.shape(y1)}\")\n",
        "print(f\"ukuran x test: {np.shape(x2)} ukuran y test: {np.shape(y2)}\")"
      ]
    },
    {
      "cell_type": "code",
      "execution_count": 33,
      "metadata": {
        "id": "HIVb8Cy31s5L",
        "outputId": "04be7891-d167-412a-c043-c4f815180825"
      },
      "outputs": [
        {
          "data": {
            "text/html": [
              "<div>\n",
              "<style scoped>\n",
              "    .dataframe tbody tr th:only-of-type {\n",
              "        vertical-align: middle;\n",
              "    }\n",
              "\n",
              "    .dataframe tbody tr th {\n",
              "        vertical-align: top;\n",
              "    }\n",
              "\n",
              "    .dataframe thead th {\n",
              "        text-align: right;\n",
              "    }\n",
              "</style>\n",
              "<table border=\"1\" class=\"dataframe\">\n",
              "  <thead>\n",
              "    <tr style=\"text-align: right;\">\n",
              "      <th></th>\n",
              "      <th>index</th>\n",
              "      <th>glir</th>\n",
              "      <th>qo</th>\n",
              "      <th>qt</th>\n",
              "      <th>wc</th>\n",
              "      <th>ch</th>\n",
              "      <th>gor</th>\n",
              "      <th>glir_old</th>\n",
              "      <th>tes</th>\n",
              "      <th>gor_old</th>\n",
              "      <th>glir_edit</th>\n",
              "      <th>glir_edit.1</th>\n",
              "    </tr>\n",
              "  </thead>\n",
              "  <tbody>\n",
              "    <tr>\n",
              "      <th>count</th>\n",
              "      <td>4967.000000</td>\n",
              "      <td>4967.000000</td>\n",
              "      <td>4967.000000</td>\n",
              "      <td>4967.000000</td>\n",
              "      <td>4967.000000</td>\n",
              "      <td>4967.000000</td>\n",
              "      <td>4967.000000</td>\n",
              "      <td>4967.000000</td>\n",
              "      <td>4967.000000</td>\n",
              "      <td>4967.000000</td>\n",
              "      <td>1969.000000</td>\n",
              "      <td>1969.000000</td>\n",
              "    </tr>\n",
              "    <tr>\n",
              "      <th>mean</th>\n",
              "      <td>2484.000000</td>\n",
              "      <td>995.903322</td>\n",
              "      <td>77.586465</td>\n",
              "      <td>82.820298</td>\n",
              "      <td>6.653493</td>\n",
              "      <td>1254.354184</td>\n",
              "      <td>57100.770187</td>\n",
              "      <td>187.294916</td>\n",
              "      <td>14275.192547</td>\n",
              "      <td>5245.958657</td>\n",
              "      <td>149.914957</td>\n",
              "      <td>899.489741</td>\n",
              "    </tr>\n",
              "    <tr>\n",
              "      <th>std</th>\n",
              "      <td>1433.993724</td>\n",
              "      <td>747.187112</td>\n",
              "      <td>60.759708</td>\n",
              "      <td>65.292774</td>\n",
              "      <td>8.805085</td>\n",
              "      <td>287.919429</td>\n",
              "      <td>15676.469425</td>\n",
              "      <td>143.047992</td>\n",
              "      <td>3919.117356</td>\n",
              "      <td>15151.169446</td>\n",
              "      <td>120.750490</td>\n",
              "      <td>724.502940</td>\n",
              "    </tr>\n",
              "    <tr>\n",
              "      <th>min</th>\n",
              "      <td>1.000000</td>\n",
              "      <td>271.000000</td>\n",
              "      <td>1.000000</td>\n",
              "      <td>1.360000</td>\n",
              "      <td>0.140000</td>\n",
              "      <td>392.860000</td>\n",
              "      <td>30462.680000</td>\n",
              "      <td>54.200000</td>\n",
              "      <td>7615.670000</td>\n",
              "      <td>8.000000</td>\n",
              "      <td>54.200000</td>\n",
              "      <td>325.200000</td>\n",
              "    </tr>\n",
              "    <tr>\n",
              "      <th>25%</th>\n",
              "      <td>1242.500000</td>\n",
              "      <td>336.000000</td>\n",
              "      <td>13.300000</td>\n",
              "      <td>14.390000</td>\n",
              "      <td>1.540000</td>\n",
              "      <td>1060.000000</td>\n",
              "      <td>44607.680000</td>\n",
              "      <td>56.000000</td>\n",
              "      <td>11151.920000</td>\n",
              "      <td>400.000000</td>\n",
              "      <td>55.700000</td>\n",
              "      <td>334.200000</td>\n",
              "    </tr>\n",
              "    <tr>\n",
              "      <th>50%</th>\n",
              "      <td>2484.000000</td>\n",
              "      <td>793.000000</td>\n",
              "      <td>74.440000</td>\n",
              "      <td>80.380000</td>\n",
              "      <td>4.000000</td>\n",
              "      <td>1297.000000</td>\n",
              "      <td>53852.080000</td>\n",
              "      <td>146.000000</td>\n",
              "      <td>13463.020000</td>\n",
              "      <td>812.500000</td>\n",
              "      <td>95.200000</td>\n",
              "      <td>571.200000</td>\n",
              "    </tr>\n",
              "    <tr>\n",
              "      <th>75%</th>\n",
              "      <td>3725.500000</td>\n",
              "      <td>1491.000000</td>\n",
              "      <td>117.720000</td>\n",
              "      <td>124.560000</td>\n",
              "      <td>8.800000</td>\n",
              "      <td>1475.000000</td>\n",
              "      <td>73920.640000</td>\n",
              "      <td>281.200000</td>\n",
              "      <td>18480.160000</td>\n",
              "      <td>1955.640000</td>\n",
              "      <td>210.200000</td>\n",
              "      <td>1261.200000</td>\n",
              "    </tr>\n",
              "    <tr>\n",
              "      <th>max</th>\n",
              "      <td>4967.000000</td>\n",
              "      <td>3381.000000</td>\n",
              "      <td>248.370000</td>\n",
              "      <td>272.700000</td>\n",
              "      <td>60.000000</td>\n",
              "      <td>1694.000000</td>\n",
              "      <td>87820.880000</td>\n",
              "      <td>676.200000</td>\n",
              "      <td>21955.220000</td>\n",
              "      <td>107361.960000</td>\n",
              "      <td>533.600000</td>\n",
              "      <td>3201.600000</td>\n",
              "    </tr>\n",
              "  </tbody>\n",
              "</table>\n",
              "</div>"
            ],
            "text/plain": [
              "             index         glir           qo           qt           wc  \\\n",
              "count  4967.000000  4967.000000  4967.000000  4967.000000  4967.000000   \n",
              "mean   2484.000000   995.903322    77.586465    82.820298     6.653493   \n",
              "std    1433.993724   747.187112    60.759708    65.292774     8.805085   \n",
              "min       1.000000   271.000000     1.000000     1.360000     0.140000   \n",
              "25%    1242.500000   336.000000    13.300000    14.390000     1.540000   \n",
              "50%    2484.000000   793.000000    74.440000    80.380000     4.000000   \n",
              "75%    3725.500000  1491.000000   117.720000   124.560000     8.800000   \n",
              "max    4967.000000  3381.000000   248.370000   272.700000    60.000000   \n",
              "\n",
              "                ch           gor     glir_old           tes        gor_old  \\\n",
              "count  4967.000000   4967.000000  4967.000000   4967.000000    4967.000000   \n",
              "mean   1254.354184  57100.770187   187.294916  14275.192547    5245.958657   \n",
              "std     287.919429  15676.469425   143.047992   3919.117356   15151.169446   \n",
              "min     392.860000  30462.680000    54.200000   7615.670000       8.000000   \n",
              "25%    1060.000000  44607.680000    56.000000  11151.920000     400.000000   \n",
              "50%    1297.000000  53852.080000   146.000000  13463.020000     812.500000   \n",
              "75%    1475.000000  73920.640000   281.200000  18480.160000    1955.640000   \n",
              "max    1694.000000  87820.880000   676.200000  21955.220000  107361.960000   \n",
              "\n",
              "         glir_edit  glir_edit.1  \n",
              "count  1969.000000  1969.000000  \n",
              "mean    149.914957   899.489741  \n",
              "std     120.750490   724.502940  \n",
              "min      54.200000   325.200000  \n",
              "25%      55.700000   334.200000  \n",
              "50%      95.200000   571.200000  \n",
              "75%     210.200000  1261.200000  \n",
              "max     533.600000  3201.600000  "
            ]
          },
          "execution_count": 33,
          "metadata": {},
          "output_type": "execute_result"
        }
      ],
      "source": [
        "df.describe()"
      ]
    },
    {
      "attachments": {},
      "cell_type": "markdown",
      "metadata": {
        "id": "dfNCWEl-1s5M"
      },
      "source": [
        "## Train Data"
      ]
    },
    {
      "attachments": {},
      "cell_type": "markdown",
      "metadata": {
        "id": "ylyaGVb51s5O"
      },
      "source": [
        "Preprocessing Data"
      ]
    },
    {
      "cell_type": "code",
      "execution_count": 34,
      "metadata": {
        "colab": {
          "base_uri": "https://localhost:8080/"
        },
        "id": "gmRR61Zp1s5P",
        "outputId": "f2792dee-b39b-4b09-f4bd-5b5a48d4b10b"
      },
      "outputs": [
        {
          "name": "stdout",
          "output_type": "stream",
          "text": [
            "trainX shape == (3973, 4).\n",
            "trainY shape == (3973, 1).\n",
            "testX shape == (994, 4).\n",
            "testY shape == (994, 1).\n",
            "Number of Feature: 4\n"
          ]
        }
      ],
      "source": [
        "scaler = StandardScaler()\n",
        "\n",
        "df_for_x = scaler.fit_transform(x)\n",
        "df_for_y = scaler.fit_transform(y)\n",
        "\n",
        "X = df_for_x\n",
        "Y = df_for_y\n",
        "\n",
        "trainX, testX, trainY, testY = train_test_split(X,Y,test_size=1-split,random_state=123,shuffle=False)\n",
        "print('trainX shape == {}.'.format(trainX.shape))\n",
        "print('trainY shape == {}.'.format(trainY.shape))\n",
        "print('testX shape == {}.'.format(testX.shape))\n",
        "print('testY shape == {}.'.format(testY.shape))\n",
        "\n",
        "lookback = 14\n",
        "#win_len = int(len(x)/14)\n",
        "win_len = batchsize\n",
        "num_feature = np.shape(x)[1]\n",
        "print('Number of Feature:',num_feature)\n",
        "\n",
        "train_generator = TimeseriesGenerator(trainX,trainY,batch_size=win_len,length=lookback)\n",
        "test_generator = TimeseriesGenerator(testX,testY,batch_size=win_len,length=lookback)\n",
        "#np.shape(train_generator)\n",
        "#np.shape(test_generator)\n",
        "#train_generator[0]"
      ]
    },
    {
      "attachments": {},
      "cell_type": "markdown",
      "metadata": {
        "id": "KEcyV3FV1s5R"
      },
      "source": [
        "RNN LSTM Architecture & Training"
      ]
    },
    {
      "cell_type": "code",
      "execution_count": 35,
      "metadata": {
        "colab": {
          "base_uri": "https://localhost:8080/"
        },
        "id": "FJNUPdYp1s5S",
        "outputId": "e62a1d25-52cb-4b25-eddb-8d0f541199d2"
      },
      "outputs": [
        {
          "name": "stdout",
          "output_type": "stream",
          "text": [
            "Model: \"sequential_2\"\n",
            "_________________________________________________________________\n",
            " Layer (type)                Output Shape              Param #   \n",
            "=================================================================\n",
            " lstm_6 (LSTM)               (None, 14, 160)           105600    \n",
            "                                                                 \n",
            " lstm_7 (LSTM)               (None, 14, 160)           205440    \n",
            "                                                                 \n",
            " lstm_8 (LSTM)               (None, 160)               205440    \n",
            "                                                                 \n",
            " dropout_2 (Dropout)         (None, 160)               0         \n",
            "                                                                 \n",
            " dense_2 (Dense)             (None, 1)                 161       \n",
            "                                                                 \n",
            "=================================================================\n",
            "Total params: 516,641\n",
            "Trainable params: 516,641\n",
            "Non-trainable params: 0\n",
            "_________________________________________________________________\n"
          ]
        }
      ],
      "source": [
        "# define the Autoencoder model\n",
        "\n",
        "model = Sequential()\n",
        "#model.add(LSTM(14,activation='relu',input_shape=(lookback, num_feature), return_sequences=True))\n",
        "model.add(LSTM(160,activation='relu',input_shape=(lookback, num_feature),return_sequences=True))\n",
        "model.add(LSTM(160,activation='relu',return_sequences=True))\n",
        "model.add(LSTM(160,activation='relu',return_sequences=False))\n",
        "\n",
        "model.add(Dropout(0.2))\n",
        "model.add(Dense(1,activation='linear'))\n",
        "\n",
        "\"\"\"model.add(LSTM(180,activation='relu',input_shape=(lookback, num_feature), return_sequences=True))\n",
        "model.add(LSTM(70,activation='relu', return_sequences=True))\n",
        "model.add(LSTM(40,activation='relu', return_sequences=False))\n",
        "model.add(Dropout(0.2))\n",
        "model.add(Dense(1,activation='linear'))\"\"\"\n",
        "\n",
        "model.compile(optimizer='adam', loss='mse', metrics=['mse'])\n",
        "model.summary(\"\")"
      ]
    },
    {
      "cell_type": "code",
      "execution_count": 36,
      "metadata": {
        "id": "369DPjuvVh1W"
      },
      "outputs": [],
      "source": [
        "from tensorflow.keras.callbacks import Callback\n",
        "class myCallback(Callback):    \n",
        "    def on_epoch_end(self, epoch, logs={}):\n",
        "        print(\"Checking loss at end of epoch...\")\n",
        "        if logs['loss'] <= 0.05:\n",
        "               self.model.stop_training = True\n",
        "        else:\n",
        "          print ('not yet...')"
      ]
    },
    {
      "cell_type": "code",
      "execution_count": 37,
      "metadata": {
        "colab": {
          "base_uri": "https://localhost:8080/"
        },
        "id": "f1FG1qj11s5U",
        "outputId": "13bbed7e-c842-4f9d-d079-e469d2a1bdf8"
      },
      "outputs": [
        {
          "name": "stdout",
          "output_type": "stream",
          "text": [
            "Epoch 1/300\n"
          ]
        },
        {
          "name": "stdout",
          "output_type": "stream",
          "text": [
            "14/14 [==============================] - 7s 235ms/step - loss: 1.0396 - mse: 1.0396 - val_loss: 0.5630 - val_mse: 0.5630\n",
            "Epoch 2/300\n",
            "14/14 [==============================] - 2s 172ms/step - loss: 0.8468 - mse: 0.8468 - val_loss: 0.3513 - val_mse: 0.3513\n",
            "Epoch 3/300\n",
            "14/14 [==============================] - 2s 174ms/step - loss: 0.4125 - mse: 0.4125 - val_loss: 0.3801 - val_mse: 0.3801\n",
            "Epoch 4/300\n",
            "14/14 [==============================] - 2s 172ms/step - loss: 0.4451 - mse: 0.4451 - val_loss: 0.2445 - val_mse: 0.2445\n",
            "Epoch 5/300\n",
            "14/14 [==============================] - 3s 182ms/step - loss: 0.4567 - mse: 0.4567 - val_loss: 0.5293 - val_mse: 0.5293\n",
            "Epoch 6/300\n",
            "14/14 [==============================] - 2s 175ms/step - loss: 0.5311 - mse: 0.5311 - val_loss: 0.5487 - val_mse: 0.5487\n",
            "Epoch 7/300\n",
            "14/14 [==============================] - 2s 168ms/step - loss: 0.3344 - mse: 0.3344 - val_loss: 0.1756 - val_mse: 0.1756\n",
            "Epoch 8/300\n",
            "14/14 [==============================] - 3s 186ms/step - loss: 0.4514 - mse: 0.4514 - val_loss: 0.2866 - val_mse: 0.2866\n",
            "Epoch 9/300\n",
            "14/14 [==============================] - 3s 203ms/step - loss: 0.2537 - mse: 0.2537 - val_loss: 0.1353 - val_mse: 0.1353\n",
            "Epoch 10/300\n",
            "14/14 [==============================] - 3s 182ms/step - loss: 0.3560 - mse: 0.3560 - val_loss: 0.3156 - val_mse: 0.3156\n",
            "Epoch 11/300\n",
            "14/14 [==============================] - 3s 196ms/step - loss: 0.2564 - mse: 0.2564 - val_loss: 0.1085 - val_mse: 0.1085\n",
            "Epoch 12/300\n",
            "14/14 [==============================] - 2s 177ms/step - loss: 0.3070 - mse: 0.3070 - val_loss: 0.2695 - val_mse: 0.2695\n",
            "Epoch 13/300\n",
            "14/14 [==============================] - 2s 175ms/step - loss: 0.2203 - mse: 0.2203 - val_loss: 0.1034 - val_mse: 0.1034\n",
            "Epoch 14/300\n",
            "14/14 [==============================] - 2s 170ms/step - loss: 0.2593 - mse: 0.2593 - val_loss: 0.2598 - val_mse: 0.2598\n",
            "Epoch 15/300\n",
            "14/14 [==============================] - 2s 170ms/step - loss: 0.1907 - mse: 0.1907 - val_loss: 0.0988 - val_mse: 0.0988\n",
            "Epoch 16/300\n",
            "14/14 [==============================] - 2s 175ms/step - loss: 0.2292 - mse: 0.2292 - val_loss: 0.1969 - val_mse: 0.1969\n",
            "Epoch 17/300\n",
            "14/14 [==============================] - 2s 173ms/step - loss: 0.1798 - mse: 0.1798 - val_loss: 0.1004 - val_mse: 0.1004\n",
            "Epoch 18/300\n",
            "14/14 [==============================] - 2s 167ms/step - loss: 0.1806 - mse: 0.1806 - val_loss: 0.1318 - val_mse: 0.1318\n",
            "Epoch 19/300\n",
            "14/14 [==============================] - 2s 172ms/step - loss: 0.1978 - mse: 0.1978 - val_loss: 0.1025 - val_mse: 0.1025\n",
            "Epoch 20/300\n",
            "14/14 [==============================] - 2s 167ms/step - loss: 0.1673 - mse: 0.1673 - val_loss: 0.1342 - val_mse: 0.1342\n",
            "Epoch 21/300\n",
            "14/14 [==============================] - 2s 167ms/step - loss: 0.1903 - mse: 0.1903 - val_loss: 0.0842 - val_mse: 0.0842\n",
            "Epoch 22/300\n",
            "14/14 [==============================] - 2s 167ms/step - loss: 0.2090 - mse: 0.2090 - val_loss: 0.1413 - val_mse: 0.1413\n",
            "Epoch 23/300\n",
            "14/14 [==============================] - 2s 173ms/step - loss: 0.2002 - mse: 0.2002 - val_loss: 0.1112 - val_mse: 0.1112\n",
            "Epoch 24/300\n",
            "14/14 [==============================] - 2s 168ms/step - loss: 0.2318 - mse: 0.2318 - val_loss: 0.1348 - val_mse: 0.1348\n",
            "Epoch 25/300\n",
            "14/14 [==============================] - 2s 169ms/step - loss: 0.1775 - mse: 0.1775 - val_loss: 0.0890 - val_mse: 0.0890\n",
            "Epoch 26/300\n",
            "14/14 [==============================] - 2s 171ms/step - loss: 0.1685 - mse: 0.1685 - val_loss: 0.1118 - val_mse: 0.1118\n",
            "Epoch 27/300\n",
            "14/14 [==============================] - 2s 167ms/step - loss: 0.1455 - mse: 0.1455 - val_loss: 0.0874 - val_mse: 0.0874\n",
            "Epoch 28/300\n",
            "14/14 [==============================] - 2s 171ms/step - loss: 0.1519 - mse: 0.1519 - val_loss: 0.0793 - val_mse: 0.0793\n",
            "Epoch 29/300\n",
            "14/14 [==============================] - 2s 168ms/step - loss: 0.1588 - mse: 0.1588 - val_loss: 0.0899 - val_mse: 0.0899\n",
            "Epoch 30/300\n",
            "14/14 [==============================] - 2s 171ms/step - loss: 0.1433 - mse: 0.1433 - val_loss: 0.0953 - val_mse: 0.0953\n",
            "Epoch 31/300\n",
            "14/14 [==============================] - 2s 167ms/step - loss: 0.1800 - mse: 0.1800 - val_loss: 0.0864 - val_mse: 0.0864\n",
            "Epoch 32/300\n",
            "14/14 [==============================] - 2s 170ms/step - loss: 0.1607 - mse: 0.1607 - val_loss: 0.0994 - val_mse: 0.0994\n",
            "Epoch 33/300\n",
            "14/14 [==============================] - 2s 169ms/step - loss: 0.1487 - mse: 0.1487 - val_loss: 0.0934 - val_mse: 0.0934\n",
            "Epoch 34/300\n",
            "14/14 [==============================] - 2s 165ms/step - loss: 0.1654 - mse: 0.1654 - val_loss: 0.0737 - val_mse: 0.0737\n",
            "Epoch 35/300\n",
            "14/14 [==============================] - 2s 169ms/step - loss: 0.1435 - mse: 0.1435 - val_loss: 0.0930 - val_mse: 0.0930\n",
            "Epoch 36/300\n",
            "14/14 [==============================] - 2s 164ms/step - loss: 0.1294 - mse: 0.1294 - val_loss: 0.0893 - val_mse: 0.0893\n",
            "Epoch 37/300\n",
            "14/14 [==============================] - 2s 166ms/step - loss: 0.1322 - mse: 0.1322 - val_loss: 0.0725 - val_mse: 0.0725\n",
            "Epoch 38/300\n",
            "14/14 [==============================] - 2s 169ms/step - loss: 0.1562 - mse: 0.1562 - val_loss: 0.0940 - val_mse: 0.0940\n",
            "Epoch 39/300\n",
            "14/14 [==============================] - 2s 166ms/step - loss: 0.1397 - mse: 0.1397 - val_loss: 0.1145 - val_mse: 0.1145\n",
            "Epoch 40/300\n",
            "14/14 [==============================] - 2s 165ms/step - loss: 0.1723 - mse: 0.1723 - val_loss: 0.0832 - val_mse: 0.0832\n",
            "Epoch 41/300\n",
            "14/14 [==============================] - 2s 163ms/step - loss: 0.1643 - mse: 0.1643 - val_loss: 0.0959 - val_mse: 0.0959\n",
            "Epoch 42/300\n",
            "14/14 [==============================] - 2s 162ms/step - loss: 0.1350 - mse: 0.1350 - val_loss: 0.0910 - val_mse: 0.0910\n",
            "Epoch 43/300\n",
            "14/14 [==============================] - 2s 169ms/step - loss: 0.1555 - mse: 0.1555 - val_loss: 0.0723 - val_mse: 0.0723\n",
            "Epoch 44/300\n",
            "14/14 [==============================] - 3s 209ms/step - loss: 0.1288 - mse: 0.1288 - val_loss: 0.1034 - val_mse: 0.1034\n",
            "Epoch 45/300\n",
            "14/14 [==============================] - 3s 208ms/step - loss: 0.1220 - mse: 0.1220 - val_loss: 0.0818 - val_mse: 0.0818\n",
            "Epoch 46/300\n",
            "14/14 [==============================] - 3s 193ms/step - loss: 0.1299 - mse: 0.1299 - val_loss: 0.0938 - val_mse: 0.0938\n",
            "Epoch 47/300\n",
            "14/14 [==============================] - 3s 191ms/step - loss: 0.1290 - mse: 0.1290 - val_loss: 0.1266 - val_mse: 0.1266\n",
            "Epoch 48/300\n",
            "14/14 [==============================] - 3s 196ms/step - loss: 0.1106 - mse: 0.1106 - val_loss: 0.0956 - val_mse: 0.0956\n",
            "Epoch 49/300\n",
            "14/14 [==============================] - 3s 193ms/step - loss: 0.1902 - mse: 0.1902 - val_loss: 0.0951 - val_mse: 0.0951\n",
            "Epoch 50/300\n",
            "14/14 [==============================] - 3s 200ms/step - loss: 0.1307 - mse: 0.1307 - val_loss: 0.0824 - val_mse: 0.0824\n",
            "Epoch 51/300\n",
            "14/14 [==============================] - 3s 192ms/step - loss: 0.1430 - mse: 0.1430 - val_loss: 0.1149 - val_mse: 0.1149\n",
            "Epoch 52/300\n",
            "14/14 [==============================] - 3s 189ms/step - loss: 0.0983 - mse: 0.0983 - val_loss: 0.1011 - val_mse: 0.1011\n",
            "Epoch 53/300\n",
            "14/14 [==============================] - 3s 200ms/step - loss: 0.1001 - mse: 0.1001 - val_loss: 0.1204 - val_mse: 0.1204\n",
            "Epoch 54/300\n",
            "14/14 [==============================] - 3s 201ms/step - loss: 0.0934 - mse: 0.0934 - val_loss: 0.1600 - val_mse: 0.1600\n",
            "Epoch 55/300\n",
            "14/14 [==============================] - 3s 205ms/step - loss: 0.0834 - mse: 0.0834 - val_loss: 0.1448 - val_mse: 0.1448\n",
            "Epoch 56/300\n",
            "14/14 [==============================] - 3s 209ms/step - loss: 0.0961 - mse: 0.0961 - val_loss: 0.1815 - val_mse: 0.1815\n",
            "Epoch 57/300\n",
            "14/14 [==============================] - 3s 204ms/step - loss: 0.1201 - mse: 0.1201 - val_loss: 0.0759 - val_mse: 0.0759\n",
            "Epoch 58/300\n",
            "14/14 [==============================] - 3s 218ms/step - loss: 0.1322 - mse: 0.1322 - val_loss: 0.0936 - val_mse: 0.0936\n",
            "Epoch 59/300\n",
            "14/14 [==============================] - 3s 208ms/step - loss: 0.1099 - mse: 0.1099 - val_loss: 0.0953 - val_mse: 0.0953\n",
            "Epoch 60/300\n",
            "14/14 [==============================] - 3s 207ms/step - loss: 0.1062 - mse: 0.1062 - val_loss: 0.1070 - val_mse: 0.1070\n",
            "Epoch 61/300\n",
            "14/14 [==============================] - 3s 200ms/step - loss: 0.0924 - mse: 0.0924 - val_loss: 0.1164 - val_mse: 0.1164\n",
            "Epoch 62/300\n",
            "14/14 [==============================] - 3s 209ms/step - loss: 0.0882 - mse: 0.0882 - val_loss: 0.0984 - val_mse: 0.0984\n",
            "Epoch 63/300\n",
            "14/14 [==============================] - 3s 205ms/step - loss: 0.0872 - mse: 0.0872 - val_loss: 0.1065 - val_mse: 0.1065\n",
            "Epoch 64/300\n",
            "14/14 [==============================] - 3s 204ms/step - loss: 0.0770 - mse: 0.0770 - val_loss: 0.1423 - val_mse: 0.1423\n",
            "Epoch 65/300\n",
            "14/14 [==============================] - 3s 207ms/step - loss: 0.0735 - mse: 0.0735 - val_loss: 0.1554 - val_mse: 0.1554\n",
            "Epoch 66/300\n",
            "14/14 [==============================] - 3s 207ms/step - loss: 0.1049 - mse: 0.1049 - val_loss: 0.1911 - val_mse: 0.1911\n",
            "Epoch 67/300\n",
            "14/14 [==============================] - 3s 210ms/step - loss: 0.1269 - mse: 0.1269 - val_loss: 0.1243 - val_mse: 0.1243\n",
            "Epoch 68/300\n",
            "14/14 [==============================] - 3s 203ms/step - loss: 0.0968 - mse: 0.0968 - val_loss: 0.1220 - val_mse: 0.1220\n",
            "Epoch 69/300\n",
            "14/14 [==============================] - 3s 204ms/step - loss: 0.1941 - mse: 0.1941 - val_loss: 0.1983 - val_mse: 0.1983\n",
            "Epoch 70/300\n",
            "14/14 [==============================] - 3s 209ms/step - loss: 0.1688 - mse: 0.1688 - val_loss: 0.1055 - val_mse: 0.1055\n",
            "Epoch 71/300\n",
            "14/14 [==============================] - 3s 206ms/step - loss: 0.2537 - mse: 0.2537 - val_loss: 0.2206 - val_mse: 0.2206\n",
            "Epoch 72/300\n",
            "14/14 [==============================] - 3s 202ms/step - loss: 0.1351 - mse: 0.1351 - val_loss: 0.1669 - val_mse: 0.1669\n",
            "Epoch 73/300\n",
            "14/14 [==============================] - 3s 206ms/step - loss: 0.1621 - mse: 0.1621 - val_loss: 0.2603 - val_mse: 0.2603\n",
            "Epoch 74/300\n",
            "14/14 [==============================] - 3s 205ms/step - loss: 0.1239 - mse: 0.1239 - val_loss: 0.1546 - val_mse: 0.1546\n",
            "Epoch 75/300\n",
            "14/14 [==============================] - 3s 209ms/step - loss: 0.1788 - mse: 0.1788 - val_loss: 0.2762 - val_mse: 0.2762\n",
            "Epoch 76/300\n",
            "14/14 [==============================] - 3s 201ms/step - loss: 0.1120 - mse: 0.1120 - val_loss: 0.1887 - val_mse: 0.1887\n",
            "Epoch 77/300\n",
            "14/14 [==============================] - 3s 198ms/step - loss: 0.1300 - mse: 0.1300 - val_loss: 0.1617 - val_mse: 0.1617\n",
            "Epoch 78/300\n",
            "14/14 [==============================] - 3s 205ms/step - loss: 0.0971 - mse: 0.0971 - val_loss: 0.1682 - val_mse: 0.1682\n",
            "Epoch 79/300\n",
            "14/14 [==============================] - 3s 204ms/step - loss: 0.1437 - mse: 0.1437 - val_loss: 0.2576 - val_mse: 0.2576\n",
            "Epoch 80/300\n",
            "14/14 [==============================] - 3s 205ms/step - loss: 0.0864 - mse: 0.0864 - val_loss: 0.1798 - val_mse: 0.1798\n",
            "Epoch 81/300\n",
            "14/14 [==============================] - 3s 203ms/step - loss: 0.1069 - mse: 0.1069 - val_loss: 0.2006 - val_mse: 0.2006\n",
            "Epoch 82/300\n",
            "14/14 [==============================] - 3s 207ms/step - loss: 0.0771 - mse: 0.0771 - val_loss: 0.1647 - val_mse: 0.1647\n",
            "Epoch 83/300\n",
            "14/14 [==============================] - 3s 203ms/step - loss: 0.0906 - mse: 0.0906 - val_loss: 0.1973 - val_mse: 0.1973\n",
            "Epoch 84/300\n",
            "14/14 [==============================] - 3s 203ms/step - loss: 0.0691 - mse: 0.0691 - val_loss: 0.1457 - val_mse: 0.1457\n",
            "Epoch 85/300\n",
            "14/14 [==============================] - 3s 208ms/step - loss: 0.0827 - mse: 0.0827 - val_loss: 0.1820 - val_mse: 0.1820\n",
            "Epoch 86/300\n",
            "14/14 [==============================] - 3s 207ms/step - loss: 0.0637 - mse: 0.0637 - val_loss: 0.1435 - val_mse: 0.1435\n",
            "Epoch 87/300\n",
            "14/14 [==============================] - 3s 205ms/step - loss: 0.0703 - mse: 0.0703 - val_loss: 0.1519 - val_mse: 0.1519\n",
            "Epoch 88/300\n",
            "14/14 [==============================] - 3s 207ms/step - loss: 0.0595 - mse: 0.0595 - val_loss: 0.1505 - val_mse: 0.1505\n",
            "Epoch 89/300\n",
            "14/14 [==============================] - 3s 210ms/step - loss: 0.0568 - mse: 0.0568 - val_loss: 0.1411 - val_mse: 0.1411\n",
            "Epoch 90/300\n",
            "14/14 [==============================] - 3s 209ms/step - loss: 0.0586 - mse: 0.0586 - val_loss: 0.1634 - val_mse: 0.1634\n",
            "Epoch 91/300\n",
            "14/14 [==============================] - 3s 208ms/step - loss: 0.0567 - mse: 0.0567 - val_loss: 0.1478 - val_mse: 0.1478\n",
            "Epoch 92/300\n",
            "14/14 [==============================] - 3s 221ms/step - loss: 0.0835 - mse: 0.0835 - val_loss: 0.1370 - val_mse: 0.1370\n",
            "Epoch 93/300\n",
            "14/14 [==============================] - 3s 203ms/step - loss: 0.0667 - mse: 0.0667 - val_loss: 0.1493 - val_mse: 0.1493\n",
            "Epoch 94/300\n",
            "14/14 [==============================] - 3s 210ms/step - loss: 0.0619 - mse: 0.0619 - val_loss: 0.1559 - val_mse: 0.1559\n",
            "Epoch 95/300\n",
            "14/14 [==============================] - 3s 205ms/step - loss: 0.0666 - mse: 0.0666 - val_loss: 0.1911 - val_mse: 0.1911\n",
            "Epoch 96/300\n",
            "14/14 [==============================] - 3s 204ms/step - loss: 0.0601 - mse: 0.0601 - val_loss: 0.1626 - val_mse: 0.1626\n",
            "Epoch 97/300\n",
            "14/14 [==============================] - 3s 178ms/step - loss: 0.0684 - mse: 0.0684 - val_loss: 0.1829 - val_mse: 0.1829\n",
            "Epoch 98/300\n",
            "14/14 [==============================] - 2s 160ms/step - loss: 0.0558 - mse: 0.0558 - val_loss: 0.1933 - val_mse: 0.1933\n",
            "Epoch 99/300\n",
            "14/14 [==============================] - 2s 161ms/step - loss: 0.0503 - mse: 0.0503 - val_loss: 0.1599 - val_mse: 0.1599\n",
            "Epoch 100/300\n",
            "14/14 [==============================] - 2s 153ms/step - loss: 0.0606 - mse: 0.0606 - val_loss: 0.1862 - val_mse: 0.1862\n",
            "Epoch 101/300\n",
            "14/14 [==============================] - 2s 152ms/step - loss: 0.0639 - mse: 0.0639 - val_loss: 0.1632 - val_mse: 0.1632\n",
            "Epoch 102/300\n",
            "14/14 [==============================] - 2s 154ms/step - loss: 0.0751 - mse: 0.0751 - val_loss: 0.1489 - val_mse: 0.1489\n",
            "Epoch 103/300\n",
            "14/14 [==============================] - 2s 156ms/step - loss: 0.0568 - mse: 0.0568 - val_loss: 0.1685 - val_mse: 0.1685\n",
            "Epoch 104/300\n",
            "14/14 [==============================] - 2s 159ms/step - loss: 0.0547 - mse: 0.0547 - val_loss: 0.1744 - val_mse: 0.1744\n",
            "Epoch 105/300\n",
            "14/14 [==============================] - 2s 159ms/step - loss: 0.0556 - mse: 0.0556 - val_loss: 0.1755 - val_mse: 0.1755\n",
            "Epoch 106/300\n",
            "14/14 [==============================] - 2s 163ms/step - loss: 0.0558 - mse: 0.0558 - val_loss: 0.1957 - val_mse: 0.1957\n",
            "Epoch 107/300\n",
            "14/14 [==============================] - 2s 160ms/step - loss: 0.0511 - mse: 0.0511 - val_loss: 0.1586 - val_mse: 0.1586\n",
            "Epoch 108/300\n",
            "14/14 [==============================] - 2s 160ms/step - loss: 0.0726 - mse: 0.0726 - val_loss: 0.1944 - val_mse: 0.1944\n",
            "Epoch 109/300\n",
            "14/14 [==============================] - 2s 162ms/step - loss: 0.0635 - mse: 0.0635 - val_loss: 0.1508 - val_mse: 0.1508\n",
            "Epoch 110/300\n",
            "14/14 [==============================] - 2s 164ms/step - loss: 0.0645 - mse: 0.0645 - val_loss: 0.1700 - val_mse: 0.1700\n",
            "Epoch 111/300\n",
            "14/14 [==============================] - 2s 167ms/step - loss: 0.0488 - mse: 0.0488 - val_loss: 0.1819 - val_mse: 0.1819\n",
            "Epoch 112/300\n",
            "14/14 [==============================] - 2s 173ms/step - loss: 0.0509 - mse: 0.0509 - val_loss: 0.1678 - val_mse: 0.1678\n",
            "Epoch 113/300\n",
            "14/14 [==============================] - 3s 185ms/step - loss: 0.0526 - mse: 0.0526 - val_loss: 0.1556 - val_mse: 0.1556\n",
            "Epoch 114/300\n",
            "14/14 [==============================] - 3s 181ms/step - loss: 0.0519 - mse: 0.0519 - val_loss: 0.1903 - val_mse: 0.1903\n",
            "Epoch 115/300\n",
            "14/14 [==============================] - 2s 176ms/step - loss: 0.0509 - mse: 0.0509 - val_loss: 0.1762 - val_mse: 0.1762\n",
            "Epoch 116/300\n",
            "14/14 [==============================] - 2s 166ms/step - loss: 0.0563 - mse: 0.0563 - val_loss: 0.1664 - val_mse: 0.1664\n",
            "Epoch 117/300\n",
            "14/14 [==============================] - 2s 162ms/step - loss: 0.0595 - mse: 0.0595 - val_loss: 0.2185 - val_mse: 0.2185\n",
            "Epoch 118/300\n",
            "14/14 [==============================] - 2s 164ms/step - loss: 0.0605 - mse: 0.0605 - val_loss: 0.1547 - val_mse: 0.1547\n",
            "Epoch 119/300\n",
            "14/14 [==============================] - 2s 164ms/step - loss: 0.0868 - mse: 0.0868 - val_loss: 0.1965 - val_mse: 0.1965\n",
            "Epoch 120/300\n",
            "14/14 [==============================] - 2s 162ms/step - loss: 0.0572 - mse: 0.0572 - val_loss: 0.1742 - val_mse: 0.1742\n",
            "Epoch 121/300\n",
            "14/14 [==============================] - 2s 165ms/step - loss: 0.0462 - mse: 0.0462 - val_loss: 0.1574 - val_mse: 0.1574\n",
            "Epoch 122/300\n",
            "14/14 [==============================] - 2s 164ms/step - loss: 0.0479 - mse: 0.0479 - val_loss: 0.1776 - val_mse: 0.1776\n",
            "Epoch 123/300\n",
            "14/14 [==============================] - 2s 163ms/step - loss: 0.0510 - mse: 0.0510 - val_loss: 0.1668 - val_mse: 0.1668\n",
            "Epoch 124/300\n",
            "14/14 [==============================] - 2s 163ms/step - loss: 0.0539 - mse: 0.0539 - val_loss: 0.1564 - val_mse: 0.1564\n",
            "Epoch 125/300\n",
            "14/14 [==============================] - 2s 164ms/step - loss: 0.0503 - mse: 0.0503 - val_loss: 0.1948 - val_mse: 0.1948\n",
            "Epoch 126/300\n",
            "14/14 [==============================] - 2s 164ms/step - loss: 0.0524 - mse: 0.0524 - val_loss: 0.1867 - val_mse: 0.1867\n",
            "Epoch 127/300\n",
            "14/14 [==============================] - 2s 165ms/step - loss: 0.0522 - mse: 0.0522 - val_loss: 0.1748 - val_mse: 0.1748\n",
            "Epoch 128/300\n",
            "14/14 [==============================] - 2s 163ms/step - loss: 0.0505 - mse: 0.0505 - val_loss: 0.2065 - val_mse: 0.2065\n",
            "Epoch 129/300\n",
            "14/14 [==============================] - 2s 164ms/step - loss: 0.0550 - mse: 0.0550 - val_loss: 0.1649 - val_mse: 0.1649\n",
            "Epoch 130/300\n",
            "14/14 [==============================] - 2s 164ms/step - loss: 0.0780 - mse: 0.0780 - val_loss: 0.2010 - val_mse: 0.2010\n",
            "Epoch 131/300\n",
            "14/14 [==============================] - 2s 164ms/step - loss: 0.0485 - mse: 0.0485 - val_loss: 0.1646 - val_mse: 0.1646\n",
            "Epoch 132/300\n",
            "14/14 [==============================] - 2s 160ms/step - loss: 0.0529 - mse: 0.0529 - val_loss: 0.1575 - val_mse: 0.1575\n",
            "Epoch 133/300\n",
            "14/14 [==============================] - 2s 166ms/step - loss: 0.0480 - mse: 0.0480 - val_loss: 0.1823 - val_mse: 0.1823\n",
            "Epoch 134/300\n",
            "14/14 [==============================] - 2s 161ms/step - loss: 0.0526 - mse: 0.0526 - val_loss: 0.1721 - val_mse: 0.1721\n",
            "Epoch 135/300\n",
            "14/14 [==============================] - 2s 170ms/step - loss: 0.0462 - mse: 0.0462 - val_loss: 0.1910 - val_mse: 0.1910\n",
            "Epoch 136/300\n",
            "14/14 [==============================] - 2s 162ms/step - loss: 0.0467 - mse: 0.0467 - val_loss: 0.1788 - val_mse: 0.1788\n",
            "Epoch 137/300\n",
            "14/14 [==============================] - 2s 158ms/step - loss: 0.0458 - mse: 0.0458 - val_loss: 0.1732 - val_mse: 0.1732\n",
            "Epoch 138/300\n",
            "14/14 [==============================] - 2s 170ms/step - loss: 0.0610 - mse: 0.0610 - val_loss: 0.1994 - val_mse: 0.1994\n",
            "Epoch 139/300\n",
            "14/14 [==============================] - 2s 166ms/step - loss: 0.0537 - mse: 0.0537 - val_loss: 0.1546 - val_mse: 0.1546\n",
            "Epoch 140/300\n",
            "14/14 [==============================] - 2s 162ms/step - loss: 0.0533 - mse: 0.0533 - val_loss: 0.1576 - val_mse: 0.1576\n",
            "Epoch 141/300\n",
            "14/14 [==============================] - 2s 161ms/step - loss: 0.0413 - mse: 0.0413 - val_loss: 0.1814 - val_mse: 0.1814\n",
            "Epoch 142/300\n",
            "14/14 [==============================] - 2s 162ms/step - loss: 0.0424 - mse: 0.0424 - val_loss: 0.1784 - val_mse: 0.1784\n",
            "Epoch 143/300\n",
            "14/14 [==============================] - 2s 160ms/step - loss: 0.0388 - mse: 0.0388 - val_loss: 0.1714 - val_mse: 0.1714\n",
            "Epoch 144/300\n",
            "14/14 [==============================] - 2s 167ms/step - loss: 0.0414 - mse: 0.0414 - val_loss: 0.1834 - val_mse: 0.1834\n",
            "Epoch 145/300\n",
            "14/14 [==============================] - 2s 163ms/step - loss: 0.0473 - mse: 0.0473 - val_loss: 0.1568 - val_mse: 0.1568\n",
            "Epoch 146/300\n",
            "14/14 [==============================] - 2s 164ms/step - loss: 0.0562 - mse: 0.0562 - val_loss: 0.1661 - val_mse: 0.1661\n",
            "Epoch 147/300\n",
            "14/14 [==============================] - 2s 163ms/step - loss: 0.0382 - mse: 0.0382 - val_loss: 0.1829 - val_mse: 0.1829\n",
            "Epoch 148/300\n",
            "14/14 [==============================] - 2s 167ms/step - loss: 0.0401 - mse: 0.0401 - val_loss: 0.1731 - val_mse: 0.1731\n",
            "Epoch 149/300\n",
            "14/14 [==============================] - 2s 168ms/step - loss: 0.0384 - mse: 0.0384 - val_loss: 0.1700 - val_mse: 0.1700\n",
            "Epoch 150/300\n",
            "14/14 [==============================] - 2s 164ms/step - loss: 0.0434 - mse: 0.0434 - val_loss: 0.1937 - val_mse: 0.1937\n",
            "Epoch 151/300\n",
            "14/14 [==============================] - 2s 165ms/step - loss: 0.0458 - mse: 0.0458 - val_loss: 0.1651 - val_mse: 0.1651\n",
            "Epoch 152/300\n",
            "14/14 [==============================] - 2s 168ms/step - loss: 0.0553 - mse: 0.0553 - val_loss: 0.1757 - val_mse: 0.1757\n",
            "Epoch 153/300\n",
            "14/14 [==============================] - 2s 166ms/step - loss: 0.0369 - mse: 0.0369 - val_loss: 0.1673 - val_mse: 0.1673\n",
            "Epoch 154/300\n",
            "14/14 [==============================] - 2s 171ms/step - loss: 0.0386 - mse: 0.0386 - val_loss: 0.1697 - val_mse: 0.1697\n",
            "Epoch 155/300\n",
            "14/14 [==============================] - 2s 167ms/step - loss: 0.0355 - mse: 0.0355 - val_loss: 0.1689 - val_mse: 0.1689\n",
            "Epoch 156/300\n",
            "14/14 [==============================] - 2s 164ms/step - loss: 0.0411 - mse: 0.0411 - val_loss: 0.1734 - val_mse: 0.1734\n",
            "Epoch 157/300\n",
            "14/14 [==============================] - 2s 165ms/step - loss: 0.0449 - mse: 0.0449 - val_loss: 0.1346 - val_mse: 0.1346\n",
            "Epoch 158/300\n",
            "14/14 [==============================] - 2s 166ms/step - loss: 0.0575 - mse: 0.0575 - val_loss: 0.1583 - val_mse: 0.1583\n",
            "Epoch 159/300\n",
            "14/14 [==============================] - 2s 164ms/step - loss: 0.0415 - mse: 0.0415 - val_loss: 0.2129 - val_mse: 0.2129\n",
            "Epoch 160/300\n",
            "14/14 [==============================] - 2s 167ms/step - loss: 0.0448 - mse: 0.0448 - val_loss: 0.1565 - val_mse: 0.1565\n",
            "Epoch 161/300\n",
            "14/14 [==============================] - 2s 163ms/step - loss: 0.0458 - mse: 0.0458 - val_loss: 0.1732 - val_mse: 0.1732\n",
            "Epoch 162/300\n",
            "14/14 [==============================] - 2s 167ms/step - loss: 0.0547 - mse: 0.0547 - val_loss: 0.2337 - val_mse: 0.2337\n",
            "Epoch 163/300\n",
            "14/14 [==============================] - 2s 166ms/step - loss: 0.0565 - mse: 0.0565 - val_loss: 0.1601 - val_mse: 0.1601\n",
            "Epoch 164/300\n",
            "14/14 [==============================] - 2s 164ms/step - loss: 0.0728 - mse: 0.0728 - val_loss: 0.1981 - val_mse: 0.1981\n",
            "Epoch 165/300\n",
            "14/14 [==============================] - 2s 166ms/step - loss: 0.0481 - mse: 0.0481 - val_loss: 0.1716 - val_mse: 0.1716\n",
            "Epoch 166/300\n",
            "14/14 [==============================] - 2s 163ms/step - loss: 0.0388 - mse: 0.0388 - val_loss: 0.1631 - val_mse: 0.1631\n",
            "Epoch 167/300\n",
            "14/14 [==============================] - 2s 168ms/step - loss: 0.0504 - mse: 0.0504 - val_loss: 0.2243 - val_mse: 0.2243\n",
            "Epoch 168/300\n",
            "14/14 [==============================] - 2s 169ms/step - loss: 0.0559 - mse: 0.0559 - val_loss: 0.1574 - val_mse: 0.1574\n",
            "Epoch 169/300\n",
            "14/14 [==============================] - 2s 163ms/step - loss: 0.0775 - mse: 0.0775 - val_loss: 0.1884 - val_mse: 0.1884\n",
            "Epoch 170/300\n",
            "14/14 [==============================] - 2s 166ms/step - loss: 0.0385 - mse: 0.0385 - val_loss: 0.1478 - val_mse: 0.1478\n",
            "Epoch 171/300\n",
            "14/14 [==============================] - 2s 165ms/step - loss: 0.0360 - mse: 0.0360 - val_loss: 0.1717 - val_mse: 0.1717\n",
            "Epoch 172/300\n",
            "14/14 [==============================] - 2s 161ms/step - loss: 0.0341 - mse: 0.0341 - val_loss: 0.1626 - val_mse: 0.1626\n",
            "Epoch 173/300\n",
            "14/14 [==============================] - 2s 164ms/step - loss: 0.0316 - mse: 0.0316 - val_loss: 0.1567 - val_mse: 0.1567\n",
            "Epoch 174/300\n",
            "14/14 [==============================] - 2s 160ms/step - loss: 0.0306 - mse: 0.0306 - val_loss: 0.1792 - val_mse: 0.1792\n",
            "Epoch 175/300\n",
            "14/14 [==============================] - 2s 163ms/step - loss: 0.0301 - mse: 0.0301 - val_loss: 0.1594 - val_mse: 0.1594\n",
            "Epoch 176/300\n",
            "14/14 [==============================] - 2s 160ms/step - loss: 0.0312 - mse: 0.0312 - val_loss: 0.1629 - val_mse: 0.1629\n",
            "Epoch 177/300\n",
            "14/14 [==============================] - 2s 158ms/step - loss: 0.0305 - mse: 0.0305 - val_loss: 0.1543 - val_mse: 0.1543\n",
            "Epoch 178/300\n",
            "14/14 [==============================] - 2s 162ms/step - loss: 0.0332 - mse: 0.0332 - val_loss: 0.1637 - val_mse: 0.1637\n",
            "Epoch 179/300\n",
            "14/14 [==============================] - 2s 160ms/step - loss: 0.0338 - mse: 0.0338 - val_loss: 0.1478 - val_mse: 0.1478\n",
            "Epoch 180/300\n",
            "14/14 [==============================] - 2s 158ms/step - loss: 0.0352 - mse: 0.0352 - val_loss: 0.1843 - val_mse: 0.1843\n",
            "Epoch 181/300\n",
            "14/14 [==============================] - 2s 161ms/step - loss: 0.0399 - mse: 0.0399 - val_loss: 0.1827 - val_mse: 0.1827\n",
            "Epoch 182/300\n",
            "14/14 [==============================] - 2s 161ms/step - loss: 0.0383 - mse: 0.0383 - val_loss: 0.1605 - val_mse: 0.1605\n",
            "Epoch 183/300\n",
            "14/14 [==============================] - 2s 165ms/step - loss: 0.0461 - mse: 0.0461 - val_loss: 0.1733 - val_mse: 0.1733\n",
            "Epoch 184/300\n",
            "14/14 [==============================] - 2s 161ms/step - loss: 0.0411 - mse: 0.0411 - val_loss: 0.1752 - val_mse: 0.1752\n",
            "Epoch 185/300\n",
            "14/14 [==============================] - 2s 162ms/step - loss: 0.0424 - mse: 0.0424 - val_loss: 0.1527 - val_mse: 0.1527\n",
            "Epoch 186/300\n",
            "14/14 [==============================] - 2s 161ms/step - loss: 0.0480 - mse: 0.0480 - val_loss: 0.2169 - val_mse: 0.2169\n",
            "Epoch 187/300\n",
            "14/14 [==============================] - 2s 165ms/step - loss: 0.0548 - mse: 0.0548 - val_loss: 0.1783 - val_mse: 0.1783\n",
            "Epoch 188/300\n",
            "14/14 [==============================] - 2s 165ms/step - loss: 0.0580 - mse: 0.0580 - val_loss: 0.1694 - val_mse: 0.1694\n",
            "Epoch 189/300\n",
            "14/14 [==============================] - 2s 163ms/step - loss: 0.0624 - mse: 0.0624 - val_loss: 0.2347 - val_mse: 0.2347\n",
            "Epoch 190/300\n",
            "14/14 [==============================] - 2s 163ms/step - loss: 0.0607 - mse: 0.0607 - val_loss: 0.1446 - val_mse: 0.1446\n",
            "Epoch 191/300\n",
            "14/14 [==============================] - 2s 164ms/step - loss: 0.1081 - mse: 0.1081 - val_loss: 0.2142 - val_mse: 0.2142\n",
            "Epoch 192/300\n",
            "14/14 [==============================] - 2s 163ms/step - loss: 0.0575 - mse: 0.0575 - val_loss: 0.1615 - val_mse: 0.1615\n",
            "Epoch 193/300\n",
            "14/14 [==============================] - 2s 167ms/step - loss: 0.0459 - mse: 0.0459 - val_loss: 0.2039 - val_mse: 0.2039\n",
            "Epoch 194/300\n",
            "14/14 [==============================] - 2s 163ms/step - loss: 0.0357 - mse: 0.0357 - val_loss: 0.1676 - val_mse: 0.1676\n",
            "Epoch 195/300\n",
            "14/14 [==============================] - 2s 164ms/step - loss: 0.0324 - mse: 0.0324 - val_loss: 0.1724 - val_mse: 0.1724\n",
            "Epoch 196/300\n",
            "14/14 [==============================] - 2s 169ms/step - loss: 0.0311 - mse: 0.0311 - val_loss: 0.1850 - val_mse: 0.1850\n",
            "Epoch 197/300\n",
            "14/14 [==============================] - 2s 165ms/step - loss: 0.0336 - mse: 0.0336 - val_loss: 0.1758 - val_mse: 0.1758\n",
            "Epoch 198/300\n",
            "14/14 [==============================] - 2s 168ms/step - loss: 0.0313 - mse: 0.0313 - val_loss: 0.1843 - val_mse: 0.1843\n",
            "Epoch 199/300\n",
            "14/14 [==============================] - 2s 163ms/step - loss: 0.0303 - mse: 0.0303 - val_loss: 0.1675 - val_mse: 0.1675\n",
            "Epoch 200/300\n",
            "14/14 [==============================] - 3s 184ms/step - loss: 0.0291 - mse: 0.0291 - val_loss: 0.1608 - val_mse: 0.1608\n",
            "Epoch 201/300\n",
            "14/14 [==============================] - 2s 172ms/step - loss: 0.0285 - mse: 0.0285 - val_loss: 0.1673 - val_mse: 0.1673\n",
            "Epoch 202/300\n",
            "14/14 [==============================] - 2s 166ms/step - loss: 0.0295 - mse: 0.0295 - val_loss: 0.1870 - val_mse: 0.1870\n",
            "Epoch 203/300\n",
            "14/14 [==============================] - 2s 167ms/step - loss: 0.0306 - mse: 0.0306 - val_loss: 0.1501 - val_mse: 0.1501\n",
            "Epoch 204/300\n",
            "14/14 [==============================] - 2s 165ms/step - loss: 0.0319 - mse: 0.0319 - val_loss: 0.1737 - val_mse: 0.1737\n",
            "Epoch 205/300\n",
            "14/14 [==============================] - 2s 168ms/step - loss: 0.0328 - mse: 0.0328 - val_loss: 0.1937 - val_mse: 0.1937\n",
            "Epoch 206/300\n",
            "14/14 [==============================] - 2s 165ms/step - loss: 0.0373 - mse: 0.0373 - val_loss: 0.1547 - val_mse: 0.1547\n",
            "Epoch 207/300\n",
            "14/14 [==============================] - 2s 165ms/step - loss: 0.0383 - mse: 0.0383 - val_loss: 0.1910 - val_mse: 0.1910\n",
            "Epoch 208/300\n",
            "14/14 [==============================] - 2s 167ms/step - loss: 0.0403 - mse: 0.0403 - val_loss: 0.1794 - val_mse: 0.1794\n",
            "Epoch 209/300\n",
            "14/14 [==============================] - 2s 166ms/step - loss: 0.0425 - mse: 0.0425 - val_loss: 0.1641 - val_mse: 0.1641\n",
            "Epoch 210/300\n",
            "14/14 [==============================] - 2s 166ms/step - loss: 0.0488 - mse: 0.0488 - val_loss: 0.2356 - val_mse: 0.2356\n",
            "Epoch 211/300\n",
            "14/14 [==============================] - 2s 165ms/step - loss: 0.0470 - mse: 0.0470 - val_loss: 0.1669 - val_mse: 0.1669\n",
            "Epoch 212/300\n",
            "14/14 [==============================] - 2s 165ms/step - loss: 0.0509 - mse: 0.0509 - val_loss: 0.1628 - val_mse: 0.1628\n",
            "Epoch 213/300\n",
            "14/14 [==============================] - 2s 167ms/step - loss: 0.0320 - mse: 0.0320 - val_loss: 0.1795 - val_mse: 0.1795\n",
            "Epoch 214/300\n",
            "14/14 [==============================] - 2s 162ms/step - loss: 0.0325 - mse: 0.0325 - val_loss: 0.1584 - val_mse: 0.1584\n",
            "Epoch 215/300\n",
            "14/14 [==============================] - 2s 165ms/step - loss: 0.0351 - mse: 0.0351 - val_loss: 0.1636 - val_mse: 0.1636\n",
            "Epoch 216/300\n",
            "14/14 [==============================] - 2s 163ms/step - loss: 0.0320 - mse: 0.0320 - val_loss: 0.1714 - val_mse: 0.1714\n",
            "Epoch 217/300\n",
            "14/14 [==============================] - 2s 162ms/step - loss: 0.0388 - mse: 0.0388 - val_loss: 0.1496 - val_mse: 0.1496\n",
            "Epoch 218/300\n",
            "14/14 [==============================] - 2s 162ms/step - loss: 0.0445 - mse: 0.0445 - val_loss: 0.1834 - val_mse: 0.1834\n",
            "Epoch 219/300\n",
            "14/14 [==============================] - 2s 162ms/step - loss: 0.0278 - mse: 0.0278 - val_loss: 0.1610 - val_mse: 0.1610\n",
            "Epoch 220/300\n",
            "14/14 [==============================] - 2s 163ms/step - loss: 0.0270 - mse: 0.0270 - val_loss: 0.1533 - val_mse: 0.1533\n",
            "Epoch 221/300\n",
            "14/14 [==============================] - 2s 172ms/step - loss: 0.0299 - mse: 0.0299 - val_loss: 0.1624 - val_mse: 0.1624\n",
            "Epoch 222/300\n",
            "14/14 [==============================] - 2s 169ms/step - loss: 0.0324 - mse: 0.0324 - val_loss: 0.1737 - val_mse: 0.1737\n",
            "Epoch 223/300\n",
            "14/14 [==============================] - 2s 162ms/step - loss: 0.0354 - mse: 0.0354 - val_loss: 0.1509 - val_mse: 0.1509\n",
            "Epoch 224/300\n",
            "14/14 [==============================] - 2s 166ms/step - loss: 0.0452 - mse: 0.0452 - val_loss: 0.1818 - val_mse: 0.1818\n",
            "Epoch 225/300\n",
            "14/14 [==============================] - 2s 169ms/step - loss: 0.0309 - mse: 0.0309 - val_loss: 0.1623 - val_mse: 0.1623\n",
            "Epoch 226/300\n",
            "14/14 [==============================] - 2s 171ms/step - loss: 0.0315 - mse: 0.0315 - val_loss: 0.1500 - val_mse: 0.1500\n",
            "Epoch 227/300\n",
            "14/14 [==============================] - 3s 181ms/step - loss: 0.0322 - mse: 0.0322 - val_loss: 0.1629 - val_mse: 0.1629\n",
            "Epoch 228/300\n",
            "14/14 [==============================] - 2s 169ms/step - loss: 0.0393 - mse: 0.0393 - val_loss: 0.2003 - val_mse: 0.2003\n",
            "Epoch 229/300\n",
            "14/14 [==============================] - 2s 171ms/step - loss: 0.0335 - mse: 0.0335 - val_loss: 0.1365 - val_mse: 0.1365\n",
            "Epoch 230/300\n",
            "14/14 [==============================] - 2s 166ms/step - loss: 0.0355 - mse: 0.0355 - val_loss: 0.1491 - val_mse: 0.1491\n",
            "Epoch 231/300\n",
            "14/14 [==============================] - 2s 166ms/step - loss: 0.0333 - mse: 0.0333 - val_loss: 0.1524 - val_mse: 0.1524\n",
            "Epoch 232/300\n",
            "14/14 [==============================] - 2s 171ms/step - loss: 0.0337 - mse: 0.0337 - val_loss: 0.1618 - val_mse: 0.1618\n",
            "Epoch 233/300\n",
            "14/14 [==============================] - 2s 166ms/step - loss: 0.0277 - mse: 0.0277 - val_loss: 0.1711 - val_mse: 0.1711\n",
            "Epoch 234/300\n",
            "14/14 [==============================] - 2s 169ms/step - loss: 0.0272 - mse: 0.0272 - val_loss: 0.1669 - val_mse: 0.1669\n",
            "Epoch 235/300\n",
            "14/14 [==============================] - 2s 167ms/step - loss: 0.0301 - mse: 0.0301 - val_loss: 0.1643 - val_mse: 0.1643\n",
            "Epoch 236/300\n",
            "14/14 [==============================] - 2s 169ms/step - loss: 0.0379 - mse: 0.0379 - val_loss: 0.1799 - val_mse: 0.1799\n",
            "Epoch 237/300\n",
            "14/14 [==============================] - 2s 167ms/step - loss: 0.0353 - mse: 0.0353 - val_loss: 0.1546 - val_mse: 0.1546\n",
            "Epoch 238/300\n",
            "14/14 [==============================] - 2s 169ms/step - loss: 0.0412 - mse: 0.0412 - val_loss: 0.1599 - val_mse: 0.1599\n",
            "Epoch 239/300\n",
            "14/14 [==============================] - 2s 170ms/step - loss: 0.0314 - mse: 0.0314 - val_loss: 0.1607 - val_mse: 0.1607\n",
            "Epoch 240/300\n",
            "14/14 [==============================] - 2s 167ms/step - loss: 0.0380 - mse: 0.0380 - val_loss: 0.1889 - val_mse: 0.1889\n",
            "Epoch 241/300\n",
            "14/14 [==============================] - 2s 171ms/step - loss: 0.0336 - mse: 0.0336 - val_loss: 0.1658 - val_mse: 0.1658\n",
            "Epoch 242/300\n",
            "14/14 [==============================] - 2s 167ms/step - loss: 0.0360 - mse: 0.0360 - val_loss: 0.1265 - val_mse: 0.1265\n",
            "Epoch 243/300\n",
            "14/14 [==============================] - 2s 171ms/step - loss: 0.0386 - mse: 0.0386 - val_loss: 0.1824 - val_mse: 0.1824\n",
            "Epoch 244/300\n",
            "14/14 [==============================] - 2s 169ms/step - loss: 0.0433 - mse: 0.0433 - val_loss: 0.1957 - val_mse: 0.1957\n",
            "Epoch 245/300\n",
            "14/14 [==============================] - 2s 168ms/step - loss: 0.0356 - mse: 0.0356 - val_loss: 0.1680 - val_mse: 0.1680\n",
            "Epoch 246/300\n",
            "14/14 [==============================] - 2s 168ms/step - loss: 0.0357 - mse: 0.0357 - val_loss: 0.1502 - val_mse: 0.1502\n",
            "Epoch 247/300\n",
            "14/14 [==============================] - 2s 168ms/step - loss: 0.0322 - mse: 0.0322 - val_loss: 0.1961 - val_mse: 0.1961\n",
            "Epoch 248/300\n",
            "14/14 [==============================] - 2s 170ms/step - loss: 0.0313 - mse: 0.0313 - val_loss: 0.2072 - val_mse: 0.2072\n",
            "Epoch 249/300\n",
            "14/14 [==============================] - 2s 166ms/step - loss: 0.0290 - mse: 0.0290 - val_loss: 0.1682 - val_mse: 0.1682\n",
            "Epoch 250/300\n",
            "14/14 [==============================] - 2s 171ms/step - loss: 0.0291 - mse: 0.0291 - val_loss: 0.2077 - val_mse: 0.2077\n",
            "Epoch 251/300\n",
            "14/14 [==============================] - 2s 170ms/step - loss: 0.0360 - mse: 0.0360 - val_loss: 0.1690 - val_mse: 0.1690\n",
            "Epoch 252/300\n",
            "14/14 [==============================] - 2s 173ms/step - loss: 0.0406 - mse: 0.0406 - val_loss: 0.1870 - val_mse: 0.1870\n",
            "Epoch 253/300\n",
            "14/14 [==============================] - 2s 168ms/step - loss: 0.0261 - mse: 0.0261 - val_loss: 0.2038 - val_mse: 0.2038\n",
            "Epoch 254/300\n",
            "14/14 [==============================] - 2s 165ms/step - loss: 0.0296 - mse: 0.0296 - val_loss: 0.1638 - val_mse: 0.1638\n",
            "Epoch 255/300\n",
            "14/14 [==============================] - 2s 164ms/step - loss: 0.0310 - mse: 0.0310 - val_loss: 0.1804 - val_mse: 0.1804\n",
            "Epoch 256/300\n",
            "14/14 [==============================] - 2s 167ms/step - loss: 0.0252 - mse: 0.0252 - val_loss: 0.1981 - val_mse: 0.1981\n",
            "Epoch 257/300\n",
            "14/14 [==============================] - 2s 165ms/step - loss: 0.0280 - mse: 0.0280 - val_loss: 0.1612 - val_mse: 0.1612\n",
            "Epoch 258/300\n",
            "14/14 [==============================] - 2s 163ms/step - loss: 0.0331 - mse: 0.0331 - val_loss: 0.1908 - val_mse: 0.1908\n",
            "Epoch 259/300\n",
            "14/14 [==============================] - 2s 167ms/step - loss: 0.0292 - mse: 0.0292 - val_loss: 0.1864 - val_mse: 0.1864\n",
            "Epoch 260/300\n",
            "14/14 [==============================] - 2s 161ms/step - loss: 0.0295 - mse: 0.0295 - val_loss: 0.1581 - val_mse: 0.1581\n",
            "Epoch 261/300\n",
            "14/14 [==============================] - 2s 164ms/step - loss: 0.0345 - mse: 0.0345 - val_loss: 0.2108 - val_mse: 0.2108\n",
            "Epoch 262/300\n",
            "14/14 [==============================] - 2s 164ms/step - loss: 0.0385 - mse: 0.0385 - val_loss: 0.1740 - val_mse: 0.1740\n",
            "Epoch 263/300\n",
            "14/14 [==============================] - 2s 173ms/step - loss: 0.0409 - mse: 0.0409 - val_loss: 0.1718 - val_mse: 0.1718\n",
            "Epoch 264/300\n",
            "14/14 [==============================] - 3s 177ms/step - loss: 0.0381 - mse: 0.0381 - val_loss: 0.2351 - val_mse: 0.2351\n",
            "Epoch 265/300\n",
            "14/14 [==============================] - 3s 179ms/step - loss: 0.0471 - mse: 0.0471 - val_loss: 0.1683 - val_mse: 0.1683\n",
            "Epoch 266/300\n",
            "14/14 [==============================] - 3s 181ms/step - loss: 0.0572 - mse: 0.0572 - val_loss: 0.2207 - val_mse: 0.2207\n",
            "Epoch 267/300\n",
            "14/14 [==============================] - 3s 182ms/step - loss: 0.0400 - mse: 0.0400 - val_loss: 0.1587 - val_mse: 0.1587\n",
            "Epoch 268/300\n",
            "14/14 [==============================] - 3s 183ms/step - loss: 0.0617 - mse: 0.0617 - val_loss: 0.1433 - val_mse: 0.1433\n",
            "Epoch 269/300\n",
            "14/14 [==============================] - 3s 183ms/step - loss: 0.0517 - mse: 0.0517 - val_loss: 0.2158 - val_mse: 0.2158\n",
            "Epoch 270/300\n",
            "14/14 [==============================] - 3s 187ms/step - loss: 0.0447 - mse: 0.0447 - val_loss: 0.1784 - val_mse: 0.1784\n",
            "Epoch 271/300\n",
            "14/14 [==============================] - 3s 182ms/step - loss: 0.0521 - mse: 0.0521 - val_loss: 0.1814 - val_mse: 0.1814\n",
            "Epoch 272/300\n",
            "14/14 [==============================] - 3s 185ms/step - loss: 0.0404 - mse: 0.0404 - val_loss: 0.1777 - val_mse: 0.1777\n",
            "Epoch 273/300\n",
            "14/14 [==============================] - 3s 184ms/step - loss: 0.0407 - mse: 0.0407 - val_loss: 0.1491 - val_mse: 0.1491\n",
            "Epoch 274/300\n",
            "14/14 [==============================] - 3s 181ms/step - loss: 0.0508 - mse: 0.0508 - val_loss: 0.2206 - val_mse: 0.2206\n",
            "Epoch 275/300\n",
            "14/14 [==============================] - 3s 183ms/step - loss: 0.0533 - mse: 0.0533 - val_loss: 0.1593 - val_mse: 0.1593\n",
            "Epoch 276/300\n",
            "14/14 [==============================] - 3s 184ms/step - loss: 0.0630 - mse: 0.0630 - val_loss: 0.1940 - val_mse: 0.1940\n",
            "Epoch 277/300\n",
            "14/14 [==============================] - 3s 189ms/step - loss: 0.0576 - mse: 0.0576 - val_loss: 0.2342 - val_mse: 0.2342\n",
            "Epoch 278/300\n",
            "14/14 [==============================] - 3s 189ms/step - loss: 0.0563 - mse: 0.0563 - val_loss: 0.1388 - val_mse: 0.1388\n",
            "Epoch 279/300\n",
            "14/14 [==============================] - 3s 188ms/step - loss: 0.0699 - mse: 0.0699 - val_loss: 0.2549 - val_mse: 0.2549\n",
            "Epoch 280/300\n",
            "14/14 [==============================] - 3s 183ms/step - loss: 0.0511 - mse: 0.0511 - val_loss: 0.1696 - val_mse: 0.1696\n",
            "Epoch 281/300\n",
            "14/14 [==============================] - 3s 205ms/step - loss: 0.0652 - mse: 0.0652 - val_loss: 0.2856 - val_mse: 0.2856\n",
            "Epoch 282/300\n",
            "14/14 [==============================] - 3s 181ms/step - loss: 0.0527 - mse: 0.0527 - val_loss: 0.1625 - val_mse: 0.1625\n",
            "Epoch 283/300\n",
            "14/14 [==============================] - 3s 183ms/step - loss: 0.0724 - mse: 0.0724 - val_loss: 0.2701 - val_mse: 0.2701\n",
            "Epoch 284/300\n",
            "14/14 [==============================] - 3s 182ms/step - loss: 0.0496 - mse: 0.0496 - val_loss: 0.1569 - val_mse: 0.1569\n",
            "Epoch 285/300\n",
            "14/14 [==============================] - 3s 187ms/step - loss: 0.0517 - mse: 0.0517 - val_loss: 0.2513 - val_mse: 0.2513\n",
            "Epoch 286/300\n",
            "14/14 [==============================] - 3s 182ms/step - loss: 0.0398 - mse: 0.0398 - val_loss: 0.1477 - val_mse: 0.1477\n",
            "Epoch 287/300\n",
            "14/14 [==============================] - 3s 181ms/step - loss: 0.0448 - mse: 0.0448 - val_loss: 0.2181 - val_mse: 0.2181\n",
            "Epoch 288/300\n",
            "14/14 [==============================] - 3s 181ms/step - loss: 0.0377 - mse: 0.0377 - val_loss: 0.2117 - val_mse: 0.2117\n",
            "Epoch 289/300\n",
            "14/14 [==============================] - 3s 185ms/step - loss: 0.0691 - mse: 0.0691 - val_loss: 0.1624 - val_mse: 0.1624\n",
            "Epoch 290/300\n",
            "14/14 [==============================] - 3s 183ms/step - loss: 0.1397 - mse: 0.1397 - val_loss: 0.3676 - val_mse: 0.3676\n",
            "Epoch 291/300\n",
            "14/14 [==============================] - 3s 181ms/step - loss: 0.1232 - mse: 0.1232 - val_loss: 0.0624 - val_mse: 0.0624\n",
            "Epoch 292/300\n",
            "14/14 [==============================] - 3s 186ms/step - loss: 0.1108 - mse: 0.1108 - val_loss: 0.0640 - val_mse: 0.0640\n",
            "Epoch 293/300\n",
            "14/14 [==============================] - 3s 180ms/step - loss: 0.0835 - mse: 0.0835 - val_loss: 0.0861 - val_mse: 0.0861\n",
            "Epoch 294/300\n",
            "14/14 [==============================] - 3s 183ms/step - loss: 0.0872 - mse: 0.0872 - val_loss: 0.0598 - val_mse: 0.0598\n",
            "Epoch 295/300\n",
            "14/14 [==============================] - 3s 179ms/step - loss: 0.0900 - mse: 0.0900 - val_loss: 0.0527 - val_mse: 0.0527\n",
            "Epoch 296/300\n",
            "14/14 [==============================] - 3s 182ms/step - loss: 0.1058 - mse: 0.1058 - val_loss: 0.0955 - val_mse: 0.0955\n",
            "Epoch 297/300\n",
            "14/14 [==============================] - 3s 178ms/step - loss: 0.1023 - mse: 0.1023 - val_loss: 0.0641 - val_mse: 0.0641\n",
            "Epoch 298/300\n",
            "14/14 [==============================] - 3s 183ms/step - loss: 0.1008 - mse: 0.1008 - val_loss: 0.0644 - val_mse: 0.0644\n",
            "Epoch 299/300\n",
            "14/14 [==============================] - 3s 178ms/step - loss: 0.0811 - mse: 0.0811 - val_loss: 0.0923 - val_mse: 0.0923\n",
            "Epoch 300/300\n",
            "14/14 [==============================] - 3s 181ms/step - loss: 0.0813 - mse: 0.0813 - val_loss: 0.0561 - val_mse: 0.0561\n"
          ]
        }
      ],
      "source": [
        "# fit the model\n",
        "import tensorflow as tf\n",
        "#early_stopping = tf.keras.callbacks.EarlyStopping(monitor='val_loss',patience=2,mode='min')\n",
        "\n",
        "#model.compile(loss=tf.losses.MeanSquaredError(),optimizer=tf.optimizers.Adam(),metrics=[tf.metrics.MeanAbsoluteError()])\n",
        "epoch = 300\n",
        "batch_size=800\n",
        "loss_callback_obj = myCallback()\n",
        "#history = model.fit(train_generator, validation_data = test_generator, epochs=epoch, batch_size=batch_size, verbose=1,shuffle=False,callbacks=[loss_callback_obj])\n",
        "history = model.fit(train_generator, validation_data = test_generator, epochs=epoch, batch_size=batch_size, verbose=1,shuffle=False)\n",
        "#model = load_model(r'C:\\Users\\ASUS\\Documents\\AllThingsPython\\GLO_NN\\NNModel_ann\\1LSTM_GLIR_QO2_180_again')\n",
        "#model.summary(\"\")\n"
      ]
    },
    {
      "cell_type": "code",
      "execution_count": 38,
      "metadata": {
        "colab": {
          "base_uri": "https://localhost:8080/"
        },
        "id": "SY4PBhyc1s5W",
        "outputId": "bbd86297-7ea6-4986-82de-a266ed8a1426"
      },
      "outputs": [
        {
          "name": "stderr",
          "output_type": "stream",
          "text": [
            "WARNING:absl:Found untraced functions such as _update_step_xla while saving (showing 1 of 1). These functions will not be directly callable after loading.\n"
          ]
        },
        {
          "name": "stdout",
          "output_type": "stream",
          "text": [
            "INFO:tensorflow:Assets written to: 3LSTM_ALL_QO2_1601601602\\assets\n"
          ]
        },
        {
          "name": "stderr",
          "output_type": "stream",
          "text": [
            "INFO:tensorflow:Assets written to: 3LSTM_ALL_QO2_1601601602\\assets\n"
          ]
        }
      ],
      "source": [
        "filename = \"3LSTM_ALL_QO2_1601601602\"\n",
        "model.save(filename)"
      ]
    },
    {
      "cell_type": "code",
      "execution_count": 39,
      "metadata": {
        "id": "mynZHTe_1s5X"
      },
      "outputs": [],
      "source": [
        "#from tensorflow.keras.models import load_model\n",
        "#model = load_model(\"RNN_model_resolved\")"
      ]
    },
    {
      "attachments": {},
      "cell_type": "markdown",
      "metadata": {
        "id": "zGhbVoSM1s5Y"
      },
      "source": [
        "Weights and Biasses"
      ]
    },
    {
      "cell_type": "code",
      "execution_count": 40,
      "metadata": {
        "colab": {
          "base_uri": "https://localhost:8080/",
          "height": 1000
        },
        "id": "V9wIIXx51s5Z",
        "outputId": "0fde6858-65e0-4dae-89b3-3321e0e6e330"
      },
      "outputs": [
        {
          "name": "stdout",
          "output_type": "stream",
          "text": [
            "[1.0396323204040527, 0.8467524647712708, 0.41252127289772034, 0.4450770914554596, 0.45671001076698303, 0.5311144590377808, 0.3343762755393982, 0.4513673186302185, 0.2536531984806061, 0.3559817373752594, 0.2563719153404236, 0.3069501221179962, 0.22030925750732422, 0.25928667187690735, 0.1907414197921753, 0.22923173010349274, 0.17984840273857117, 0.1806413233280182, 0.19778184592723846, 0.16725581884384155, 0.19031672179698944, 0.20898205041885376, 0.2001906931400299, 0.23182529211044312, 0.17754192650318146, 0.16847698390483856, 0.14545561373233795, 0.1518867164850235, 0.15879222750663757, 0.14327633380889893, 0.1799556463956833, 0.1606595814228058, 0.14867040514945984, 0.1653842180967331, 0.1434592604637146, 0.12935365736484528, 0.13224083185195923, 0.15616001188755035, 0.1396540254354477, 0.17225497961044312, 0.1643383949995041, 0.1349536031484604, 0.1555120348930359, 0.1287541389465332, 0.12201711535453796, 0.12993820011615753, 0.12899190187454224, 0.11058574914932251, 0.19022399187088013, 0.13071775436401367, 0.14296041429042816, 0.09826960414648056, 0.10013337433338165, 0.09344214200973511, 0.0834001675248146, 0.09607755392789841, 0.12006085366010666, 0.13217106461524963, 0.10990692675113678, 0.10621613264083862, 0.09235117584466934, 0.08822298794984818, 0.08723679184913635, 0.07697365432977676, 0.0734899491071701, 0.10488369315862656, 0.12687768042087555, 0.09676394611597061, 0.19413699209690094, 0.1688036173582077, 0.25373774766921997, 0.1351478546857834, 0.1620621234178543, 0.12391310185194016, 0.1788361817598343, 0.11201080679893494, 0.13002386689186096, 0.09714552015066147, 0.14366774260997772, 0.08641756325960159, 0.10685721039772034, 0.07711480557918549, 0.09063577651977539, 0.06911347806453705, 0.08270718157291412, 0.06368932127952576, 0.0702720507979393, 0.05946963652968407, 0.056750357151031494, 0.05860742926597595, 0.05668451264500618, 0.08348745852708817, 0.06673423200845718, 0.06191558018326759, 0.06655071675777435, 0.06008163094520569, 0.06838716566562653, 0.05579439923167229, 0.05028282105922699, 0.06062593683600426, 0.06389816850423813, 0.07508670538663864, 0.05680398643016815, 0.05465029180049896, 0.055603064596652985, 0.05584389343857765, 0.05106158182024956, 0.07256747782230377, 0.06346610933542252, 0.0644662156701088, 0.048757798969745636, 0.05087510123848915, 0.05262818560004234, 0.05186016112565994, 0.05092993006110191, 0.05629846453666687, 0.059451572597026825, 0.060455646365880966, 0.08678436279296875, 0.05716728791594505, 0.04616324603557587, 0.04791306331753731, 0.05096132680773735, 0.05386027321219444, 0.050346922129392624, 0.05239177867770195, 0.05222262814640999, 0.05046877637505531, 0.05503389611840248, 0.0779927521944046, 0.04851200059056282, 0.0528535470366478, 0.04801454395055771, 0.05258458852767944, 0.04620719701051712, 0.046717919409275055, 0.04583697021007538, 0.06102394312620163, 0.053749311715364456, 0.053309936076402664, 0.04125102981925011, 0.04238945618271828, 0.038821447640657425, 0.04139994457364082, 0.04731086641550064, 0.056223314255476, 0.038217708468437195, 0.04007764905691147, 0.038437824696302414, 0.04341312497854233, 0.045832328498363495, 0.055318210273981094, 0.036943159997463226, 0.03861214593052864, 0.03554060682654381, 0.04113096743822098, 0.04488464444875717, 0.05746009573340416, 0.041490230709314346, 0.04476714879274368, 0.045776061713695526, 0.054705660790205, 0.05653521046042442, 0.07279938459396362, 0.048142850399017334, 0.03877616301178932, 0.050373513251543045, 0.055925387889146805, 0.0774717628955841, 0.038466110825538635, 0.03601393103599548, 0.03407888486981392, 0.0316401831805706, 0.03062242828309536, 0.030073540285229683, 0.031160682439804077, 0.030485281720757484, 0.03317171335220337, 0.03383539989590645, 0.035242609679698944, 0.03993837907910347, 0.038329560309648514, 0.046118587255477905, 0.041056908667087555, 0.04242091625928879, 0.04802117869257927, 0.05476928502321243, 0.05797598883509636, 0.0623665414750576, 0.06072195619344711, 0.10807696729898453, 0.057459816336631775, 0.04586643725633621, 0.03574652969837189, 0.0324215330183506, 0.03113672137260437, 0.03356371447443962, 0.03132902458310127, 0.03034706600010395, 0.02914239652454853, 0.028538718819618225, 0.029511505737900734, 0.0306253544986248, 0.03186047077178955, 0.03283634036779404, 0.037348147481679916, 0.038305193185806274, 0.040265802294015884, 0.04249010980129242, 0.04878368228673935, 0.047030139714479446, 0.05086271092295647, 0.032041799277067184, 0.032518573105335236, 0.03513645380735397, 0.032042328268289566, 0.03875120356678963, 0.04447264224290848, 0.027796920388936996, 0.02697398141026497, 0.029878312721848488, 0.03242705389857292, 0.03541727736592293, 0.04515589401125908, 0.030940476804971695, 0.031501345336437225, 0.03217821940779686, 0.03929835185408592, 0.03351112827658653, 0.03554185852408409, 0.03326347842812538, 0.033746253699064255, 0.027698639780282974, 0.027226338163018227, 0.030058788135647774, 0.03790287673473358, 0.03527052700519562, 0.04119935259222984, 0.03136999160051346, 0.03796950355172157, 0.033645641058683395, 0.03599885478615761, 0.038613211363554, 0.043257683515548706, 0.035618457943201065, 0.03567660599946976, 0.0322260707616806, 0.03129452466964722, 0.029017530381679535, 0.029131313785910606, 0.03600335866212845, 0.040644507855176926, 0.02608146145939827, 0.029578296467661858, 0.030989794060587883, 0.025179149582982063, 0.028049813583493233, 0.033058200031518936, 0.029210105538368225, 0.02951403334736824, 0.03451695665717125, 0.03853301703929901, 0.04087492451071739, 0.03812515363097191, 0.047051575034856796, 0.057159774005413055, 0.0400264598429203, 0.06174181401729584, 0.05166204273700714, 0.04468751698732376, 0.052080024033784866, 0.04040727764368057, 0.04074886441230774, 0.050754301249980927, 0.05326434597373009, 0.06295224279165268, 0.05755891278386116, 0.05626320466399193, 0.06988556683063507, 0.05109020695090294, 0.06524980068206787, 0.05270039662718773, 0.07242567092180252, 0.049645744264125824, 0.05165950581431389, 0.039843447506427765, 0.04483746364712715, 0.03770553693175316, 0.069142185151577, 0.13968271017074585, 0.12317253649234772, 0.11081021279096603, 0.08349432051181793, 0.08723217993974686, 0.09003068506717682, 0.10576807707548141, 0.10226433724164963, 0.10083343088626862, 0.08112593740224838, 0.08126653730869293]\n",
            "[0.56295245885849, 0.3512592911720276, 0.3800560534000397, 0.244545578956604, 0.5292759537696838, 0.5486805438995361, 0.17556636035442352, 0.28655916452407837, 0.13528412580490112, 0.3156477212905884, 0.10854871571063995, 0.2695064842700958, 0.10336005687713623, 0.25981417298316956, 0.09875520318746567, 0.19688694179058075, 0.10040640085935593, 0.13184452056884766, 0.10245151817798615, 0.13419027626514435, 0.08420602977275848, 0.14132940769195557, 0.11119099706411362, 0.1347855180501938, 0.08896060287952423, 0.11180821806192398, 0.08740761876106262, 0.0793183296918869, 0.08989788591861725, 0.09531297534704208, 0.08635708689689636, 0.099374920129776, 0.09341004490852356, 0.07370037585496902, 0.0929969772696495, 0.08925458788871765, 0.07253818213939667, 0.09401188790798187, 0.11454962939023972, 0.0831746757030487, 0.0958825945854187, 0.09101366251707077, 0.07231830060482025, 0.1033807024359703, 0.08184228837490082, 0.09376832097768784, 0.12656782567501068, 0.09563802182674408, 0.09506871551275253, 0.08238305151462555, 0.11492239683866501, 0.10113503783941269, 0.12044088542461395, 0.1599583774805069, 0.1448279619216919, 0.18151716887950897, 0.07590700685977936, 0.09362860023975372, 0.09529568254947662, 0.10698788613080978, 0.11635496467351913, 0.09840165078639984, 0.1065034493803978, 0.14228031039237976, 0.1554243117570877, 0.19111458957195282, 0.12434565275907516, 0.12198907136917114, 0.19826781749725342, 0.10548125207424164, 0.22055107355117798, 0.1668718308210373, 0.2603217661380768, 0.15459704399108887, 0.2762245833873749, 0.18872912228107452, 0.16171416640281677, 0.1682216376066208, 0.2575926184654236, 0.17980548739433289, 0.20061032474040985, 0.1646650731563568, 0.1972888857126236, 0.1457175314426422, 0.1819806843996048, 0.1434856802225113, 0.15186725556850433, 0.15045024454593658, 0.1410839855670929, 0.16343246400356293, 0.14784693717956543, 0.13695161044597626, 0.14927926659584045, 0.15586741268634796, 0.19111202657222748, 0.1626015454530716, 0.18286561965942383, 0.19331394135951996, 0.15991319715976715, 0.1861766129732132, 0.16321417689323425, 0.14887118339538574, 0.1685444563627243, 0.1744043529033661, 0.17554177343845367, 0.1957288533449173, 0.15857048332691193, 0.19438879191875458, 0.15083760023117065, 0.16995498538017273, 0.18189583718776703, 0.16778729856014252, 0.1556137502193451, 0.19026890397071838, 0.1761910617351532, 0.16636113822460175, 0.2184712290763855, 0.1546875685453415, 0.1964702010154724, 0.1741700917482376, 0.15737499296665192, 0.1776069700717926, 0.16684123873710632, 0.156419038772583, 0.19475601613521576, 0.18674236536026, 0.174836665391922, 0.20652344822883606, 0.16485579311847687, 0.2009568214416504, 0.16457515954971313, 0.15746547281742096, 0.18225164711475372, 0.17213736474514008, 0.19100724160671234, 0.1787552684545517, 0.17315839231014252, 0.1994427591562271, 0.15457794070243835, 0.15764880180358887, 0.18143092095851898, 0.1783568263053894, 0.1714300960302353, 0.1834333837032318, 0.15677303075790405, 0.16612784564495087, 0.1829269379377365, 0.17310665547847748, 0.16999322175979614, 0.19374072551727295, 0.16509467363357544, 0.17567205429077148, 0.16730071604251862, 0.1696726530790329, 0.16892500221729279, 0.17344528436660767, 0.13457320630550385, 0.1583339124917984, 0.21292683482170105, 0.15654639899730682, 0.17321158945560455, 0.2336883842945099, 0.16012318432331085, 0.19813616573810577, 0.17156220972537994, 0.16307707130908966, 0.22428351640701294, 0.1573568433523178, 0.18835553526878357, 0.1477900594472885, 0.17168600857257843, 0.16263090074062347, 0.1567450761795044, 0.1791505664587021, 0.15939238667488098, 0.16293573379516602, 0.15431329607963562, 0.16374479234218597, 0.14778092503547668, 0.1842607706785202, 0.1827150136232376, 0.16052252054214478, 0.17327742278575897, 0.17522086203098297, 0.1526654213666916, 0.21692779660224915, 0.17832458019256592, 0.16936682164669037, 0.23468786478042603, 0.14458638429641724, 0.21422630548477173, 0.16147737205028534, 0.20392923057079315, 0.16764943301677704, 0.17236299812793732, 0.18503956496715546, 0.17581091821193695, 0.18427689373493195, 0.1674516499042511, 0.16078877449035645, 0.16730612516403198, 0.18700814247131348, 0.15008307993412018, 0.17368951439857483, 0.1937095671892166, 0.15474656224250793, 0.191040500998497, 0.17941813170909882, 0.16406482458114624, 0.23558545112609863, 0.16689786314964294, 0.16280779242515564, 0.17947645485401154, 0.1583702564239502, 0.16363579034805298, 0.1714002788066864, 0.14955972135066986, 0.18342731893062592, 0.1609998643398285, 0.15327687561511993, 0.1624143272638321, 0.17369244992733002, 0.15086686611175537, 0.18182270228862762, 0.16228246688842773, 0.15001831948757172, 0.16290347278118134, 0.20029492676258087, 0.1364569514989853, 0.149105504155159, 0.15236514806747437, 0.16182738542556763, 0.1711088865995407, 0.16692395508289337, 0.16430942714214325, 0.17994898557662964, 0.15455304086208344, 0.1599264144897461, 0.1607278287410736, 0.18892422318458557, 0.1658361256122589, 0.1264512538909912, 0.18243198096752167, 0.19572407007217407, 0.16797982156276703, 0.1501922309398651, 0.1960715800523758, 0.2072375863790512, 0.16820108890533447, 0.20773552358150482, 0.16899342834949493, 0.18695800006389618, 0.20381036400794983, 0.16378235816955566, 0.18037636578083038, 0.19806843996047974, 0.16120150685310364, 0.19078606367111206, 0.18635565042495728, 0.15806949138641357, 0.21080681681632996, 0.1740410178899765, 0.17179574072360992, 0.23512068390846252, 0.16825003921985626, 0.22074340283870697, 0.15868304669857025, 0.14326344430446625, 0.21584144234657288, 0.17835865914821625, 0.1813773810863495, 0.1777310073375702, 0.14905036985874176, 0.22064223885536194, 0.15929833054542542, 0.19399836659431458, 0.23421373963356018, 0.1388143002986908, 0.25489237904548645, 0.1695997714996338, 0.28563401103019714, 0.16248203814029694, 0.2701306641101837, 0.15690001845359802, 0.25128620862960815, 0.14769499003887177, 0.2180728018283844, 0.21167905628681183, 0.1623675525188446, 0.3676460087299347, 0.0623815581202507, 0.06401190161705017, 0.08606146275997162, 0.05975351110100746, 0.052702195942401886, 0.09554673731327057, 0.06405056267976761, 0.06437470763921738, 0.09229306876659393, 0.056140296161174774]\n"
          ]
        },
        {
          "data": {
            "image/png": "[encoded data removed]",
            "text/plain": [
              "<Figure size 432x288 with 1 Axes>"
            ]
          },
          "metadata": {
            "needs_background": "light"
          },
          "output_type": "display_data"
        }
      ],
      "source": [
        "xx = np.arange(0,len(history.history['loss']))\n",
        "\n",
        "print(history.history['loss'])\n",
        "print(history.history['val_loss'])\n",
        "#print(xx)\n",
        "\n",
        "plt.figure(1)\n",
        "plt.plot(xx,history.history['loss'], label='Training loss')\n",
        "plt.plot(xx,history.history['val_loss'], label='Validation loss')\n",
        "plt.title(\"Training Loss vs Validation Loss\")\n",
        "plt.xlabel(\"epoch\")\n",
        "plt.ylabel(\"val\")\n",
        "plt.legend()\n",
        "plt.grid()"
      ]
    },
    {
      "attachments": {},
      "cell_type": "markdown",
      "metadata": {
        "id": "Y3MZYDpl1s5a"
      },
      "source": [
        "train value"
      ]
    },
    {
      "cell_type": "code",
      "execution_count": 41,
      "metadata": {
        "colab": {
          "base_uri": "https://localhost:8080/"
        },
        "id": "pz-95QuXM_x7",
        "outputId": "910e9e1c-dc30-4cf4-d4d8-7448e32ebd33"
      },
      "outputs": [],
      "source": [
        "#trainX[:,:][lookback:]"
      ]
    },
    {
      "cell_type": "code",
      "execution_count": 42,
      "metadata": {
        "colab": {
          "base_uri": "https://localhost:8080/"
        },
        "id": "H_D-2rfYMMHu",
        "outputId": "c917b27f-1c9e-48b6-9516-d80166167709"
      },
      "outputs": [],
      "source": [
        "#print(np.shape(y_pred_train))\n",
        "#np.shape(trainX[:,:][lookback:])"
      ]
    },
    {
      "cell_type": "code",
      "execution_count": 43,
      "metadata": {
        "colab": {
          "base_uri": "https://localhost:8080/"
        },
        "id": "b4opmVE21s5a",
        "outputId": "ee952cb6-5388-4b6f-9395-cd438b662237"
      },
      "outputs": [
        {
          "name": "stderr",
          "output_type": "stream",
          "text": [
            "C:\\Users\\ASUS\\AppData\\Local\\Temp/ipykernel_12692/1740566743.py:1: UserWarning: `Model.predict_generator` is deprecated and will be removed in a future version. Please use `Model.predict`, which supports generators.\n",
            "  y_pred_train = model.predict_generator(train_generator)\n"
          ]
        },
        {
          "name": "stdout",
          "output_type": "stream",
          "text": [
            "(3959, 1)\n",
            "(3959, 1)\n"
          ]
        }
      ],
      "source": [
        "y_pred_train = model.predict_generator(train_generator)\n",
        "#y_pred_train = np.reshape(y_pred_train,(np.shape(y_pred_train)[0],14))\n",
        "df_pred_train = pd.concat([pd.DataFrame(y_pred_train), pd.DataFrame(trainX[:,:][lookback:])],axis=1)\n",
        "\n",
        "#rev_trans_train = scaler.inverse_transform(df_pred_train)\n",
        "rev_trans_train = scaler.inverse_transform(y_pred_train)\n",
        "\n",
        "y_predict_train = np.resize(rev_trans_train[:,0],(len(rev_trans_train[:,0]),1))\n",
        "y_real = y1[lookback:]\n",
        "\n",
        "df_final_train = pd.concat([pd.DataFrame(y_predict_train), pd.DataFrame(y_real)],axis=1)\n",
        "df_final_train\n",
        "print(y_predict_train.shape)\n",
        "print(y_real.shape)"
      ]
    },
    {
      "cell_type": "code",
      "execution_count": 44,
      "metadata": {
        "colab": {
          "base_uri": "https://localhost:8080/",
          "height": 489
        },
        "id": "byuQw6nv1s5b",
        "outputId": "b025653a-eba8-430b-af00-c259242cb66f"
      },
      "outputs": [
        {
          "data": {
            "text/plain": [
              "Text(0.5, 1.0, 'NN Prediction Train')"
            ]
          },
          "execution_count": 44,
          "metadata": {},
          "output_type": "execute_result"
        },
        {
          "data": {
            "image/png": "[encoded data removed]",
            "text/plain": [
              "<Figure size 432x288 with 1 Axes>"
            ]
          },
          "metadata": {
            "needs_background": "light"
          },
          "output_type": "display_data"
        }
      ],
      "source": [
        "plt.plot(np.arange(0,len(y_predict_train)),y_predict_train,'-*',label='pred')\n",
        "plt.plot(np.arange(0,len(y_real)),y_real,'-o',label='real')\n",
        "plt.legend()\n",
        "plt.grid()\n",
        "plt.xlabel(\"days\")\n",
        "plt.ylabel(\"Oil Flow Rate\")\n",
        "plt.title(\"NN Prediction Train\")"
      ]
    },
    {
      "attachments": {},
      "cell_type": "markdown",
      "metadata": {
        "id": "__6IEQHi1s5c"
      },
      "source": [
        "Metric"
      ]
    },
    {
      "cell_type": "code",
      "execution_count": 45,
      "metadata": {
        "colab": {
          "base_uri": "https://localhost:8080/",
          "height": 576
        },
        "id": "CMiquWKN1s5d",
        "outputId": "87e8b843-8005-48a7-d52d-16f2770bd732"
      },
      "outputs": [
        {
          "name": "stdout",
          "output_type": "stream",
          "text": [
            "Root Mean Square Error:\n",
            "17.08\n",
            "\n",
            "R2 Value:\n",
            "0.92\n"
          ]
        },
        {
          "data": {
            "text/plain": [
              "Text(0.5, 1.0, 'R2 Score= 0.92 of Training data')"
            ]
          },
          "execution_count": 45,
          "metadata": {},
          "output_type": "execute_result"
        },
        {
          "data": {
            "image/png": "[encoded data removed]",
            "text/plain": [
              "<Figure size 432x288 with 1 Axes>"
            ]
          },
          "metadata": {
            "needs_background": "light"
          },
          "output_type": "display_data"
        }
      ],
      "source": [
        "import math\n",
        "from sklearn.metrics import r2_score\n",
        "\n",
        "MSE = np.square(np.subtract(y_real,y_predict_train)).mean() \n",
        " \n",
        "RMSE = math.sqrt(MSE)\n",
        "print(\"Root Mean Square Error:\")\n",
        "print(round(RMSE,2))\n",
        "\n",
        "r2 = r2_score(y_real,y_predict_train)\n",
        "print(\"\\nR2 Value:\")\n",
        "print(round(r2,2))\n",
        "\n",
        "plt.scatter(y_real,y_predict_train)\n",
        "plt.plot(y_real,y_real,'g',label = '1D Fitting Validation')\n",
        "\n",
        "mymodel = np.poly1d(np.polyfit(y_predict_train.flatten(),np.array(y_real).flatten(), 1))\n",
        "myline = np.linspace(min(np.array(y_real)), max(np.array(y_real)))\n",
        "plt.plot(myline, mymodel(myline), color=\"orange\", label=f'1D Fitting Prediction of {mymodel}')\n",
        "\n",
        "plt.grid()\n",
        "plt.legend()\n",
        "plt.xlabel(\"Validation Data\")\n",
        "plt.ylabel(\"Prediction Data\")\n",
        "plt.title(f\"R2 Score= {round(r2,2)} of Training data\")"
      ]
    },
    {
      "attachments": {},
      "cell_type": "markdown",
      "metadata": {
        "id": "ySN_Ouhg1s5e"
      },
      "source": [
        "### Validating"
      ]
    },
    {
      "cell_type": "code",
      "execution_count": 46,
      "metadata": {
        "colab": {
          "base_uri": "https://localhost:8080/"
        },
        "id": "0iUIqX32PFKV",
        "outputId": "3c68a171-45a8-4a3a-a7b3-df75f34f2b7d"
      },
      "outputs": [
        {
          "name": "stderr",
          "output_type": "stream",
          "text": [
            "C:\\Users\\ASUS\\AppData\\Local\\Temp/ipykernel_12692/1911091733.py:1: UserWarning: `Model.predict_generator` is deprecated and will be removed in a future version. Please use `Model.predict`, which supports generators.\n",
            "  y_pred_test = model.predict_generator(test_generator)\n"
          ]
        },
        {
          "data": {
            "text/plain": [
              "(980, 1)"
            ]
          },
          "execution_count": 46,
          "metadata": {},
          "output_type": "execute_result"
        }
      ],
      "source": [
        "y_pred_test = model.predict_generator(test_generator)\n",
        "np.shape(y_pred_test)"
      ]
    },
    {
      "cell_type": "code",
      "execution_count": 47,
      "metadata": {
        "colab": {
          "base_uri": "https://localhost:8080/"
        },
        "id": "AHjlb_O11s5e",
        "outputId": "8e3e414c-63b1-4f8c-dfa7-8ec1bab0de1c"
      },
      "outputs": [
        {
          "name": "stderr",
          "output_type": "stream",
          "text": [
            "C:\\Users\\ASUS\\AppData\\Local\\Temp/ipykernel_12692/897810323.py:1: UserWarning: `Model.predict_generator` is deprecated and will be removed in a future version. Please use `Model.predict`, which supports generators.\n",
            "  y_pred_test = model.predict_generator(test_generator)\n"
          ]
        },
        {
          "name": "stdout",
          "output_type": "stream",
          "text": [
            "(980, 1)\n",
            "(980, 1)\n"
          ]
        }
      ],
      "source": [
        "y_pred_test = model.predict_generator(test_generator)\n",
        "#y_pred_test = np.reshape(y_pred_test,(np.shape(y_pred_test)[0],14))\n",
        "rev_trans_test = scaler.inverse_transform(y_pred_test)\n",
        "\n",
        "y_predict_test = np.resize(rev_trans_test[:,0],(len(rev_trans_test[:,0]),1))\n",
        "y_real_test = y2[lookback:]\n",
        "\n",
        "df_final_test = pd.concat([pd.DataFrame(y_predict_test), pd.DataFrame(y_real_test)],axis=1)\n",
        "df_final_test\n",
        "print(y_predict_test.shape)\n",
        "print(y_real_test.shape)"
      ]
    },
    {
      "cell_type": "code",
      "execution_count": 48,
      "metadata": {
        "colab": {
          "base_uri": "https://localhost:8080/",
          "height": 489
        },
        "id": "P0JCvWl51s5f",
        "outputId": "6b546f39-8148-4566-d092-89f3c219aa29"
      },
      "outputs": [
        {
          "data": {
            "text/plain": [
              "Text(0.5, 1.0, 'NN Oil Rate Validation')"
            ]
          },
          "execution_count": 48,
          "metadata": {},
          "output_type": "execute_result"
        },
        {
          "data": {
            "image/png": "[encoded data removed]",
            "text/plain": [
              "<Figure size 432x288 with 1 Axes>"
            ]
          },
          "metadata": {
            "needs_background": "light"
          },
          "output_type": "display_data"
        }
      ],
      "source": [
        "plt.plot(np.arange(0,len(y_predict_test)),y_predict_test,'-*',label='pred')\n",
        "plt.plot(np.arange(0,len(y_real_test)),y_real_test,'-o',label='real')\n",
        "plt.grid()\n",
        "plt.legend()\n",
        "plt.xlabel(\"days\")\n",
        "plt.ylabel(\"Oil Rate\")\n",
        "plt.title(f\"NN Oil Rate Validation\")"
      ]
    },
    {
      "attachments": {},
      "cell_type": "markdown",
      "metadata": {
        "id": "lGZlLVLp1s5g"
      },
      "source": [
        "Metric"
      ]
    },
    {
      "cell_type": "code",
      "execution_count": 49,
      "metadata": {},
      "outputs": [
        {
          "name": "stdout",
          "output_type": "stream",
          "text": [
            "Root Mean Square Error:\n",
            "14.39\n"
          ]
        },
        {
          "name": "stdout",
          "output_type": "stream",
          "text": [
            "\n",
            "R2 Value:\n",
            "0.86\n"
          ]
        },
        {
          "data": {
            "text/plain": [
              "Text(0.5, 1.0, 'R2 Score= 0.86 of Validation data')"
            ]
          },
          "execution_count": 49,
          "metadata": {},
          "output_type": "execute_result"
        },
        {
          "data": {
            "image/png": "[encoded data removed]",
            "text/plain": [
              "<Figure size 432x288 with 1 Axes>"
            ]
          },
          "metadata": {
            "needs_background": "light"
          },
          "output_type": "display_data"
        }
      ],
      "source": [
        "import math\n",
        "from sklearn.metrics import r2_score\n",
        "\n",
        "MSE = np.square(np.subtract(y_real_test,y_predict_test)).mean() \n",
        " \n",
        "RMSE = math.sqrt(MSE)\n",
        "print(\"Root Mean Square Error:\")\n",
        "print(round(RMSE,2))\n",
        "\n",
        "r2 = r2_score(y_real_test,y_predict_test)\n",
        "print(\"\\nR2 Value:\")\n",
        "print(round(r2,2))\n",
        "\n",
        "plt.scatter(y_real_test,y_predict_test)\n",
        "plt.plot(y_real_test,y_real_test,'g',label = '1D Fitting Validation')\n",
        "\n",
        "mymodel = np.poly1d(np.polyfit(y_predict_test.flatten(),np.array(y_real_test).flatten(), 1))\n",
        "myline = np.linspace(min(np.array(y_real_test)), max(np.array(y_real_test)))\n",
        "plt.plot(myline, mymodel(myline), color=\"orange\", label=f'1D Fitting Prediction of {mymodel}')\n",
        "\n",
        "plt.grid()\n",
        "plt.legend()\n",
        "plt.xlabel(\"Validation Data\")\n",
        "plt.ylabel(\"Prediction Data\")\n",
        "plt.title(f\"R2 Score= {round(r2,2)} of Validation data\")"
      ]
    },
    {
      "cell_type": "code",
      "execution_count": 50,
      "metadata": {},
      "outputs": [
        {
          "ename": "NameError",
          "evalue": "name 'bins' is not defined",
          "output_type": "error",
          "traceback": [
            "\u001b[1;31m---------------------------------------------------------------------------\u001b[0m",
            "\u001b[1;31mNameError\u001b[0m                                 Traceback (most recent call last)",
            "\u001b[1;32m~\\AppData\\Local\\Temp/ipykernel_12692/378774033.py\u001b[0m in \u001b[0;36m<module>\u001b[1;34m\u001b[0m\n\u001b[0;32m      9\u001b[0m \u001b[1;31m#plt.hist(data)\u001b[0m\u001b[1;33m\u001b[0m\u001b[1;33m\u001b[0m\u001b[1;33m\u001b[0m\u001b[0m\n\u001b[0;32m     10\u001b[0m \u001b[0mmu\u001b[0m\u001b[1;33m,\u001b[0m \u001b[0msigma\u001b[0m \u001b[1;33m=\u001b[0m \u001b[0mnorm\u001b[0m\u001b[1;33m.\u001b[0m\u001b[0mfit\u001b[0m\u001b[1;33m(\u001b[0m\u001b[0mdata\u001b[0m\u001b[1;33m)\u001b[0m\u001b[1;33m\u001b[0m\u001b[1;33m\u001b[0m\u001b[0m\n\u001b[1;32m---> 11\u001b[1;33m \u001b[0mbest_fit_line\u001b[0m \u001b[1;33m=\u001b[0m \u001b[0mnorm\u001b[0m\u001b[1;33m.\u001b[0m\u001b[0mpdf\u001b[0m\u001b[1;33m(\u001b[0m\u001b[0mbins\u001b[0m\u001b[1;33m,\u001b[0m \u001b[0mmu\u001b[0m\u001b[1;33m,\u001b[0m \u001b[0msigma\u001b[0m\u001b[1;33m)\u001b[0m\u001b[1;33m\u001b[0m\u001b[1;33m\u001b[0m\u001b[0m\n\u001b[0m\u001b[0;32m     12\u001b[0m \u001b[1;33m\u001b[0m\u001b[0m\n\u001b[0;32m     13\u001b[0m \u001b[1;31m#plt.plot(bins, best_fit_line)\u001b[0m\u001b[1;33m\u001b[0m\u001b[1;33m\u001b[0m\u001b[1;33m\u001b[0m\u001b[0m\n",
            "\u001b[1;31mNameError\u001b[0m: name 'bins' is not defined"
          ]
        }
      ],
      "source": [
        "from scipy.stats import norm\n",
        "import statistics\n",
        "    \n",
        "# Plot between -30 and 30 with\n",
        "# 0.1 steps.\n",
        "data = np.subtract(y_real_test,y_predict_test)\n",
        "\n",
        "#_, bins, _ = plt.hist(data, 20, density=10, alpha=0.5)\n",
        "#plt.hist(data)\n",
        "mu, sigma = norm.fit(data)\n",
        "best_fit_line = norm.pdf(bins, mu, sigma)\n",
        "\n",
        "#plt.plot(bins, best_fit_line)\n",
        "x_axis = data\n",
        "mean = np.mean(x_axis)\n",
        "sd = np.std(x_axis)   \n",
        "#plt.hist(x_axis)\n",
        "plt.plot(x_axis, norm.pdf(x_axis, mean, sd),'*')\n",
        "plt.title(\"Error Distribution Histogram\")\n",
        "plt.grid()"
      ]
    },
    {
      "cell_type": "code",
      "execution_count": null,
      "metadata": {
        "colab": {
          "base_uri": "https://localhost:8080/",
          "height": 364
        },
        "id": "OJzvafQK1s5h",
        "outputId": "7001ae12-94d5-4c05-8d47-6ac90e38c4ad"
      },
      "outputs": [
        {
          "data": {
            "text/plain": [
              "array([[[  18.63882837,   59.27596992, -104.2148646 ,  105.32281212],\n",
              "        [  18.63882837,   59.27596992, -104.2148646 ,  105.32281212],\n",
              "        [  18.63882837,   59.27596992, -104.2148646 ,  105.32281212],\n",
              "        ...,\n",
              "        [  18.63882837,   59.27596992, -104.2148646 ,  105.32281212],\n",
              "        [  18.63882837,   59.27596992, -104.2148646 ,  105.32281212],\n",
              "        [  18.63882837,   59.27596992, -104.2148646 ,  105.32281212]],\n",
              "\n",
              "       [[  18.63882837,   59.27596992, -104.2148646 ,  105.32281212],\n",
              "        [  18.63882837,   59.27596992, -104.2148646 ,  105.32281212],\n",
              "        [  18.63882837,   59.27596992, -104.2148646 ,  105.32281212],\n",
              "        ...,\n",
              "        [  18.63882837,   59.27596992, -104.2148646 ,  105.32281212],\n",
              "        [  18.63882837,   59.27596992, -104.2148646 ,  105.32281212],\n",
              "        [  18.63882837,   59.27596992, -104.2148646 ,  105.32281212]],\n",
              "\n",
              "       [[  18.63882837,   59.27596992, -104.2148646 ,  105.32281212],\n",
              "        [  18.63882837,   59.27596992, -104.2148646 ,  105.32281212],\n",
              "        [  18.63882837,   59.27596992, -104.2148646 ,  105.32281212],\n",
              "        ...,\n",
              "        [  18.63882837,   59.27596992, -104.2148646 ,  105.32281212],\n",
              "        [  18.63882837,   59.27596992, -104.2148646 ,  105.32281212],\n",
              "        [  18.63882837,   59.27596992, -104.2148646 ,  105.32281212]],\n",
              "\n",
              "       ...,\n",
              "\n",
              "       [[  18.63882837,   52.37544507,   36.57185354,  183.71800712],\n",
              "        [  18.63882837,   52.37544507,   36.57185354,  183.71800712],\n",
              "        [  18.63882837,   52.37544507,   36.57185354,  183.71800712],\n",
              "        ...,\n",
              "        [  18.63882837,   52.37544507,   36.57185354,  196.65312748],\n",
              "        [  18.63882837,   52.37544507,   36.57185354,  196.65312748],\n",
              "        [  18.63882837,   52.37544507,   36.57185354,  196.65312748]],\n",
              "\n",
              "       [[  18.63882837,   52.37544507,   36.57185354,  183.71800712],\n",
              "        [  18.63882837,   52.37544507,   36.57185354,  183.71800712],\n",
              "        [  18.63882837,   52.37544507,   36.57185354,  196.65312748],\n",
              "        ...,\n",
              "        [  18.63882837,   52.37544507,   36.57185354,  196.65312748],\n",
              "        [  18.63882837,   52.37544507,   36.57185354,  196.65312748],\n",
              "        [  18.63882837,   52.37544507,   36.57185354,  196.65312748]],\n",
              "\n",
              "       [[  18.63882837,   52.37544507,   36.57185354,  183.71800712],\n",
              "        [  18.63882837,   52.37544507,   36.57185354,  196.65312748],\n",
              "        [  18.63882837,   52.37544507,   36.57185354,  196.65312748],\n",
              "        ...,\n",
              "        [  18.63882837,   52.37544507,   36.57185354,  196.65312748],\n",
              "        [  18.63882837,   52.37544507,   36.57185354,  196.65312748],\n",
              "        [  18.63882837,   52.37544507,   36.57185354,  196.65312748]]])"
            ]
          },
          "execution_count": 1748,
          "metadata": {},
          "output_type": "execute_result"
        }
      ],
      "source": [
        "a = scaler.inverse_transform(train_generator[0][0])\n",
        "a"
      ]
    },
    {
      "attachments": {},
      "cell_type": "markdown",
      "metadata": {
        "id": "qppgANU-1s5i"
      },
      "source": [
        "## IMPLEMENTATION"
      ]
    },
    {
      "cell_type": "code",
      "execution_count": null,
      "metadata": {
        "colab": {
          "base_uri": "https://localhost:8080/",
          "height": 556
        },
        "id": "ZZN5FQVl1s5j",
        "outputId": "a6d66ef5-cae8-4300-e2db-f523c7a7d2c6"
      },
      "outputs": [
        {
          "name": "stdout",
          "output_type": "stream",
          "text": [
            "Model: \"sequential_91\"\n",
            "_________________________________________________________________\n",
            " Layer (type)                Output Shape              Param #   \n",
            "=================================================================\n",
            " lstm_117 (LSTM)             (None, 14, 180)           133200    \n",
            "                                                                 \n",
            " lstm_118 (LSTM)             (None, 14, 180)           259920    \n",
            "                                                                 \n",
            " lstm_119 (LSTM)             (None, 180)               259920    \n",
            "                                                                 \n",
            " dropout_72 (Dropout)        (None, 180)               0         \n",
            "                                                                 \n",
            " dense_89 (Dense)            (None, 1)                 181       \n",
            "                                                                 \n",
            "=================================================================\n",
            "Total params: 653,221\n",
            "Trainable params: 653,221\n",
            "Non-trainable params: 0\n",
            "_________________________________________________________________\n",
            "Model: \"sequential_91\"\n",
            "_________________________________________________________________\n",
            " Layer (type)                Output Shape              Param #   \n",
            "=================================================================\n",
            " lstm_117 (LSTM)             (None, 14, 180)           133200    \n",
            "                                                                 \n",
            " lstm_118 (LSTM)             (None, 14, 180)           259920    \n",
            "                                                                 \n",
            " lstm_119 (LSTM)             (None, 180)               259920    \n",
            "                                                                 \n",
            " dropout_72 (Dropout)        (None, 180)               0         \n",
            "                                                                 \n",
            " dense_89 (Dense)            (None, 1)                 181       \n",
            "                                                                 \n",
            "=================================================================\n",
            "Total params: 653,221\n",
            "Trainable params: 653,221\n",
            "Non-trainable params: 0\n",
            "_________________________________________________________________\n"
          ]
        },
        {
          "data": {
            "text/plain": [
              "'None'"
            ]
          },
          "execution_count": 1749,
          "metadata": {},
          "output_type": "execute_result"
        }
      ],
      "source": [
        "type(str(model.summary(\"\")))\n",
        "str(model.summary(\"\"))"
      ]
    },
    {
      "cell_type": "code",
      "execution_count": null,
      "metadata": {
        "id": "4ncUzM5O1s5k",
        "outputId": "b9d183f2-2787-4222-90c6-1275add41563"
      },
      "outputs": [
        {
          "name": "stdout",
          "output_type": "stream",
          "text": [
            "C:\\Users\\ASUS\\Documents\\AllThingsPython\\GLO_NN\\NNModel_ann\\RNN_wc1_type4_20+300\n",
            "Model: \"sequential_91\"\n",
            "_________________________________________________________________\n",
            " Layer (type)                Output Shape              Param #   \n",
            "=================================================================\n",
            " lstm_117 (LSTM)             (None, 14, 180)           133200    \n",
            "                                                                 \n",
            " lstm_118 (LSTM)             (None, 14, 180)           259920    \n",
            "                                                                 \n",
            " lstm_119 (LSTM)             (None, 180)               259920    \n",
            "                                                                 \n",
            " dropout_72 (Dropout)        (None, 180)               0         \n",
            "                                                                 \n",
            " dense_89 (Dense)            (None, 1)                 181       \n",
            "                                                                 \n",
            "=================================================================\n",
            "Total params: 653,221\n",
            "Trainable params: 653,221\n",
            "Non-trainable params: 0\n",
            "_________________________________________________________________\n",
            "None\n",
            "Model: \"sequential_91\"\n",
            "_________________________________________________________________\n",
            " Layer (type)                Output Shape              Param #   \n",
            "=================================================================\n",
            " lstm_117 (LSTM)             (None, 14, 180)           133200    \n",
            "                                                                 \n",
            " lstm_118 (LSTM)             (None, 14, 180)           259920    \n",
            "                                                                 \n",
            " lstm_119 (LSTM)             (None, 180)               259920    \n",
            "                                                                 \n",
            " dropout_72 (Dropout)        (None, 180)               0         \n",
            "                                                                 \n",
            " dense_89 (Dense)            (None, 1)                 181       \n",
            "                                                                 \n",
            "=================================================================\n",
            "Total params: 653,221\n",
            "Trainable params: 653,221\n",
            "Non-trainable params: 0\n",
            "_________________________________________________________________\n"
          ]
        },
        {
          "data": {
            "image/png": "[encoded data removed]",
            "text/plain": [
              "<IPython.core.display.Image object>"
            ]
          },
          "execution_count": 1750,
          "metadata": {},
          "output_type": "execute_result"
        },
        {
          "data": {
            "image/png": "[encoded data removed]",
            "text/plain": [
              "<Figure size 432x288 with 1 Axes>"
            ]
          },
          "metadata": {
            "needs_background": "light"
          },
          "output_type": "display_data"
        }
      ],
      "source": [
        "from tensorflow.keras.models import load_model\n",
        "from matplotlib import pyplot as plt\n",
        "from keras.utils.vis_utils import plot_model\n",
        "\n",
        "file_pre = 'C:/Users/ASUS/Documents/AllThingsPython/GLO_NN/NNModel_ann/RNN_wc1_type4_20+300'\n",
        "file_pretrained = file_pre.replace('/','\\\\')\n",
        "print(file_pretrained)\n",
        "#model = load_model(f\"{file_pretrained}\")\n",
        "print(str(model.summary(\"\")))\n",
        "\n",
        "#plt.rc('figure', figsize=(8, 5))\n",
        "plt.text(0.01, 0.05, str(model.summary(\"\")), {'fontsize': 10}, fontproperties = 'monospace')\n",
        "plt.axis('off')\n",
        "plt.tight_layout()\n",
        "#plt.savefig('results.png')\n",
        "plot_model(model, to_file='model_plot.png', show_shapes=True, show_layer_names=True)"
      ]
    },
    {
      "cell_type": "code",
      "execution_count": null,
      "metadata": {
        "colab": {
          "base_uri": "https://localhost:8080/",
          "height": 433
        },
        "id": "-9AD3Hq41s5m",
        "outputId": "629fedb8-61e7-45fa-954c-f80a2f9f80e6"
      },
      "outputs": [
        {
          "name": "stdout",
          "output_type": "stream",
          "text": [
            "1/1 [==============================] - 0s 373ms/step\n",
            "1/1 [==============================] - 0s 23ms/step\n",
            "1/1 [==============================] - 0s 21ms/step\n",
            "1/1 [==============================] - 0s 21ms/step\n",
            "1/1 [==============================] - 0s 27ms/step\n",
            "1/1 [==============================] - 0s 21ms/step\n",
            "1/1 [==============================] - 0s 23ms/step\n",
            "1/1 [==============================] - 0s 19ms/step\n",
            "1/1 [==============================] - 0s 20ms/step\n",
            "1/1 [==============================] - 0s 18ms/step\n",
            "1/1 [==============================] - 0s 20ms/step\n",
            "1/1 [==============================] - 0s 20ms/step\n",
            "1/1 [==============================] - 0s 20ms/step\n",
            "1/1 [==============================] - 0s 20ms/step\n",
            "1/1 [==============================] - 0s 19ms/step\n",
            "1/1 [==============================] - 0s 21ms/step\n",
            "1/1 [==============================] - 0s 20ms/step\n",
            "1/1 [==============================] - 0s 20ms/step\n",
            "1/1 [==============================] - 0s 20ms/step\n",
            "1/1 [==============================] - 0s 21ms/step\n",
            "1/1 [==============================] - 0s 20ms/step\n",
            "1/1 [==============================] - 0s 18ms/step\n",
            "1/1 [==============================] - 0s 19ms/step\n",
            "1/1 [==============================] - 0s 19ms/step\n",
            "1/1 [==============================] - 0s 19ms/step\n",
            "1/1 [==============================] - 0s 24ms/step\n",
            "1/1 [==============================] - 0s 20ms/step\n",
            "1/1 [==============================] - 0s 20ms/step\n",
            "1/1 [==============================] - 0s 20ms/step\n",
            "1/1 [==============================] - 0s 19ms/step\n",
            "1/1 [==============================] - 0s 20ms/step\n",
            "1/1 [==============================] - 0s 19ms/step\n",
            "1/1 [==============================] - 0s 19ms/step\n",
            "1/1 [==============================] - 0s 20ms/step\n",
            "1/1 [==============================] - 0s 20ms/step\n",
            "1/1 [==============================] - 0s 19ms/step\n",
            "1/1 [==============================] - 0s 20ms/step\n",
            "1/1 [==============================] - 0s 21ms/step\n",
            "1/1 [==============================] - 0s 18ms/step\n",
            "1/1 [==============================] - 0s 20ms/step\n",
            "1/1 [==============================] - 0s 19ms/step\n",
            "1/1 [==============================] - 0s 20ms/step\n",
            "1/1 [==============================] - 0s 20ms/step\n",
            "1/1 [==============================] - 0s 20ms/step\n",
            "1/1 [==============================] - 0s 20ms/step\n",
            "1/1 [==============================] - 0s 24ms/step\n",
            "1/1 [==============================] - 0s 21ms/step\n",
            "1/1 [==============================] - 0s 20ms/step\n",
            "1/1 [==============================] - 0s 22ms/step\n",
            "1/1 [==============================] - 0s 21ms/step\n",
            "1/1 [==============================] - 0s 21ms/step\n",
            "1/1 [==============================] - 0s 19ms/step\n",
            "1/1 [==============================] - 0s 18ms/step\n",
            "1/1 [==============================] - 0s 20ms/step\n",
            "1/1 [==============================] - 0s 20ms/step\n",
            "1/1 [==============================] - 0s 18ms/step\n",
            "1/1 [==============================] - 0s 19ms/step\n",
            "1/1 [==============================] - 0s 21ms/step\n",
            "1/1 [==============================] - 0s 19ms/step\n",
            "1/1 [==============================] - 0s 19ms/step\n",
            "1/1 [==============================] - 0s 19ms/step\n",
            "1/1 [==============================] - 0s 19ms/step\n",
            "1/1 [==============================] - 0s 22ms/step\n",
            "1/1 [==============================] - 0s 20ms/step\n",
            "1/1 [==============================] - 0s 20ms/step\n",
            "1/1 [==============================] - 0s 25ms/step\n",
            "1/1 [==============================] - 0s 22ms/step\n",
            "1/1 [==============================] - 0s 19ms/step\n",
            "1/1 [==============================] - 0s 20ms/step\n",
            "1/1 [==============================] - 0s 20ms/step\n",
            "1/1 [==============================] - 0s 19ms/step\n",
            "1/1 [==============================] - 0s 20ms/step\n",
            "1/1 [==============================] - 0s 19ms/step\n",
            "1/1 [==============================] - 0s 19ms/step\n",
            "1/1 [==============================] - 0s 20ms/step\n",
            "1/1 [==============================] - 0s 21ms/step\n",
            "1/1 [==============================] - 0s 18ms/step\n",
            "1/1 [==============================] - 0s 20ms/step\n",
            "1/1 [==============================] - 0s 20ms/step\n",
            "1/1 [==============================] - 0s 19ms/step\n",
            "1/1 [==============================] - 0s 20ms/step\n",
            "1/1 [==============================] - 0s 21ms/step\n",
            "1/1 [==============================] - 0s 19ms/step\n",
            "1/1 [==============================] - 0s 18ms/step\n",
            "1/1 [==============================] - 0s 19ms/step\n",
            "1/1 [==============================] - 0s 23ms/step\n",
            "1/1 [==============================] - 0s 20ms/step\n",
            "1/1 [==============================] - 0s 21ms/step\n",
            "1/1 [==============================] - 0s 20ms/step\n",
            "1/1 [==============================] - 0s 19ms/step\n",
            "1/1 [==============================] - 0s 21ms/step\n",
            "1/1 [==============================] - 0s 19ms/step\n",
            "1/1 [==============================] - 0s 19ms/step\n",
            "1/1 [==============================] - 0s 20ms/step\n",
            "1/1 [==============================] - 0s 20ms/step\n",
            "1/1 [==============================] - 0s 19ms/step\n",
            "1/1 [==============================] - 0s 20ms/step\n",
            "1/1 [==============================] - 0s 20ms/step\n",
            "1/1 [==============================] - 0s 19ms/step\n",
            "1/1 [==============================] - 0s 19ms/step\n",
            "1/1 [==============================] - 0s 19ms/step\n",
            "1/1 [==============================] - 0s 19ms/step\n",
            "1/1 [==============================] - 0s 21ms/step\n",
            "1/1 [==============================] - 0s 23ms/step\n",
            "1/1 [==============================] - 0s 18ms/step\n",
            "1/1 [==============================] - 0s 25ms/step\n",
            "1/1 [==============================] - 0s 20ms/step\n",
            "1/1 [==============================] - 0s 21ms/step\n",
            "1/1 [==============================] - 0s 19ms/step\n",
            "1/1 [==============================] - 0s 19ms/step\n",
            "1/1 [==============================] - 0s 20ms/step\n",
            "1/1 [==============================] - 0s 20ms/step\n",
            "1/1 [==============================] - 0s 22ms/step\n",
            "1/1 [==============================] - 0s 21ms/step\n",
            "1/1 [==============================] - 0s 19ms/step\n",
            "1/1 [==============================] - 0s 21ms/step\n",
            "1/1 [==============================] - 0s 20ms/step\n",
            "1/1 [==============================] - 0s 21ms/step\n",
            "1/1 [==============================] - 0s 22ms/step\n",
            "1/1 [==============================] - 0s 20ms/step\n",
            "1/1 [==============================] - 0s 21ms/step\n",
            "1/1 [==============================] - 0s 20ms/step\n",
            "1/1 [==============================] - 0s 20ms/step\n",
            "1/1 [==============================] - 0s 20ms/step\n",
            "1/1 [==============================] - 0s 20ms/step\n",
            "1/1 [==============================] - 0s 23ms/step\n",
            "1/1 [==============================] - 0s 20ms/step\n",
            "1/1 [==============================] - 0s 19ms/step\n",
            "1/1 [==============================] - 0s 20ms/step\n",
            "1/1 [==============================] - 0s 19ms/step\n",
            "1/1 [==============================] - 0s 19ms/step\n",
            "1/1 [==============================] - 0s 19ms/step\n",
            "1/1 [==============================] - 0s 19ms/step\n",
            "1/1 [==============================] - 0s 20ms/step\n",
            "1/1 [==============================] - 0s 18ms/step\n",
            "1/1 [==============================] - 0s 19ms/step\n",
            "1/1 [==============================] - 0s 20ms/step\n",
            "1/1 [==============================] - 0s 20ms/step\n",
            "1/1 [==============================] - 0s 21ms/step\n",
            "1/1 [==============================] - 0s 20ms/step\n",
            "1/1 [==============================] - 0s 20ms/step\n",
            "1/1 [==============================] - 0s 20ms/step\n",
            "1/1 [==============================] - 0s 20ms/step\n",
            "1/1 [==============================] - 0s 18ms/step\n",
            "1/1 [==============================] - 0s 26ms/step\n",
            "1/1 [==============================] - 0s 20ms/step\n",
            "1/1 [==============================] - 0s 19ms/step\n",
            "1/1 [==============================] - 0s 20ms/step\n",
            "1/1 [==============================] - 0s 21ms/step\n",
            "1/1 [==============================] - 0s 20ms/step\n"
          ]
        },
        {
          "data": {
            "text/html": [
              "<div>\n",
              "<style scoped>\n",
              "    .dataframe tbody tr th:only-of-type {\n",
              "        vertical-align: middle;\n",
              "    }\n",
              "\n",
              "    .dataframe tbody tr th {\n",
              "        vertical-align: top;\n",
              "    }\n",
              "\n",
              "    .dataframe thead th {\n",
              "        text-align: right;\n",
              "    }\n",
              "</style>\n",
              "<table border=\"1\" class=\"dataframe\">\n",
              "  <thead>\n",
              "    <tr style=\"text-align: right;\">\n",
              "      <th></th>\n",
              "      <th>pred qo</th>\n",
              "      <th>glir11</th>\n",
              "      <th>wc11</th>\n",
              "      <th>ch11</th>\n",
              "      <th>gor11</th>\n",
              "      <th>pred qt</th>\n",
              "      <th>pred qw</th>\n",
              "    </tr>\n",
              "  </thead>\n",
              "  <tbody>\n",
              "    <tr>\n",
              "      <th>0</th>\n",
              "      <td>91.558861</td>\n",
              "      <td>4191.0</td>\n",
              "      <td>38.0</td>\n",
              "      <td>1691.0</td>\n",
              "      <td>101731.0</td>\n",
              "      <td>147.675582</td>\n",
              "      <td>56.116721</td>\n",
              "    </tr>\n",
              "    <tr>\n",
              "      <th>1</th>\n",
              "      <td>83.218140</td>\n",
              "      <td>605.0</td>\n",
              "      <td>16.0</td>\n",
              "      <td>900.0</td>\n",
              "      <td>44868.0</td>\n",
              "      <td>99.069214</td>\n",
              "      <td>15.851074</td>\n",
              "    </tr>\n",
              "    <tr>\n",
              "      <th>2</th>\n",
              "      <td>79.020866</td>\n",
              "      <td>5094.0</td>\n",
              "      <td>6.0</td>\n",
              "      <td>908.0</td>\n",
              "      <td>52394.0</td>\n",
              "      <td>84.064751</td>\n",
              "      <td>5.043885</td>\n",
              "    </tr>\n",
              "    <tr>\n",
              "      <th>3</th>\n",
              "      <td>73.047775</td>\n",
              "      <td>2561.0</td>\n",
              "      <td>50.0</td>\n",
              "      <td>1619.0</td>\n",
              "      <td>42642.0</td>\n",
              "      <td>146.095551</td>\n",
              "      <td>73.047775</td>\n",
              "    </tr>\n",
              "    <tr>\n",
              "      <th>4</th>\n",
              "      <td>67.063446</td>\n",
              "      <td>1576.0</td>\n",
              "      <td>43.0</td>\n",
              "      <td>1531.0</td>\n",
              "      <td>55405.0</td>\n",
              "      <td>117.655168</td>\n",
              "      <td>50.591722</td>\n",
              "    </tr>\n",
              "    <tr>\n",
              "      <th>...</th>\n",
              "      <td>...</td>\n",
              "      <td>...</td>\n",
              "      <td>...</td>\n",
              "      <td>...</td>\n",
              "      <td>...</td>\n",
              "      <td>...</td>\n",
              "      <td>...</td>\n",
              "    </tr>\n",
              "    <tr>\n",
              "      <th>145</th>\n",
              "      <td>111.949661</td>\n",
              "      <td>4885.0</td>\n",
              "      <td>47.0</td>\n",
              "      <td>573.0</td>\n",
              "      <td>63390.0</td>\n",
              "      <td>211.225776</td>\n",
              "      <td>99.276115</td>\n",
              "    </tr>\n",
              "    <tr>\n",
              "      <th>146</th>\n",
              "      <td>107.071022</td>\n",
              "      <td>6161.0</td>\n",
              "      <td>54.0</td>\n",
              "      <td>1581.0</td>\n",
              "      <td>50191.0</td>\n",
              "      <td>232.763091</td>\n",
              "      <td>125.692069</td>\n",
              "    </tr>\n",
              "    <tr>\n",
              "      <th>147</th>\n",
              "      <td>78.284729</td>\n",
              "      <td>4387.0</td>\n",
              "      <td>38.0</td>\n",
              "      <td>1121.0</td>\n",
              "      <td>104537.0</td>\n",
              "      <td>126.265692</td>\n",
              "      <td>47.980963</td>\n",
              "    </tr>\n",
              "    <tr>\n",
              "      <th>148</th>\n",
              "      <td>107.724197</td>\n",
              "      <td>6068.0</td>\n",
              "      <td>5.0</td>\n",
              "      <td>744.0</td>\n",
              "      <td>52722.0</td>\n",
              "      <td>113.393892</td>\n",
              "      <td>5.669695</td>\n",
              "    </tr>\n",
              "    <tr>\n",
              "      <th>149</th>\n",
              "      <td>168.914551</td>\n",
              "      <td>4865.0</td>\n",
              "      <td>10.0</td>\n",
              "      <td>912.0</td>\n",
              "      <td>10647.0</td>\n",
              "      <td>187.682834</td>\n",
              "      <td>18.768283</td>\n",
              "    </tr>\n",
              "  </tbody>\n",
              "</table>\n",
              "<p>150 rows × 7 columns</p>\n",
              "</div>"
            ],
            "text/plain": [
              "        pred qo  glir11  wc11    ch11     gor11     pred qt     pred qw\n",
              "0     91.558861  4191.0  38.0  1691.0  101731.0  147.675582   56.116721\n",
              "1     83.218140   605.0  16.0   900.0   44868.0   99.069214   15.851074\n",
              "2     79.020866  5094.0   6.0   908.0   52394.0   84.064751    5.043885\n",
              "3     73.047775  2561.0  50.0  1619.0   42642.0  146.095551   73.047775\n",
              "4     67.063446  1576.0  43.0  1531.0   55405.0  117.655168   50.591722\n",
              "..          ...     ...   ...     ...       ...         ...         ...\n",
              "145  111.949661  4885.0  47.0   573.0   63390.0  211.225776   99.276115\n",
              "146  107.071022  6161.0  54.0  1581.0   50191.0  232.763091  125.692069\n",
              "147   78.284729  4387.0  38.0  1121.0  104537.0  126.265692   47.980963\n",
              "148  107.724197  6068.0   5.0   744.0   52722.0  113.393892    5.669695\n",
              "149  168.914551  4865.0  10.0   912.0   10647.0  187.682834   18.768283\n",
              "\n",
              "[150 rows x 7 columns]"
            ]
          },
          "execution_count": 1751,
          "metadata": {},
          "output_type": "execute_result"
        },
        {
          "data": {
            "image/png": "[encoded data removed]",
            "text/plain": [
              "<Figure size 432x288 with 1 Axes>"
            ]
          },
          "metadata": {
            "needs_background": "light"
          },
          "output_type": "display_data"
        }
      ],
      "source": [
        "import numpy as np\n",
        "import random\n",
        "import pandas as pd\n",
        "from sklearn.preprocessing import StandardScaler, MinMaxScaler\n",
        "from tensorflow.keras.models import load_model\n",
        "#model = load_model(r'C:\\Users\\ASUS\\Documents\\AllThingsPython\\GLO_NN\\NNModel_new\\RNN_qo_type7_100+14')\n",
        "#model = load_model(r'C:\\Users\\ASUS\\Documents\\AllThingsPython\\GLO_NN\\NNModel_ann\\RNN_qo_type2_20+300')\n",
        "o = list(np.ones(14)*180)\n",
        "p = list(np.ones(14)*250)\n",
        "q = list(np.ones(14)*700)\n",
        "r = list(np.ones(14)*100)\n",
        "\n",
        "tot = np.stack((o,p,q,r),axis=1).reshape(1,-1,4)\n",
        "#scale = StandardScaler(tot[0][:][:])\n",
        "#tot = scale.fit_transform(tot)\n",
        "#print(tot)\n",
        "scaler = StandardScaler()\n",
        "scale = StandardScaler().fit(y)\n",
        "SS = scale.fit_transform(y)\n",
        "tot.shape\n",
        "otemp = o\n",
        "ptemp = p\n",
        "qtemp = q\n",
        "rtemp = r\n",
        "#x = 'glir11','wc11','ch11','gor11']]\n",
        "t=0\n",
        "value_features = []\n",
        "value_pred = []\n",
        "qt_tot = []\n",
        "qw_tot = []\n",
        "while t<150:\n",
        "    #otemp.append(random.randint(54,300))\n",
        "    #ptemp.append(random.randint(4,63))\n",
        "    #qtemp.append(random.randint(465,1767))\n",
        "    #rtemp.append(random.randint(7615,21955))\n",
        "    \n",
        "    otemp.append(random.randint(20,6220))\n",
        "    ptemp.append(random.randint(5,60))\n",
        "    qtemp.append(random.randint(392,1737))\n",
        "    rtemp.append(random.randint(10,107361))\n",
        "    #otemp.append(5.4*t+100)\n",
        "    #ptemp.append(3.2*t+20)\n",
        "    #qtemp.append(2*t)\n",
        "    #rtemp.append(10*t+10)\n",
        "    o = otemp[-14:]\n",
        "    p = ptemp[-14:]\n",
        "    q = qtemp[-14:]\n",
        "    r = rtemp[-14:]\n",
        "\n",
        "    tot = np.stack((o,p,q,r),axis=1).reshape(1,-1,4)\n",
        "    current = tot[0][-1][:]\n",
        "    wc = tot[0][-1][1]\n",
        "    #print(tot)\n",
        "    Tot = scaler.fit_transform(tot[0])\n",
        "    Tot = Tot.reshape(1,14,4)\n",
        "    s = model.predict(Tot)\n",
        "    S = scale.inverse_transform(s)\n",
        "\n",
        "    qt = S[0][0]/((100-wc)/100)\n",
        "    qw = qt-S[0][0]\n",
        "\n",
        "    value_pred.append(abs(S[0][0]))\n",
        "    value_features.append(current)\n",
        "    qt_tot.append(qt)\n",
        "    qw_tot.append(qw)\n",
        "    t+=1\n",
        "\n",
        "header = ['glir11','wc11','ch11','gor11']\n",
        "dff = pd.concat([pd.DataFrame(value_pred,columns=['pred qo']), pd.DataFrame(value_features,columns=header),\n",
        "    pd.DataFrame(qt_tot,columns=['pred qt']), pd.DataFrame(qw_tot,columns=['pred qw'])],axis=1)\n",
        "\n",
        "import matplotlib.pyplot as plt\n",
        "\n",
        "#plt.plot(dff[['glir11']],label='predicted glir')\n",
        "plt.plot(value_pred,label='predicted qo')\n",
        "#plt.plot(qt_tot,label='predicted qt')\n",
        "#plt.plot(qw_tot,label='predicted qw')\n",
        "plt.legend()\n",
        "plt.grid()\n",
        "plt.xlabel('days')\n",
        "plt.ylabel('Oil Flow Rate (stb/day)')\n",
        "plt.title(\"Prediction of Well Dynamics\")\n",
        "\n",
        "dff\n"
      ]
    },
    {
      "cell_type": "code",
      "execution_count": null,
      "metadata": {
        "id": "qcu2Btez1s5o",
        "outputId": "13a663de-9694-47e6-bb22-b95489c936f2"
      },
      "outputs": [
        {
          "name": "stdout",
          "output_type": "stream",
          "text": [
            "[0.0, 0.24528301886792453, 0.4339622641509434, 0.6226415094339622, 1.0]\n"
          ]
        }
      ],
      "source": [
        "def normalize_rmse_values(rmse_values, new_min, new_max):\n",
        "    min_value = min(rmse_values)\n",
        "    max_value = max(rmse_values)\n",
        "    \n",
        "    normalized_values = []\n",
        "    for value in rmse_values:\n",
        "        normalized_value = (value - min_value) / (max_value - min_value) * (new_max - new_min) + new_min\n",
        "        normalized_values.append(normalized_value)\n",
        "    \n",
        "    return normalized_values\n",
        "\n",
        "rmse_values = [27, 40, 50, 60, 80]\n",
        "new_min = 0\n",
        "new_max = 1\n",
        "\n",
        "normalized_values = normalize_rmse_values(rmse_values, new_min, new_max)\n",
        "print(normalized_values)"
      ]
    },
    {
      "cell_type": "code",
      "execution_count": null,
      "metadata": {
        "id": "AIO4i_yj1s5p"
      },
      "outputs": [],
      "source": []
    }
  ],
  "metadata": {
    "colab": {
      "provenance": []
    },
    "kernelspec": {
      "display_name": "Python 3",
      "language": "python",
      "name": "python3"
    },
    "language_info": {
      "codemirror_mode": {
        "name": "ipython",
        "version": 3
      },
      "file_extension": ".py",
      "mimetype": "text/x-python",
      "name": "python",
      "nbconvert_exporter": "python",
      "pygments_lexer": "ipython3",
      "version": "3.9.4"
    },
    "orig_nbformat": 4,
    "vscode": {
      "interpreter": {
        "hash": "14958d3aee5f1cad06795f787e54b96185c25fb40dfec723a5be941f3a531b8c"
      }
    }
  },
  "nbformat": 4,
  "nbformat_minor": 0
}
