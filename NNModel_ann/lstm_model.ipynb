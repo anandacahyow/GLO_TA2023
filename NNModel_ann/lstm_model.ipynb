{
 "cells": [
  {
   "attachments": {},
   "cell_type": "markdown",
   "metadata": {},
   "source": [
    "### LSTM System Identification"
   ]
  },
  {
   "attachments": {},
   "cell_type": "markdown",
   "metadata": {},
   "source": [
    "Name: Ananda Cahyo Wibowo<br />\n",
    "NRP : 07111940000128 <br />\n",
    "Undergrad Thesis Title : Data Driven Gas Lift Well And Network Optimization With Neural Network Based System Identification Using Modbus Simulator"
   ]
  },
  {
   "attachments": {},
   "cell_type": "markdown",
   "metadata": {},
   "source": [
    "Data Preparation"
   ]
  },
  {
   "cell_type": "code",
   "execution_count": 1,
   "metadata": {},
   "outputs": [
    {
     "name": "stdout",
     "output_type": "stream",
     "text": [
      "             index         glir           qo           qt           wc  \\\n",
      "count  4967.000000  4967.000000  4967.000000  4967.000000  4967.000000   \n",
      "mean   2484.000000   187.294916   209.693213   409.981462    10.021975   \n",
      "std    1433.993724   143.047992    61.454992    66.874207    10.677645   \n",
      "min       1.000000    54.200000   134.000000   328.000000     3.990000   \n",
      "25%    1242.500000    56.000000   145.000000   339.950000     3.990000   \n",
      "50%    2484.000000   146.000000   208.000000   407.030000     5.300000   \n",
      "75%    3725.500000   281.200000   247.000000   455.520000    11.990000   \n",
      "max    4967.000000   676.200000   382.370000   604.810000    63.990000   \n",
      "\n",
      "                ch           gor  \n",
      "count  4967.000000   4967.000000  \n",
      "mean   1327.354184  14275.192547  \n",
      "std     287.919429   3919.117356  \n",
      "min     465.860000   7615.670000  \n",
      "25%    1133.000000  11151.920000  \n",
      "50%    1370.000000  13463.020000  \n",
      "75%    1548.000000  18480.160000  \n",
      "max    1767.000000  21955.220000  \n",
      "             index         glir           qo           qt           wc  \\\n",
      "count  4967.000000  4967.000000  4967.000000  4967.000000  4967.000000   \n",
      "mean   2484.000000   995.903322    77.586465    82.820298     6.653493   \n",
      "std    1433.993724   747.187112    60.759708    65.292774     8.805085   \n",
      "min       1.000000   271.000000     1.000000     1.360000     0.140000   \n",
      "25%    1242.500000   336.000000    13.300000    14.390000     1.540000   \n",
      "50%    2484.000000   793.000000    74.440000    80.380000     4.000000   \n",
      "75%    3725.500000  1491.000000   117.720000   124.560000     8.800000   \n",
      "max    4967.000000  3381.000000   248.370000   272.700000    60.000000   \n",
      "\n",
      "                ch           gor     glir_old           tes        gor_old  \\\n",
      "count  4967.000000   4967.000000  4967.000000   4967.000000    4967.000000   \n",
      "mean   1254.354184  57100.770187   187.294916  14275.192547    5245.958657   \n",
      "std     287.919429  15676.469425   143.047992   3919.117356   15151.169446   \n",
      "min     392.860000  30462.680000    54.200000   7615.670000       8.000000   \n",
      "25%    1060.000000  44607.680000    56.000000  11151.920000     400.000000   \n",
      "50%    1297.000000  53852.080000   146.000000  13463.020000     812.500000   \n",
      "75%    1475.000000  73920.640000   281.200000  18480.160000    1955.640000   \n",
      "max    1694.000000  87820.880000   676.200000  21955.220000  107361.960000   \n",
      "\n",
      "       Unnamed: 10  Unnamed: 11  \n",
      "count  1969.000000  1969.000000  \n",
      "mean    149.914957   899.489741  \n",
      "std     120.750490   724.502940  \n",
      "min      54.200000   325.200000  \n",
      "25%      55.700000   334.200000  \n",
      "50%      95.200000   571.200000  \n",
      "75%     210.200000  1261.200000  \n",
      "max     533.600000  3201.600000  \n"
     ]
    }
   ],
   "source": [
    "import pandas as pd\n",
    "\n",
    "df1 = pd.read_csv(\"upsampled_corr_well.csv\")\n",
    "df2 = pd.read_csv(\"upsampled_corr_well22.csv\")\n",
    "\n",
    "#print(df1.describe())\n",
    "#print(df2.describe())\n",
    "\n",
    "import pandas as pd\n",
    "\n",
    "#df1 = pd.read_excel(\"oa-11.xlsx\")\n",
    "#df2 = pd.read_excel(\"oa-12.xlsx\")\n",
    "\n",
    "print(df1.describe())\n",
    "print(df2.describe())"
   ]
  },
  {
   "cell_type": "code",
   "execution_count": 48,
   "metadata": {},
   "outputs": [
    {
     "name": "stdout",
     "output_type": "stream",
     "text": [
      "ukuran x train: (2980, 4) ukuran y train: (2980, 1)\n",
      "ukuran x test: (1987, 4) ukuran y test: (1987, 1)\n"
     ]
    }
   ],
   "source": [
    "import numpy as np\n",
    "from tensorflow.keras.models import Sequential\n",
    "from tensorflow.keras.layers import LSTM\n",
    "from tensorflow.keras.layers import SimpleRNN\n",
    "from tensorflow.keras.layers import Dense, Dropout\n",
    "from tensorflow.keras.layers import LeakyReLU\n",
    "\n",
    "from sklearn.model_selection import train_test_split\n",
    "import pandas as pd\n",
    "from matplotlib import pyplot as plt\n",
    "import matplotlib.pyplot as plt\n",
    "from sklearn.preprocessing import StandardScaler, MinMaxScaler\n",
    "from keras.preprocessing.sequence import TimeseriesGenerator\n",
    "\n",
    "from tensorflow.keras.models import load_model\n",
    "import seaborn as sns\n",
    "#from datetime import datetime\n",
    "\n",
    "#Read the csv file\n",
    "df = pd.read_csv(\"upsampled_revv.csv\")\n",
    "df = pd.read_csv(\"upsampled_corr.csv\")\n",
    "#df = pd.read_csv(\"upsampled.csv\")\n",
    "df2=df.drop(df.columns[0], axis=1)\n",
    "data = df['glir11'].to_numpy()\n",
    "\n",
    "split = 0.6\n",
    "epoch = 20\n",
    "batchsize = 300\n",
    "filename = \"RNN_qo_type4_\" + f\"{epoch}+{batchsize}\" \n",
    "\n",
    "\"\"\"x = df[['glir11','wc11','ch11','gor11']]\n",
    "y = df[['qo11']]\n",
    "\n",
    "x1 = df[['glir11','wc11','ch11','gor11']][:int(split*len(data))]\n",
    "y1 = df[['qo11']][:int(split*len(data))]\n",
    "\n",
    "x2 = df[['glir11','wc11','ch11','gor11']][int(split*len(data)):]\n",
    "y2 = df[['qo11']][int(split*len(data)):]\"\"\"\n",
    "\n",
    "x = df[['glir22','wc22','ch22','gor22']]\n",
    "y = df[['qo22']]\n",
    "\n",
    "x1 = df[['glir22','wc22','ch22','gor22']][:int(split*len(data))]\n",
    "y1 = df[['qo22']][:int(split*len(data))]\n",
    "\n",
    "x2 = df[['glir22','wc22','ch22','gor22']][int(split*len(data)):]\n",
    "y2 = df[['qo22']][int(split*len(data)):]\n",
    "\n",
    "print(f\"ukuran x train: {np.shape(x1)} ukuran y train: {np.shape(y1)}\")\n",
    "print(f\"ukuran x test: {np.shape(x2)} ukuran y test: {np.shape(y2)}\")"
   ]
  },
  {
   "cell_type": "code",
   "execution_count": 49,
   "metadata": {},
   "outputs": [
    {
     "data": {
      "text/html": [
       "<div>\n",
       "<style scoped>\n",
       "    .dataframe tbody tr th:only-of-type {\n",
       "        vertical-align: middle;\n",
       "    }\n",
       "\n",
       "    .dataframe tbody tr th {\n",
       "        vertical-align: top;\n",
       "    }\n",
       "\n",
       "    .dataframe thead th {\n",
       "        text-align: right;\n",
       "    }\n",
       "</style>\n",
       "<table border=\"1\" class=\"dataframe\">\n",
       "  <thead>\n",
       "    <tr style=\"text-align: right;\">\n",
       "      <th></th>\n",
       "      <th>index</th>\n",
       "      <th>glir11</th>\n",
       "      <th>qo11</th>\n",
       "      <th>qt11</th>\n",
       "      <th>wc11</th>\n",
       "      <th>ch11</th>\n",
       "      <th>gor11</th>\n",
       "      <th>glir22</th>\n",
       "      <th>qo22</th>\n",
       "      <th>qt22</th>\n",
       "      <th>wc22</th>\n",
       "      <th>ch22</th>\n",
       "      <th>gor22</th>\n",
       "    </tr>\n",
       "  </thead>\n",
       "  <tbody>\n",
       "    <tr>\n",
       "      <th>count</th>\n",
       "      <td>4967.000000</td>\n",
       "      <td>4967.000000</td>\n",
       "      <td>4967.000000</td>\n",
       "      <td>4967.000000</td>\n",
       "      <td>4967.000000</td>\n",
       "      <td>4967.000000</td>\n",
       "      <td>4967.000000</td>\n",
       "      <td>4967.000000</td>\n",
       "      <td>4967.000000</td>\n",
       "      <td>4967.000000</td>\n",
       "      <td>4967.000000</td>\n",
       "      <td>4967.000000</td>\n",
       "      <td>4967.000000</td>\n",
       "    </tr>\n",
       "    <tr>\n",
       "      <th>mean</th>\n",
       "      <td>2484.000000</td>\n",
       "      <td>187.294916</td>\n",
       "      <td>209.693213</td>\n",
       "      <td>409.981462</td>\n",
       "      <td>10.021975</td>\n",
       "      <td>1327.354184</td>\n",
       "      <td>14275.192547</td>\n",
       "      <td>1515.137508</td>\n",
       "      <td>77.586465</td>\n",
       "      <td>82.820298</td>\n",
       "      <td>6.653493</td>\n",
       "      <td>1254.354184</td>\n",
       "      <td>5245.958657</td>\n",
       "    </tr>\n",
       "    <tr>\n",
       "      <th>std</th>\n",
       "      <td>1433.993724</td>\n",
       "      <td>143.047992</td>\n",
       "      <td>61.454992</td>\n",
       "      <td>66.874207</td>\n",
       "      <td>10.677645</td>\n",
       "      <td>287.919429</td>\n",
       "      <td>3919.117356</td>\n",
       "      <td>1357.532100</td>\n",
       "      <td>60.759708</td>\n",
       "      <td>65.292774</td>\n",
       "      <td>8.805085</td>\n",
       "      <td>287.919429</td>\n",
       "      <td>15151.169446</td>\n",
       "    </tr>\n",
       "    <tr>\n",
       "      <th>min</th>\n",
       "      <td>1.000000</td>\n",
       "      <td>54.200000</td>\n",
       "      <td>134.000000</td>\n",
       "      <td>328.000000</td>\n",
       "      <td>3.990000</td>\n",
       "      <td>465.860000</td>\n",
       "      <td>7615.670000</td>\n",
       "      <td>10.000000</td>\n",
       "      <td>1.000000</td>\n",
       "      <td>1.360000</td>\n",
       "      <td>0.140000</td>\n",
       "      <td>392.860000</td>\n",
       "      <td>8.000000</td>\n",
       "    </tr>\n",
       "    <tr>\n",
       "      <th>25%</th>\n",
       "      <td>1242.500000</td>\n",
       "      <td>56.000000</td>\n",
       "      <td>145.000000</td>\n",
       "      <td>339.950000</td>\n",
       "      <td>3.990000</td>\n",
       "      <td>1133.000000</td>\n",
       "      <td>11151.920000</td>\n",
       "      <td>600.000000</td>\n",
       "      <td>13.300000</td>\n",
       "      <td>14.390000</td>\n",
       "      <td>1.540000</td>\n",
       "      <td>1060.000000</td>\n",
       "      <td>400.000000</td>\n",
       "    </tr>\n",
       "    <tr>\n",
       "      <th>50%</th>\n",
       "      <td>2484.000000</td>\n",
       "      <td>146.000000</td>\n",
       "      <td>208.000000</td>\n",
       "      <td>407.030000</td>\n",
       "      <td>5.300000</td>\n",
       "      <td>1370.000000</td>\n",
       "      <td>13463.020000</td>\n",
       "      <td>1040.000000</td>\n",
       "      <td>74.440000</td>\n",
       "      <td>80.380000</td>\n",
       "      <td>4.000000</td>\n",
       "      <td>1297.000000</td>\n",
       "      <td>812.500000</td>\n",
       "    </tr>\n",
       "    <tr>\n",
       "      <th>75%</th>\n",
       "      <td>3725.500000</td>\n",
       "      <td>281.200000</td>\n",
       "      <td>247.000000</td>\n",
       "      <td>455.520000</td>\n",
       "      <td>11.990000</td>\n",
       "      <td>1548.000000</td>\n",
       "      <td>18480.160000</td>\n",
       "      <td>2330.000000</td>\n",
       "      <td>117.720000</td>\n",
       "      <td>124.560000</td>\n",
       "      <td>8.800000</td>\n",
       "      <td>1475.000000</td>\n",
       "      <td>1955.640000</td>\n",
       "    </tr>\n",
       "    <tr>\n",
       "      <th>max</th>\n",
       "      <td>4967.000000</td>\n",
       "      <td>676.200000</td>\n",
       "      <td>382.370000</td>\n",
       "      <td>604.810000</td>\n",
       "      <td>63.990000</td>\n",
       "      <td>1767.000000</td>\n",
       "      <td>21955.220000</td>\n",
       "      <td>6220.000000</td>\n",
       "      <td>248.370000</td>\n",
       "      <td>272.700000</td>\n",
       "      <td>60.000000</td>\n",
       "      <td>1694.000000</td>\n",
       "      <td>107361.960000</td>\n",
       "    </tr>\n",
       "  </tbody>\n",
       "</table>\n",
       "</div>"
      ],
      "text/plain": [
       "             index       glir11         qo11         qt11         wc11  \\\n",
       "count  4967.000000  4967.000000  4967.000000  4967.000000  4967.000000   \n",
       "mean   2484.000000   187.294916   209.693213   409.981462    10.021975   \n",
       "std    1433.993724   143.047992    61.454992    66.874207    10.677645   \n",
       "min       1.000000    54.200000   134.000000   328.000000     3.990000   \n",
       "25%    1242.500000    56.000000   145.000000   339.950000     3.990000   \n",
       "50%    2484.000000   146.000000   208.000000   407.030000     5.300000   \n",
       "75%    3725.500000   281.200000   247.000000   455.520000    11.990000   \n",
       "max    4967.000000   676.200000   382.370000   604.810000    63.990000   \n",
       "\n",
       "              ch11         gor11       glir22         qo22         qt22  \\\n",
       "count  4967.000000   4967.000000  4967.000000  4967.000000  4967.000000   \n",
       "mean   1327.354184  14275.192547  1515.137508    77.586465    82.820298   \n",
       "std     287.919429   3919.117356  1357.532100    60.759708    65.292774   \n",
       "min     465.860000   7615.670000    10.000000     1.000000     1.360000   \n",
       "25%    1133.000000  11151.920000   600.000000    13.300000    14.390000   \n",
       "50%    1370.000000  13463.020000  1040.000000    74.440000    80.380000   \n",
       "75%    1548.000000  18480.160000  2330.000000   117.720000   124.560000   \n",
       "max    1767.000000  21955.220000  6220.000000   248.370000   272.700000   \n",
       "\n",
       "              wc22         ch22          gor22  \n",
       "count  4967.000000  4967.000000    4967.000000  \n",
       "mean      6.653493  1254.354184    5245.958657  \n",
       "std       8.805085   287.919429   15151.169446  \n",
       "min       0.140000   392.860000       8.000000  \n",
       "25%       1.540000  1060.000000     400.000000  \n",
       "50%       4.000000  1297.000000     812.500000  \n",
       "75%       8.800000  1475.000000    1955.640000  \n",
       "max      60.000000  1694.000000  107361.960000  "
      ]
     },
     "execution_count": 49,
     "metadata": {},
     "output_type": "execute_result"
    }
   ],
   "source": [
    "df.describe()"
   ]
  },
  {
   "attachments": {},
   "cell_type": "markdown",
   "metadata": {},
   "source": [
    "## Train Data"
   ]
  },
  {
   "attachments": {},
   "cell_type": "markdown",
   "metadata": {},
   "source": [
    "Preprocessing Data"
   ]
  },
  {
   "cell_type": "code",
   "execution_count": 33,
   "metadata": {},
   "outputs": [
    {
     "name": "stdout",
     "output_type": "stream",
     "text": [
      "trainX shape == (2980, 4).\n",
      "trainY shape == (2980, 1).\n",
      "testX shape == (1987, 4).\n",
      "testY shape == (1987, 1).\n"
     ]
    },
    {
     "data": {
      "text/plain": [
       "(array([[[-0.67418637, -0.3013895 , -2.99243757, -0.30667114],\n",
       "         [-0.67418637, -0.3013895 , -2.99243757, -0.30667114],\n",
       "         [-0.67418637, -0.3013895 , -2.99243757, -0.30667114],\n",
       "         [-0.67418637, -0.3013895 , -2.99243757, -0.30667114],\n",
       "         [-0.67418637, -0.3013895 , -2.99243757, -0.30667114],\n",
       "         [-0.67418637, -0.3013895 , -2.99243757, -0.30667114],\n",
       "         [-0.67418637, -0.3013895 , -2.99243757, -0.30667114],\n",
       "         [-0.67418637, -0.3013895 , -2.99243757, -0.30667114],\n",
       "         [-0.67418637, -0.3013895 , -2.99243757, -0.30667114],\n",
       "         [-0.67418637, -0.3013895 , -2.99243757, -0.30667114],\n",
       "         [-0.67418637, -0.3013895 , -2.99243757, -0.30667114],\n",
       "         [-0.67418637, -0.3013895 , -2.99243757, -0.30667114],\n",
       "         [-0.67418637, -0.3013895 , -2.99243757, -0.30667114],\n",
       "         [-0.67418637, -0.3013895 , -2.99243757, -0.30667114]]]),\n",
       " array([[-0.76681006]]))"
      ]
     },
     "execution_count": 33,
     "metadata": {},
     "output_type": "execute_result"
    }
   ],
   "source": [
    "scaler = StandardScaler()\n",
    "\n",
    "df_for_x = scaler.fit_transform(x)\n",
    "df_for_y = scaler.fit_transform(y)\n",
    "\n",
    "X = df_for_x\n",
    "Y = df_for_y\n",
    "\n",
    "trainX, testX, trainY, testY = train_test_split(X,Y,test_size=1-split,random_state=123,shuffle=False)\n",
    "print('trainX shape == {}.'.format(trainX.shape))\n",
    "print('trainY shape == {}.'.format(trainY.shape))\n",
    "print('testX shape == {}.'.format(testX.shape))\n",
    "print('testY shape == {}.'.format(testY.shape))\n",
    "\n",
    "lookback = 14\n",
    "#win_len = int(len(x)/14)\n",
    "win_len = 1\n",
    "num_feature = np.shape(x)[1]\n",
    "\n",
    "train_generator = TimeseriesGenerator(trainX,trainY,batch_size=win_len,length=lookback)\n",
    "test_generator = TimeseriesGenerator(testX,testY,batch_size=win_len,length=lookback)\n",
    "#np.shape(train_generator)\n",
    "#np.shape(test_generator)\n",
    "train_generator[0]"
   ]
  },
  {
   "attachments": {},
   "cell_type": "markdown",
   "metadata": {},
   "source": [
    "RNN LSTM Architecture & Training"
   ]
  },
  {
   "cell_type": "code",
   "execution_count": 34,
   "metadata": {},
   "outputs": [
    {
     "name": "stdout",
     "output_type": "stream",
     "text": [
      "Model: \"sequential_4\"\n",
      "_________________________________________________________________\n",
      " Layer (type)                Output Shape              Param #   \n",
      "=================================================================\n",
      " lstm_10 (LSTM)              (None, 14, 14)            1064      \n",
      "                                                                 \n",
      " lstm_11 (LSTM)              (None, 14, 7)             616       \n",
      "                                                                 \n",
      " lstm_12 (LSTM)              (None, 4)                 192       \n",
      "                                                                 \n",
      " dropout_3 (Dropout)         (None, 4)                 0         \n",
      "                                                                 \n",
      " dense_3 (Dense)             (None, 1)                 5         \n",
      "                                                                 \n",
      "=================================================================\n",
      "Total params: 1,877\n",
      "Trainable params: 1,877\n",
      "Non-trainable params: 0\n",
      "_________________________________________________________________\n"
     ]
    }
   ],
   "source": [
    "# define the Autoencoder model\n",
    "\n",
    "model = Sequential()\n",
    "model.add(LSTM(14,activation='relu',input_shape=(lookback, num_feature), return_sequences=True))\n",
    "#model.add(LeakyReLU(alpha=0.5))\n",
    "#model.add(LSTM(7, return_sequences=True))\n",
    "#model.add(LeakyReLU(alpha=0.5))\n",
    "#model.add(Dropout(0.2))\n",
    "model.add(LSTM(7,activation='relu', return_sequences=True))\n",
    "model.add(LSTM(4,activation='relu', return_sequences=False))\n",
    "model.add(Dropout(0.2))\n",
    "model.add(Dense(1))\n",
    "\n",
    "model.compile(optimizer='adam', loss='mse', metrics=['mse', 'mae', 'mape'])\n",
    "model.summary(\"\")"
   ]
  },
  {
   "cell_type": "code",
   "execution_count": 35,
   "metadata": {},
   "outputs": [
    {
     "name": "stdout",
     "output_type": "stream",
     "text": [
      "Epoch 1/20\n",
      "2966/2966 [==============================] - 78s 23ms/step - loss: 0.7587 - mse: 0.7587 - mae: 0.5877 - mape: 169.8729 - val_loss: 1.1212 - val_mse: 1.1212 - val_mae: 0.9196 - val_mape: 212.5483\n",
      "Epoch 2/20\n",
      "2966/2966 [==============================] - 70s 23ms/step - loss: 0.3795 - mse: 0.3795 - mae: 0.4176 - mape: 168.3421 - val_loss: 0.9833 - val_mse: 0.9833 - val_mae: 0.8541 - val_mape: 178.0328\n",
      "Epoch 3/20\n",
      "2966/2966 [==============================] - 72s 24ms/step - loss: 0.3495 - mse: 0.3495 - mae: 0.4054 - mape: 135.3624 - val_loss: 0.8420 - val_mse: 0.8420 - val_mae: 0.7724 - val_mape: 142.3620\n",
      "Epoch 4/20\n",
      "2966/2966 [==============================] - 1324s 446ms/step - loss: 0.3095 - mse: 0.3095 - mae: 0.3611 - mape: 114.7818 - val_loss: 0.6915 - val_mse: 0.6915 - val_mae: 0.6970 - val_mape: 129.4150\n",
      "Epoch 5/20\n",
      "2966/2966 [==============================] - 70s 24ms/step - loss: 0.3125 - mse: 0.3125 - mae: 0.3661 - mape: 147.8043 - val_loss: 0.8700 - val_mse: 0.8700 - val_mae: 0.7874 - val_mape: 154.2529\n",
      "Epoch 6/20\n",
      "2966/2966 [==============================] - 73s 25ms/step - loss: 0.2934 - mse: 0.2934 - mae: 0.3530 - mape: 112.6603 - val_loss: 0.9005 - val_mse: 0.9005 - val_mae: 0.7992 - val_mape: 156.9762\n",
      "Epoch 7/20\n",
      "2966/2966 [==============================] - 75s 25ms/step - loss: 0.3457 - mse: 0.3457 - mae: 0.3706 - mape: 129.8469 - val_loss: 0.6729 - val_mse: 0.6729 - val_mae: 0.6844 - val_mape: 117.1613\n",
      "Epoch 8/20\n",
      "2966/2966 [==============================] - 96s 32ms/step - loss: 0.3271 - mse: 0.3271 - mae: 0.3532 - mape: 143.5372 - val_loss: 1.0438 - val_mse: 1.0438 - val_mae: 0.8768 - val_mape: 207.8304\n",
      "Epoch 9/20\n",
      "2966/2966 [==============================] - 76s 26ms/step - loss: 0.3004 - mse: 0.3004 - mae: 0.3629 - mape: 160.5506 - val_loss: 0.8367 - val_mse: 0.8367 - val_mae: 0.7811 - val_mape: 174.6278\n",
      "Epoch 10/20\n",
      "2966/2966 [==============================] - 74s 25ms/step - loss: 0.2996 - mse: 0.2996 - mae: 0.3701 - mape: 106.4978 - val_loss: 0.8002 - val_mse: 0.8002 - val_mae: 0.7701 - val_mape: 175.3193\n",
      "Epoch 11/20\n",
      "2966/2966 [==============================] - 77s 26ms/step - loss: 0.2970 - mse: 0.2970 - mae: 0.3655 - mape: 147.9561 - val_loss: 0.8648 - val_mse: 0.8648 - val_mae: 0.7999 - val_mape: 185.9500\n",
      "Epoch 12/20\n",
      "2966/2966 [==============================] - 77s 26ms/step - loss: 0.3327 - mse: 0.3327 - mae: 0.3990 - mape: 128.6030 - val_loss: 0.7496 - val_mse: 0.7496 - val_mae: 0.7454 - val_mape: 169.8470\n",
      "Epoch 13/20\n",
      "2966/2966 [==============================] - 74s 25ms/step - loss: 0.2997 - mse: 0.2997 - mae: 0.3666 - mape: 129.3400 - val_loss: 0.8354 - val_mse: 0.8354 - val_mae: 0.7865 - val_mape: 196.3468\n",
      "Epoch 14/20\n",
      "2966/2966 [==============================] - 76s 25ms/step - loss: 0.3143 - mse: 0.3143 - mae: 0.3704 - mape: 135.8685 - val_loss: 0.8899 - val_mse: 0.8899 - val_mae: 0.8217 - val_mape: 202.8640\n",
      "Epoch 15/20\n",
      "2966/2966 [==============================] - 92s 31ms/step - loss: 0.3030 - mse: 0.3030 - mae: 0.3693 - mape: 153.6135 - val_loss: 0.8888 - val_mse: 0.8888 - val_mae: 0.8155 - val_mape: 195.6942\n",
      "Epoch 16/20\n",
      "2966/2966 [==============================] - 114s 38ms/step - loss: 0.2849 - mse: 0.2849 - mae: 0.3561 - mape: 131.8199 - val_loss: 0.8812 - val_mse: 0.8812 - val_mae: 0.8053 - val_mape: 172.6219\n",
      "Epoch 17/20\n",
      "2966/2966 [==============================] - 120s 40ms/step - loss: 0.2823 - mse: 0.2823 - mae: 0.3442 - mape: 102.0984 - val_loss: 0.8680 - val_mse: 0.8680 - val_mae: 0.7997 - val_mape: 184.5130\n",
      "Epoch 18/20\n",
      "2966/2966 [==============================] - 76s 25ms/step - loss: 0.2838 - mse: 0.2838 - mae: 0.3485 - mape: 167.7792 - val_loss: 0.7388 - val_mse: 0.7388 - val_mae: 0.7260 - val_mape: 154.9158\n",
      "Epoch 19/20\n",
      "2966/2966 [==============================] - 76s 26ms/step - loss: 0.3013 - mse: 0.3013 - mae: 0.3690 - mape: 133.9536 - val_loss: 0.8961 - val_mse: 0.8961 - val_mae: 0.8132 - val_mape: 179.4609\n",
      "Epoch 20/20\n",
      "2966/2966 [==============================] - 76s 25ms/step - loss: 0.2763 - mse: 0.2763 - mae: 0.3447 - mape: 130.3621 - val_loss: 0.8558 - val_mse: 0.8558 - val_mae: 0.7887 - val_mape: 174.3129\n"
     ]
    }
   ],
   "source": [
    "# fit the model\n",
    "import tensorflow as tf\n",
    "#early_stopping = tf.keras.callbacks.EarlyStopping(monitor='val_loss',patience=2,mode='min')\n",
    "\n",
    "#model.compile(loss=tf.losses.MeanSquaredError(),optimizer=tf.optimizers.Adam(),metrics=[tf.metrics.MeanAbsoluteError()])\n",
    "\n",
    "history = model.fit(train_generator, validation_data = test_generator, epochs=epoch, batch_size=200, verbose=1,shuffle=False)\n",
    "#model = load_model(r'C:\\Users\\ASUS\\Documents\\AllThingsPython\\GLO_NN\\NNModel_ann\\RNN_qo_type2_20+300')\n"
   ]
  },
  {
   "cell_type": "code",
   "execution_count": 36,
   "metadata": {},
   "outputs": [
    {
     "name": "stderr",
     "output_type": "stream",
     "text": [
      "WARNING:absl:Found untraced functions such as _update_step_xla while saving (showing 1 of 1). These functions will not be directly callable after loading.\n"
     ]
    },
    {
     "name": "stdout",
     "output_type": "stream",
     "text": [
      "INFO:tensorflow:Assets written to: RNN_qo_type4_20+300\\assets\n"
     ]
    },
    {
     "name": "stderr",
     "output_type": "stream",
     "text": [
      "INFO:tensorflow:Assets written to: RNN_qo_type4_20+300\\assets\n"
     ]
    }
   ],
   "source": [
    "model.save(filename)"
   ]
  },
  {
   "cell_type": "code",
   "execution_count": 37,
   "metadata": {},
   "outputs": [],
   "source": [
    "#from tensorflow.keras.models import load_model\n",
    "#model = load_model(\"RNN_model_resolved\")"
   ]
  },
  {
   "attachments": {},
   "cell_type": "markdown",
   "metadata": {},
   "source": [
    "Weights and Biasses"
   ]
  },
  {
   "cell_type": "code",
   "execution_count": 38,
   "metadata": {},
   "outputs": [
    {
     "data": {
      "text/plain": [
       "'xx = np.arange(0,len(history.history[\\'loss\\']))\\n\\nprint(history.history[\\'loss\\'])\\nprint(history.history[\\'val_loss\\'])\\nprint(xx)\\n\\nplt.figure(1)\\nplt.plot(xx,history.history[\\'loss\\'], label=\\'Training loss\\')\\nplt.plot(xx,history.history[\\'val_loss\\'], label=\\'Validation loss\\')\\nplt.title(\"Training Loss vs Validation Loss\")\\nplt.xlabel(\"epoch\")\\nplt.ylabel(\"val\")\\nplt.legend()\\nplt.grid()'"
      ]
     },
     "execution_count": 38,
     "metadata": {},
     "output_type": "execute_result"
    }
   ],
   "source": [
    "\"\"\"xx = np.arange(0,len(history.history['loss']))\n",
    "\n",
    "print(history.history['loss'])\n",
    "print(history.history['val_loss'])\n",
    "print(xx)\n",
    "\n",
    "plt.figure(1)\n",
    "plt.plot(xx,history.history['loss'], label='Training loss')\n",
    "plt.plot(xx,history.history['val_loss'], label='Validation loss')\n",
    "plt.title(\"Training Loss vs Validation Loss\")\n",
    "plt.xlabel(\"epoch\")\n",
    "plt.ylabel(\"val\")\n",
    "plt.legend()\n",
    "plt.grid()\"\"\""
   ]
  },
  {
   "attachments": {},
   "cell_type": "markdown",
   "metadata": {},
   "source": [
    "train value"
   ]
  },
  {
   "cell_type": "code",
   "execution_count": 39,
   "metadata": {},
   "outputs": [
    {
     "name": "stderr",
     "output_type": "stream",
     "text": [
      "C:\\Users\\ASUS\\AppData\\Local\\Temp/ipykernel_7088/2650077192.py:1: UserWarning: `Model.predict_generator` is deprecated and will be removed in a future version. Please use `Model.predict`, which supports generators.\n",
      "  y_pred_train = model.predict_generator(train_generator)\n"
     ]
    },
    {
     "name": "stdout",
     "output_type": "stream",
     "text": [
      "(2966, 1)\n",
      "(2966, 1)\n"
     ]
    }
   ],
   "source": [
    "y_pred_train = model.predict_generator(train_generator)\n",
    "df_pred_train = pd.concat([pd.DataFrame(y_pred_train), pd.DataFrame(trainX[:,:][lookback:])],axis=1)\n",
    "\n",
    "#rev_trans_train = scaler.inverse_transform(df_pred_train)\n",
    "rev_trans_train = scaler.inverse_transform(y_pred_train)\n",
    "\n",
    "y_predict_train = np.resize(rev_trans_train[:,0],(len(rev_trans_train[:,0]),1))\n",
    "y_real = y1[lookback:]\n",
    "\n",
    "df_final_train = pd.concat([pd.DataFrame(y_predict_train), pd.DataFrame(y_real)],axis=1)\n",
    "df_final_train\n",
    "print(y_predict_train.shape)\n",
    "print(y_real.shape)"
   ]
  },
  {
   "cell_type": "code",
   "execution_count": 40,
   "metadata": {},
   "outputs": [
    {
     "data": {
      "text/plain": [
       "Text(0.5, 1.0, 'NN Prediction Train')"
      ]
     },
     "execution_count": 40,
     "metadata": {},
     "output_type": "execute_result"
    },
    {
     "data": {
      "image/png": "[encoded data removed]",
      "text/plain": [
       "<Figure size 432x288 with 1 Axes>"
      ]
     },
     "metadata": {
      "needs_background": "light"
     },
     "output_type": "display_data"
    }
   ],
   "source": [
    "plt.plot(np.arange(0,len(y_predict_train)),y_predict_train,'-*',label='pred')\n",
    "plt.plot(np.arange(0,len(y_real)),y_real,'-o',label='real')\n",
    "plt.legend()\n",
    "plt.grid()\n",
    "plt.xlabel(\"days\")\n",
    "plt.ylabel(\"Oil Flow Rate\")\n",
    "plt.title(\"NN Prediction Train\")"
   ]
  },
  {
   "attachments": {},
   "cell_type": "markdown",
   "metadata": {},
   "source": [
    "Metric"
   ]
  },
  {
   "cell_type": "code",
   "execution_count": 41,
   "metadata": {},
   "outputs": [
    {
     "name": "stdout",
     "output_type": "stream",
     "text": [
      "Root Mean Square Error:\n",
      "48.51\n",
      "\n",
      "R2 Value:\n",
      "0.42\n"
     ]
    },
    {
     "data": {
      "text/plain": [
       "Text(0.5, 1.0, 'R2 Score= 0.42 of Training data')"
      ]
     },
     "execution_count": 41,
     "metadata": {},
     "output_type": "execute_result"
    },
    {
     "data": {
      "image/png": "[encoded data removed]",
      "text/plain": [
       "<Figure size 432x288 with 1 Axes>"
      ]
     },
     "metadata": {
      "needs_background": "light"
     },
     "output_type": "display_data"
    }
   ],
   "source": [
    "import math\n",
    "from sklearn.metrics import r2_score\n",
    "\n",
    "MSE = np.square(np.subtract(y_real,y_predict_train)).mean() \n",
    " \n",
    "RMSE = math.sqrt(MSE)\n",
    "print(\"Root Mean Square Error:\")\n",
    "print(round(RMSE,2))\n",
    "\n",
    "r2 = r2_score(y_real,y_predict_train)\n",
    "print(\"\\nR2 Value:\")\n",
    "print(round(r2,2))\n",
    "\n",
    "plt.scatter(y_real,y_predict_train)\n",
    "plt.plot(y_real,y_real,'g',label = '1D Fitting Validation')\n",
    "\n",
    "mymodel = np.poly1d(np.polyfit(y_predict_train.flatten(),np.array(y_real).flatten(), 1))\n",
    "myline = np.linspace(min(np.array(y_real)), max(np.array(y_real)))\n",
    "plt.plot(myline, mymodel(myline), color=\"orange\", label=f'1D Fitting Prediction of {mymodel}')\n",
    "\n",
    "plt.grid()\n",
    "plt.legend()\n",
    "plt.xlabel(\"Validation Data\")\n",
    "plt.ylabel(\"Prediction Data\")\n",
    "plt.title(f\"R2 Score= {round(r2,2)} of Training data\")"
   ]
  },
  {
   "attachments": {},
   "cell_type": "markdown",
   "metadata": {},
   "source": [
    "### Validating"
   ]
  },
  {
   "cell_type": "code",
   "execution_count": 42,
   "metadata": {},
   "outputs": [
    {
     "name": "stderr",
     "output_type": "stream",
     "text": [
      "C:\\Users\\ASUS\\AppData\\Local\\Temp/ipykernel_7088/3494749508.py:1: UserWarning: `Model.predict_generator` is deprecated and will be removed in a future version. Please use `Model.predict`, which supports generators.\n",
      "  y_pred_test = model.predict_generator(test_generator)\n"
     ]
    },
    {
     "name": "stdout",
     "output_type": "stream",
     "text": [
      "(1973, 1)\n",
      "(1973, 1)\n"
     ]
    }
   ],
   "source": [
    "y_pred_test = model.predict_generator(test_generator)\n",
    "rev_trans_test = scaler.inverse_transform(y_pred_test)\n",
    "\n",
    "y_predict_test = np.resize(rev_trans_test[:,0],(len(rev_trans_test[:,0]),1))\n",
    "y_real_test = y2[lookback:]\n",
    "\n",
    "df_final_test = pd.concat([pd.DataFrame(y_predict_test), pd.DataFrame(y_real_test)],axis=1)\n",
    "df_final_test\n",
    "print(y_predict_test.shape)\n",
    "print(y_real_test.shape)"
   ]
  },
  {
   "cell_type": "code",
   "execution_count": 43,
   "metadata": {},
   "outputs": [
    {
     "data": {
      "text/plain": [
       "Text(0.5, 1.0, 'NN Oil Rate Validation')"
      ]
     },
     "execution_count": 43,
     "metadata": {},
     "output_type": "execute_result"
    },
    {
     "data": {
      "image/png": "[encoded data removed]",
      "text/plain": [
       "<Figure size 432x288 with 1 Axes>"
      ]
     },
     "metadata": {
      "needs_background": "light"
     },
     "output_type": "display_data"
    }
   ],
   "source": [
    "plt.plot(np.arange(0,len(y_predict_test)),y_predict_test,'-*',label='pred')\n",
    "plt.plot(np.arange(0,len(y_real_test)),y_real_test,'-o',label='real')\n",
    "plt.grid()\n",
    "plt.legend()\n",
    "plt.xlabel(\"days\")\n",
    "plt.ylabel(\"Oil Rate\")\n",
    "plt.title(f\"NN Oil Rate Validation\")"
   ]
  },
  {
   "attachments": {},
   "cell_type": "markdown",
   "metadata": {},
   "source": [
    "Metric"
   ]
  },
  {
   "cell_type": "code",
   "execution_count": 44,
   "metadata": {},
   "outputs": [
    {
     "name": "stdout",
     "output_type": "stream",
     "text": [
      "Root Mean Square Error:\n",
      "56.2\n",
      "\n",
      "R2 Value:\n",
      "-1.02\n"
     ]
    },
    {
     "data": {
      "text/plain": [
       "Text(0.5, 1.0, 'R2 Score= -1.02 of Validation data')"
      ]
     },
     "execution_count": 44,
     "metadata": {},
     "output_type": "execute_result"
    },
    {
     "data": {
      "image/png": "[encoded data removed]",
      "text/plain": [
       "<Figure size 432x288 with 1 Axes>"
      ]
     },
     "metadata": {
      "needs_background": "light"
     },
     "output_type": "display_data"
    }
   ],
   "source": [
    "import math\n",
    "from sklearn.metrics import r2_score\n",
    "\n",
    "MSE = np.square(np.subtract(y_real_test,y_predict_test)).mean() \n",
    " \n",
    "RMSE = math.sqrt(MSE)\n",
    "print(\"Root Mean Square Error:\")\n",
    "print(round(RMSE,2))\n",
    "\n",
    "r2 = r2_score(y_real_test,y_predict_test)\n",
    "print(\"\\nR2 Value:\")\n",
    "print(round(r2,2))\n",
    "\n",
    "plt.scatter(y_real_test,y_predict_test)\n",
    "plt.plot(y_real_test,y_real_test,'g',label = '1D Fitting Validation')\n",
    "\n",
    "mymodel = np.poly1d(np.polyfit(y_predict_test.flatten(),np.array(y_real_test).flatten(), 1))\n",
    "myline = np.linspace(min(np.array(y_real_test)), max(np.array(y_real_test)))\n",
    "plt.plot(myline, mymodel(myline), color=\"orange\", label=f'1D Fitting Prediction of {mymodel}')\n",
    "\n",
    "plt.grid()\n",
    "plt.legend()\n",
    "plt.xlabel(\"Validation Data\")\n",
    "plt.ylabel(\"Prediction Data\")\n",
    "plt.title(f\"R2 Score= {round(r2,2)} of Validation data\")"
   ]
  },
  {
   "cell_type": "code",
   "execution_count": 45,
   "metadata": {},
   "outputs": [
    {
     "data": {
      "text/plain": [
       "array([[[  36.62722131,   59.27596992, -104.2148646 ,   58.95509156],\n",
       "        [  36.62722131,   59.27596992, -104.2148646 ,   58.95509156],\n",
       "        [  36.62722131,   59.27596992, -104.2148646 ,   58.95509156],\n",
       "        [  36.62722131,   59.27596992, -104.2148646 ,   58.95509156],\n",
       "        [  36.62722131,   59.27596992, -104.2148646 ,   58.95509156],\n",
       "        [  36.62722131,   59.27596992, -104.2148646 ,   58.95509156],\n",
       "        [  36.62722131,   59.27596992, -104.2148646 ,   58.95509156],\n",
       "        [  36.62722131,   59.27596992, -104.2148646 ,   58.95509156],\n",
       "        [  36.62722131,   59.27596992, -104.2148646 ,   58.95509156],\n",
       "        [  36.62722131,   59.27596992, -104.2148646 ,   58.95509156],\n",
       "        [  36.62722131,   59.27596992, -104.2148646 ,   58.95509156],\n",
       "        [  36.62722131,   59.27596992, -104.2148646 ,   58.95509156],\n",
       "        [  36.62722131,   59.27596992, -104.2148646 ,   58.95509156],\n",
       "        [  36.62722131,   59.27596992, -104.2148646 ,   58.95509156]]])"
      ]
     },
     "execution_count": 45,
     "metadata": {},
     "output_type": "execute_result"
    }
   ],
   "source": [
    "a = scaler.inverse_transform(train_generator[0][0])\n",
    "a"
   ]
  },
  {
   "attachments": {},
   "cell_type": "markdown",
   "metadata": {},
   "source": [
    "## IMPLEMENTATION"
   ]
  },
  {
   "cell_type": "code",
   "execution_count": 31,
   "metadata": {},
   "outputs": [
    {
     "name": "stdout",
     "output_type": "stream",
     "text": [
      "Model: \"sequential_7\"\n",
      "_________________________________________________________________\n",
      " Layer (type)                Output Shape              Param #   \n",
      "=================================================================\n",
      " lstm_25 (LSTM)              (None, 14, 14)            896       \n",
      "                                                                 \n",
      " lstm_26 (LSTM)              (None, 14, 7)             616       \n",
      "                                                                 \n",
      " lstm_27 (LSTM)              (None, 4)                 192       \n",
      "                                                                 \n",
      " dropout_7 (Dropout)         (None, 4)                 0         \n",
      "                                                                 \n",
      " dense_7 (Dense)             (None, 1)                 5         \n",
      "                                                                 \n",
      "=================================================================\n",
      "Total params: 1,709\n",
      "Trainable params: 1,709\n",
      "Non-trainable params: 0\n",
      "_________________________________________________________________\n",
      "Model: \"sequential_7\"\n",
      "_________________________________________________________________\n",
      " Layer (type)                Output Shape              Param #   \n",
      "=================================================================\n",
      " lstm_25 (LSTM)              (None, 14, 14)            896       \n",
      "                                                                 \n",
      " lstm_26 (LSTM)              (None, 14, 7)             616       \n",
      "                                                                 \n",
      " lstm_27 (LSTM)              (None, 4)                 192       \n",
      "                                                                 \n",
      " dropout_7 (Dropout)         (None, 4)                 0         \n",
      "                                                                 \n",
      " dense_7 (Dense)             (None, 1)                 5         \n",
      "                                                                 \n",
      "=================================================================\n",
      "Total params: 1,709\n",
      "Trainable params: 1,709\n",
      "Non-trainable params: 0\n",
      "_________________________________________________________________\n"
     ]
    },
    {
     "data": {
      "text/plain": [
       "'None'"
      ]
     },
     "execution_count": 31,
     "metadata": {},
     "output_type": "execute_result"
    }
   ],
   "source": [
    "type(str(model.summary(\"\")))\n",
    "str(model.summary(\"\"))"
   ]
  },
  {
   "cell_type": "code",
   "execution_count": 1,
   "metadata": {},
   "outputs": [
    {
     "name": "stderr",
     "output_type": "stream",
     "text": [
      "c:\\Users\\ASUS\\AppData\\Local\\Programs\\Python\\Python39\\lib\\site-packages\\scipy\\__init__.py:146: UserWarning: A NumPy version >=1.16.5 and <1.23.0 is required for this version of SciPy (detected version 1.23.5\n",
      "  warnings.warn(f\"A NumPy version >={np_minversion} and <{np_maxversion}\"\n"
     ]
    },
    {
     "name": "stdout",
     "output_type": "stream",
     "text": [
      "C:\\Users\\ASUS\\Documents\\AllThingsPython\\GLO_NN\\NNModel_ann\\RNN_wc1_type4_20+300\n",
      "Model: \"sequential_7\"\n",
      "_________________________________________________________________\n",
      " Layer (type)                Output Shape              Param #   \n",
      "=================================================================\n",
      " lstm_25 (LSTM)              (None, 14, 14)            896       \n",
      "                                                                 \n",
      " lstm_26 (LSTM)              (None, 14, 7)             616       \n",
      "                                                                 \n",
      " lstm_27 (LSTM)              (None, 4)                 192       \n",
      "                                                                 \n",
      " dropout_7 (Dropout)         (None, 4)                 0         \n",
      "                                                                 \n",
      " dense_7 (Dense)             (None, 1)                 5         \n",
      "                                                                 \n",
      "=================================================================\n",
      "Total params: 1,709\n",
      "Trainable params: 1,709\n",
      "Non-trainable params: 0\n",
      "_________________________________________________________________\n",
      "None\n",
      "Model: \"sequential_7\"\n",
      "_________________________________________________________________\n",
      " Layer (type)                Output Shape              Param #   \n",
      "=================================================================\n",
      " lstm_25 (LSTM)              (None, 14, 14)            896       \n",
      "                                                                 \n",
      " lstm_26 (LSTM)              (None, 14, 7)             616       \n",
      "                                                                 \n",
      " lstm_27 (LSTM)              (None, 4)                 192       \n",
      "                                                                 \n",
      " dropout_7 (Dropout)         (None, 4)                 0         \n",
      "                                                                 \n",
      " dense_7 (Dense)             (None, 1)                 5         \n",
      "                                                                 \n",
      "=================================================================\n",
      "Total params: 1,709\n",
      "Trainable params: 1,709\n",
      "Non-trainable params: 0\n",
      "_________________________________________________________________\n",
      "You must install pydot (`pip install pydot`) and install graphviz (see instructions at https://graphviz.gitlab.io/download/) for plot_model to work.\n"
     ]
    },
    {
     "data": {
      "image/png": "[encoded data removed]",
      "text/plain": [
       "<Figure size 432x288 with 1 Axes>"
      ]
     },
     "metadata": {
      "needs_background": "light"
     },
     "output_type": "display_data"
    }
   ],
   "source": [
    "from tensorflow.keras.models import load_model\n",
    "from matplotlib import pyplot as plt\n",
    "from keras.utils.vis_utils import plot_model\n",
    "\n",
    "file_pre = 'C:/Users/ASUS/Documents/AllThingsPython/GLO_NN/NNModel_ann/RNN_wc1_type4_20+300'\n",
    "file_pretrained = file_pre.replace('/','\\\\')\n",
    "print(file_pretrained)\n",
    "model = load_model(f\"{file_pretrained}\")\n",
    "print(str(model.summary(\"\")))\n",
    "\n",
    "#plt.rc('figure', figsize=(8, 5))\n",
    "plt.text(0.01, 0.05, str(model.summary(\"\")), {'fontsize': 10}, fontproperties = 'monospace')\n",
    "plt.axis('off')\n",
    "plt.tight_layout()\n",
    "#plt.savefig('results.png')\n",
    "plot_model(model, to_file='model_plot.png', show_shapes=True, show_layer_names=True)"
   ]
  },
  {
   "cell_type": "code",
   "execution_count": 47,
   "metadata": {},
   "outputs": [
    {
     "name": "stdout",
     "output_type": "stream",
     "text": [
      "1/1 [==============================] - 0s 29ms/step\n",
      "1/1 [==============================] - 0s 42ms/step\n",
      "1/1 [==============================] - 0s 53ms/step\n",
      "1/1 [==============================] - 0s 29ms/step\n",
      "1/1 [==============================] - 0s 24ms/step\n",
      "1/1 [==============================] - 0s 34ms/step\n",
      "1/1 [==============================] - 0s 28ms/step\n",
      "1/1 [==============================] - 0s 25ms/step\n",
      "1/1 [==============================] - 0s 25ms/step\n",
      "1/1 [==============================] - 0s 34ms/step\n",
      "1/1 [==============================] - 0s 24ms/step\n",
      "1/1 [==============================] - 0s 34ms/step\n",
      "1/1 [==============================] - 0s 33ms/step\n",
      "1/1 [==============================] - 0s 24ms/step\n",
      "1/1 [==============================] - 0s 49ms/step\n",
      "1/1 [==============================] - 0s 24ms/step\n",
      "1/1 [==============================] - 0s 25ms/step\n",
      "1/1 [==============================] - 0s 33ms/step\n",
      "1/1 [==============================] - 0s 27ms/step\n",
      "1/1 [==============================] - 0s 24ms/step\n",
      "1/1 [==============================] - 0s 32ms/step\n",
      "1/1 [==============================] - 0s 34ms/step\n",
      "1/1 [==============================] - 0s 31ms/step\n",
      "1/1 [==============================] - 0s 32ms/step\n",
      "1/1 [==============================] - 0s 32ms/step\n",
      "1/1 [==============================] - 0s 32ms/step\n",
      "1/1 [==============================] - 0s 24ms/step\n",
      "1/1 [==============================] - 0s 42ms/step\n",
      "1/1 [==============================] - 0s 26ms/step\n",
      "1/1 [==============================] - 0s 56ms/step\n",
      "1/1 [==============================] - 0s 29ms/step\n",
      "1/1 [==============================] - 0s 27ms/step\n",
      "1/1 [==============================] - 0s 42ms/step\n",
      "1/1 [==============================] - 0s 44ms/step\n",
      "1/1 [==============================] - 0s 41ms/step\n",
      "1/1 [==============================] - 0s 32ms/step\n",
      "1/1 [==============================] - 0s 25ms/step\n",
      "1/1 [==============================] - 0s 33ms/step\n",
      "1/1 [==============================] - 0s 32ms/step\n",
      "1/1 [==============================] - 0s 33ms/step\n",
      "1/1 [==============================] - 0s 32ms/step\n",
      "1/1 [==============================] - 0s 24ms/step\n",
      "1/1 [==============================] - 0s 24ms/step\n",
      "1/1 [==============================] - 0s 32ms/step\n",
      "1/1 [==============================] - 0s 32ms/step\n",
      "1/1 [==============================] - 0s 25ms/step\n",
      "1/1 [==============================] - 0s 32ms/step\n",
      "1/1 [==============================] - 0s 33ms/step\n",
      "1/1 [==============================] - 0s 32ms/step\n",
      "1/1 [==============================] - 0s 24ms/step\n",
      "1/1 [==============================] - 0s 26ms/step\n",
      "1/1 [==============================] - 0s 25ms/step\n",
      "1/1 [==============================] - 0s 34ms/step\n",
      "1/1 [==============================] - 0s 32ms/step\n",
      "1/1 [==============================] - 0s 24ms/step\n",
      "1/1 [==============================] - 0s 26ms/step\n",
      "1/1 [==============================] - 0s 41ms/step\n",
      "1/1 [==============================] - 0s 25ms/step\n",
      "1/1 [==============================] - 0s 34ms/step\n",
      "1/1 [==============================] - 0s 26ms/step\n",
      "1/1 [==============================] - 0s 50ms/step\n",
      "1/1 [==============================] - 0s 24ms/step\n",
      "1/1 [==============================] - 0s 49ms/step\n",
      "1/1 [==============================] - 0s 24ms/step\n",
      "1/1 [==============================] - 0s 24ms/step\n",
      "1/1 [==============================] - 0s 26ms/step\n",
      "1/1 [==============================] - 0s 25ms/step\n",
      "1/1 [==============================] - 0s 24ms/step\n",
      "1/1 [==============================] - 0s 25ms/step\n",
      "1/1 [==============================] - 0s 60ms/step\n",
      "1/1 [==============================] - 0s 26ms/step\n",
      "1/1 [==============================] - 0s 66ms/step\n",
      "1/1 [==============================] - 0s 57ms/step\n",
      "1/1 [==============================] - 0s 51ms/step\n",
      "1/1 [==============================] - 0s 58ms/step\n",
      "1/1 [==============================] - 0s 59ms/step\n",
      "1/1 [==============================] - 0s 33ms/step\n",
      "1/1 [==============================] - 0s 58ms/step\n",
      "1/1 [==============================] - 0s 49ms/step\n",
      "1/1 [==============================] - 0s 41ms/step\n",
      "1/1 [==============================] - 0s 41ms/step\n",
      "1/1 [==============================] - 0s 40ms/step\n",
      "1/1 [==============================] - 0s 24ms/step\n",
      "1/1 [==============================] - 0s 25ms/step\n",
      "1/1 [==============================] - 0s 16ms/step\n",
      "1/1 [==============================] - 0s 33ms/step\n",
      "1/1 [==============================] - 0s 42ms/step\n",
      "1/1 [==============================] - 0s 32ms/step\n",
      "1/1 [==============================] - 0s 26ms/step\n",
      "1/1 [==============================] - 0s 17ms/step\n",
      "1/1 [==============================] - 0s 34ms/step\n",
      "1/1 [==============================] - 0s 25ms/step\n",
      "1/1 [==============================] - 0s 17ms/step\n",
      "1/1 [==============================] - 0s 24ms/step\n",
      "1/1 [==============================] - 0s 25ms/step\n",
      "1/1 [==============================] - 0s 24ms/step\n",
      "1/1 [==============================] - 0s 29ms/step\n",
      "1/1 [==============================] - 0s 25ms/step\n",
      "1/1 [==============================] - 0s 24ms/step\n",
      "1/1 [==============================] - 0s 24ms/step\n",
      "1/1 [==============================] - 0s 24ms/step\n",
      "1/1 [==============================] - 0s 24ms/step\n",
      "1/1 [==============================] - 0s 29ms/step\n",
      "1/1 [==============================] - 0s 24ms/step\n",
      "1/1 [==============================] - 0s 44ms/step\n",
      "1/1 [==============================] - 0s 50ms/step\n",
      "1/1 [==============================] - 0s 24ms/step\n",
      "1/1 [==============================] - 0s 24ms/step\n",
      "1/1 [==============================] - 0s 24ms/step\n",
      "1/1 [==============================] - 0s 24ms/step\n",
      "1/1 [==============================] - 0s 40ms/step\n",
      "1/1 [==============================] - 0s 26ms/step\n",
      "1/1 [==============================] - 0s 32ms/step\n",
      "1/1 [==============================] - 0s 36ms/step\n",
      "1/1 [==============================] - 0s 24ms/step\n",
      "1/1 [==============================] - 0s 24ms/step\n",
      "1/1 [==============================] - 0s 24ms/step\n",
      "1/1 [==============================] - 0s 48ms/step\n",
      "1/1 [==============================] - 0s 25ms/step\n",
      "1/1 [==============================] - 0s 56ms/step\n",
      "1/1 [==============================] - 0s 24ms/step\n",
      "1/1 [==============================] - 0s 24ms/step\n",
      "1/1 [==============================] - 0s 24ms/step\n",
      "1/1 [==============================] - 0s 41ms/step\n",
      "1/1 [==============================] - 0s 32ms/step\n",
      "1/1 [==============================] - 0s 33ms/step\n",
      "1/1 [==============================] - 0s 24ms/step\n",
      "1/1 [==============================] - 0s 32ms/step\n",
      "1/1 [==============================] - 0s 49ms/step\n",
      "1/1 [==============================] - 0s 32ms/step\n",
      "1/1 [==============================] - 0s 32ms/step\n",
      "1/1 [==============================] - 0s 24ms/step\n",
      "1/1 [==============================] - 0s 24ms/step\n",
      "1/1 [==============================] - 0s 33ms/step\n",
      "1/1 [==============================] - 0s 32ms/step\n",
      "1/1 [==============================] - 0s 24ms/step\n",
      "1/1 [==============================] - 0s 40ms/step\n",
      "1/1 [==============================] - 0s 40ms/step\n",
      "1/1 [==============================] - 0s 33ms/step\n",
      "1/1 [==============================] - 0s 32ms/step\n",
      "1/1 [==============================] - 0s 42ms/step\n",
      "1/1 [==============================] - 0s 51ms/step\n",
      "1/1 [==============================] - 0s 34ms/step\n",
      "1/1 [==============================] - 0s 41ms/step\n",
      "1/1 [==============================] - 0s 24ms/step\n",
      "1/1 [==============================] - 0s 33ms/step\n",
      "1/1 [==============================] - 0s 16ms/step\n",
      "1/1 [==============================] - 0s 16ms/step\n",
      "1/1 [==============================] - 0s 24ms/step\n",
      "1/1 [==============================] - 0s 27ms/step\n"
     ]
    },
    {
     "data": {
      "text/html": [
       "<div>\n",
       "<style scoped>\n",
       "    .dataframe tbody tr th:only-of-type {\n",
       "        vertical-align: middle;\n",
       "    }\n",
       "\n",
       "    .dataframe tbody tr th {\n",
       "        vertical-align: top;\n",
       "    }\n",
       "\n",
       "    .dataframe thead th {\n",
       "        text-align: right;\n",
       "    }\n",
       "</style>\n",
       "<table border=\"1\" class=\"dataframe\">\n",
       "  <thead>\n",
       "    <tr style=\"text-align: right;\">\n",
       "      <th></th>\n",
       "      <th>pred qo</th>\n",
       "      <th>glir11</th>\n",
       "      <th>wc11</th>\n",
       "      <th>ch11</th>\n",
       "      <th>gor11</th>\n",
       "      <th>pred qt</th>\n",
       "      <th>pred qw</th>\n",
       "    </tr>\n",
       "  </thead>\n",
       "  <tbody>\n",
       "    <tr>\n",
       "      <th>0</th>\n",
       "      <td>89.895134</td>\n",
       "      <td>5742.0</td>\n",
       "      <td>12.0</td>\n",
       "      <td>793.0</td>\n",
       "      <td>20268.0</td>\n",
       "      <td>102.153561</td>\n",
       "      <td>12.258427</td>\n",
       "    </tr>\n",
       "    <tr>\n",
       "      <th>1</th>\n",
       "      <td>110.888596</td>\n",
       "      <td>4995.0</td>\n",
       "      <td>21.0</td>\n",
       "      <td>1405.0</td>\n",
       "      <td>79024.0</td>\n",
       "      <td>140.365311</td>\n",
       "      <td>29.476715</td>\n",
       "    </tr>\n",
       "    <tr>\n",
       "      <th>2</th>\n",
       "      <td>117.281494</td>\n",
       "      <td>2023.0</td>\n",
       "      <td>36.0</td>\n",
       "      <td>1010.0</td>\n",
       "      <td>8737.0</td>\n",
       "      <td>183.252335</td>\n",
       "      <td>65.970840</td>\n",
       "    </tr>\n",
       "    <tr>\n",
       "      <th>3</th>\n",
       "      <td>114.285706</td>\n",
       "      <td>5644.0</td>\n",
       "      <td>25.0</td>\n",
       "      <td>1439.0</td>\n",
       "      <td>339.0</td>\n",
       "      <td>152.380941</td>\n",
       "      <td>38.095235</td>\n",
       "    </tr>\n",
       "    <tr>\n",
       "      <th>4</th>\n",
       "      <td>112.678162</td>\n",
       "      <td>1806.0</td>\n",
       "      <td>27.0</td>\n",
       "      <td>778.0</td>\n",
       "      <td>42298.0</td>\n",
       "      <td>154.353646</td>\n",
       "      <td>41.675484</td>\n",
       "    </tr>\n",
       "    <tr>\n",
       "      <th>...</th>\n",
       "      <td>...</td>\n",
       "      <td>...</td>\n",
       "      <td>...</td>\n",
       "      <td>...</td>\n",
       "      <td>...</td>\n",
       "      <td>...</td>\n",
       "      <td>...</td>\n",
       "    </tr>\n",
       "    <tr>\n",
       "      <th>145</th>\n",
       "      <td>125.903290</td>\n",
       "      <td>4301.0</td>\n",
       "      <td>14.0</td>\n",
       "      <td>427.0</td>\n",
       "      <td>6690.0</td>\n",
       "      <td>146.399174</td>\n",
       "      <td>20.495884</td>\n",
       "    </tr>\n",
       "    <tr>\n",
       "      <th>146</th>\n",
       "      <td>107.588867</td>\n",
       "      <td>2344.0</td>\n",
       "      <td>60.0</td>\n",
       "      <td>1386.0</td>\n",
       "      <td>73331.0</td>\n",
       "      <td>268.972168</td>\n",
       "      <td>161.383301</td>\n",
       "    </tr>\n",
       "    <tr>\n",
       "      <th>147</th>\n",
       "      <td>117.214081</td>\n",
       "      <td>5979.0</td>\n",
       "      <td>26.0</td>\n",
       "      <td>634.0</td>\n",
       "      <td>60597.0</td>\n",
       "      <td>158.397407</td>\n",
       "      <td>41.183326</td>\n",
       "    </tr>\n",
       "    <tr>\n",
       "      <th>148</th>\n",
       "      <td>107.229019</td>\n",
       "      <td>220.0</td>\n",
       "      <td>42.0</td>\n",
       "      <td>682.0</td>\n",
       "      <td>12449.0</td>\n",
       "      <td>184.877619</td>\n",
       "      <td>77.648600</td>\n",
       "    </tr>\n",
       "    <tr>\n",
       "      <th>149</th>\n",
       "      <td>106.795563</td>\n",
       "      <td>474.0</td>\n",
       "      <td>28.0</td>\n",
       "      <td>713.0</td>\n",
       "      <td>77415.0</td>\n",
       "      <td>148.327170</td>\n",
       "      <td>41.531608</td>\n",
       "    </tr>\n",
       "  </tbody>\n",
       "</table>\n",
       "<p>150 rows × 7 columns</p>\n",
       "</div>"
      ],
      "text/plain": [
       "        pred qo  glir11  wc11    ch11    gor11     pred qt     pred qw\n",
       "0     89.895134  5742.0  12.0   793.0  20268.0  102.153561   12.258427\n",
       "1    110.888596  4995.0  21.0  1405.0  79024.0  140.365311   29.476715\n",
       "2    117.281494  2023.0  36.0  1010.0   8737.0  183.252335   65.970840\n",
       "3    114.285706  5644.0  25.0  1439.0    339.0  152.380941   38.095235\n",
       "4    112.678162  1806.0  27.0   778.0  42298.0  154.353646   41.675484\n",
       "..          ...     ...   ...     ...      ...         ...         ...\n",
       "145  125.903290  4301.0  14.0   427.0   6690.0  146.399174   20.495884\n",
       "146  107.588867  2344.0  60.0  1386.0  73331.0  268.972168  161.383301\n",
       "147  117.214081  5979.0  26.0   634.0  60597.0  158.397407   41.183326\n",
       "148  107.229019   220.0  42.0   682.0  12449.0  184.877619   77.648600\n",
       "149  106.795563   474.0  28.0   713.0  77415.0  148.327170   41.531608\n",
       "\n",
       "[150 rows x 7 columns]"
      ]
     },
     "execution_count": 47,
     "metadata": {},
     "output_type": "execute_result"
    },
    {
     "data": {
      "image/png": "[encoded data removed]",
      "text/plain": [
       "<Figure size 432x288 with 1 Axes>"
      ]
     },
     "metadata": {
      "needs_background": "light"
     },
     "output_type": "display_data"
    }
   ],
   "source": [
    "import numpy as np\n",
    "import random\n",
    "import pandas as pd\n",
    "from sklearn.preprocessing import StandardScaler, MinMaxScaler\n",
    "from tensorflow.keras.models import load_model\n",
    "#model = load_model(r'C:\\Users\\ASUS\\Documents\\AllThingsPython\\GLO_NN\\NNModel_new\\RNN_qo_type7_100+14')\n",
    "#model = load_model(r'C:\\Users\\ASUS\\Documents\\AllThingsPython\\GLO_NN\\NNModel_ann\\RNN_qo_type2_20+300')\n",
    "o = list(np.ones(14)*180)\n",
    "p = list(np.ones(14)*250)\n",
    "q = list(np.ones(14)*700)\n",
    "r = list(np.ones(14)*100)\n",
    "\n",
    "tot = np.stack((o,p,q,r),axis=1).reshape(1,-1,4)\n",
    "#scale = StandardScaler(tot[0][:][:])\n",
    "#tot = scale.fit_transform(tot)\n",
    "#print(tot)\n",
    "scaler = StandardScaler()\n",
    "scale = StandardScaler().fit(y)\n",
    "SS = scale.fit_transform(y)\n",
    "tot.shape\n",
    "otemp = o\n",
    "ptemp = p\n",
    "qtemp = q\n",
    "rtemp = r\n",
    "#x = 'glir11','wc11','ch11','gor11']]\n",
    "t=0\n",
    "value_features = []\n",
    "value_pred = []\n",
    "qt_tot = []\n",
    "qw_tot = []\n",
    "while t<150:\n",
    "    #otemp.append(random.randint(54,300))\n",
    "    #ptemp.append(random.randint(4,63))\n",
    "    #qtemp.append(random.randint(465,1767))\n",
    "    #rtemp.append(random.randint(7615,21955))\n",
    "    \n",
    "    otemp.append(random.randint(20,6220))\n",
    "    ptemp.append(random.randint(5,60))\n",
    "    qtemp.append(random.randint(392,1737))\n",
    "    rtemp.append(random.randint(10,107361))\n",
    "    #otemp.append(5.4*t+100)\n",
    "    #ptemp.append(3.2*t+20)\n",
    "    #qtemp.append(2*t)\n",
    "    #rtemp.append(10*t+10)\n",
    "    o = otemp[-14:]\n",
    "    p = ptemp[-14:]\n",
    "    q = qtemp[-14:]\n",
    "    r = rtemp[-14:]\n",
    "\n",
    "    tot = np.stack((o,p,q,r),axis=1).reshape(1,-1,4)\n",
    "    current = tot[0][-1][:]\n",
    "    wc = tot[0][-1][1]\n",
    "    #print(tot)\n",
    "    Tot = scaler.fit_transform(tot[0])\n",
    "    Tot = Tot.reshape(1,14,4)\n",
    "    s = model.predict(Tot)\n",
    "    S = scale.inverse_transform(s)\n",
    "\n",
    "    qt = S[0][0]/((100-wc)/100)\n",
    "    qw = qt-S[0][0]\n",
    "\n",
    "    value_pred.append(abs(S[0][0]))\n",
    "    value_features.append(current)\n",
    "    qt_tot.append(qt)\n",
    "    qw_tot.append(qw)\n",
    "    t+=1\n",
    "\n",
    "header = ['glir11','wc11','ch11','gor11']\n",
    "dff = pd.concat([pd.DataFrame(value_pred,columns=['pred qo']), pd.DataFrame(value_features,columns=header),\n",
    "    pd.DataFrame(qt_tot,columns=['pred qt']), pd.DataFrame(qw_tot,columns=['pred qw'])],axis=1)\n",
    "\n",
    "import matplotlib.pyplot as plt\n",
    "\n",
    "#plt.plot(dff[['glir11']],label='predicted glir')\n",
    "plt.plot(value_pred,label='predicted qo')\n",
    "#plt.plot(qt_tot,label='predicted qt')\n",
    "#plt.plot(qw_tot,label='predicted qw')\n",
    "plt.legend()\n",
    "plt.grid()\n",
    "plt.xlabel('days')\n",
    "plt.ylabel('Oil Flow Rate (stb/day)')\n",
    "plt.title(\"Prediction of Well Dynamics\")\n",
    "\n",
    "dff\n"
   ]
  },
  {
   "cell_type": "code",
   "execution_count": 1,
   "metadata": {},
   "outputs": [
    {
     "name": "stdout",
     "output_type": "stream",
     "text": [
      "[0.0, 0.24528301886792453, 0.4339622641509434, 0.6226415094339622, 1.0]\n"
     ]
    }
   ],
   "source": [
    "def normalize_rmse_values(rmse_values, new_min, new_max):\n",
    "    min_value = min(rmse_values)\n",
    "    max_value = max(rmse_values)\n",
    "    \n",
    "    normalized_values = []\n",
    "    for value in rmse_values:\n",
    "        normalized_value = (value - min_value) / (max_value - min_value) * (new_max - new_min) + new_min\n",
    "        normalized_values.append(normalized_value)\n",
    "    \n",
    "    return normalized_values\n",
    "\n",
    "rmse_values = [27, 40, 50, 60, 80]\n",
    "new_min = 0\n",
    "new_max = 1\n",
    "\n",
    "normalized_values = normalize_rmse_values(rmse_values, new_min, new_max)\n",
    "print(normalized_values)"
   ]
  },
  {
   "cell_type": "code",
   "execution_count": null,
   "metadata": {},
   "outputs": [],
   "source": []
  }
 ],
 "metadata": {
  "kernelspec": {
   "display_name": "Python 3",
   "language": "python",
   "name": "python3"
  },
  "language_info": {
   "codemirror_mode": {
    "name": "ipython",
    "version": 3
   },
   "file_extension": ".py",
   "mimetype": "text/x-python",
   "name": "python",
   "nbconvert_exporter": "python",
   "pygments_lexer": "ipython3",
   "version": "3.9.4"
  },
  "orig_nbformat": 4,
  "vscode": {
   "interpreter": {
    "hash": "14958d3aee5f1cad06795f787e54b96185c25fb40dfec723a5be941f3a531b8c"
   }
  }
 },
 "nbformat": 4,
 "nbformat_minor": 2
}
